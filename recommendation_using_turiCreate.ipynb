{
  "nbformat": 4,
  "nbformat_minor": 0,
  "metadata": {
    "colab": {
      "name": "Question3_final.ipynb",
      "version": "0.3.2",
      "provenance": [],
      "collapsed_sections": []
    },
    "kernelspec": {
      "name": "python3",
      "display_name": "Python 3"
    }
  },
  "cells": [
    {
      "cell_type": "code",
      "metadata": {
        "id": "SFJV8tKH-Nq6",
        "colab_type": "code",
        "outputId": "da097226-fe1b-48cf-beda-e8efb71ce7bc",
        "colab": {
          "base_uri": "https://localhost:8080/",
          "height": 1476
        }
      },
      "source": [
        "!apt install libnvrtc8.0\n",
        "!pip uninstall -y mxnet-cu80 && pip install mxnet-cu80==1.1.0\n",
        "!pip install turicreate\n",
        "!pip install numpy"
      ],
      "execution_count": 1,
      "outputs": [
        {
          "output_type": "stream",
          "text": [
            "Reading package lists... Done\n",
            "Building dependency tree       \n",
            "Reading state information... Done\n",
            "E: Unable to locate package libnvrtc8.0\n",
            "E: Couldn't find any package by glob 'libnvrtc8.0'\n",
            "E: Couldn't find any package by regex 'libnvrtc8.0'\n",
            "\u001b[33mWARNING: Skipping mxnet-cu80 as it is not installed.\u001b[0m\n",
            "Collecting mxnet-cu80==1.1.0\n",
            "\u001b[?25l  Downloading https://files.pythonhosted.org/packages/9c/55/bcfd26fd408a4bab27bca1ef5dc1df42954509c904699a6c371d5a4c23ab/mxnet_cu80-1.1.0-py2.py3-none-manylinux1_x86_64.whl (274.9MB)\n",
            "\u001b[K     |████████████████████████████████| 274.9MB 23kB/s \n",
            "\u001b[?25hCollecting graphviz==0.8.1 (from mxnet-cu80==1.1.0)\n",
            "  Downloading https://files.pythonhosted.org/packages/82/cc/668725769a1b184322019b494bbdfbb82bbef5cecc1dd8be6f778cf1422b/graphviz-0.8.1-py2.py3-none-any.whl\n",
            "Collecting requests==2.18.4 (from mxnet-cu80==1.1.0)\n",
            "\u001b[?25l  Downloading https://files.pythonhosted.org/packages/49/df/50aa1999ab9bde74656c2919d9c0c085fd2b3775fd3eca826012bef76d8c/requests-2.18.4-py2.py3-none-any.whl (88kB)\n",
            "\u001b[K     |████████████████████████████████| 92kB 22.5MB/s \n",
            "\u001b[?25hCollecting numpy<=1.13.3 (from mxnet-cu80==1.1.0)\n",
            "\u001b[?25l  Downloading https://files.pythonhosted.org/packages/57/a7/e3e6bd9d595125e1abbe162e323fd2d06f6f6683185294b79cd2cdb190d5/numpy-1.13.3-cp36-cp36m-manylinux1_x86_64.whl (17.0MB)\n",
            "\u001b[K     |████████████████████████████████| 17.0MB 29.2MB/s \n",
            "\u001b[?25hRequirement already satisfied: certifi>=2017.4.17 in /usr/local/lib/python3.6/dist-packages (from requests==2.18.4->mxnet-cu80==1.1.0) (2019.3.9)\n",
            "Collecting idna<2.7,>=2.5 (from requests==2.18.4->mxnet-cu80==1.1.0)\n",
            "\u001b[?25l  Downloading https://files.pythonhosted.org/packages/27/cc/6dd9a3869f15c2edfab863b992838277279ce92663d334df9ecf5106f5c6/idna-2.6-py2.py3-none-any.whl (56kB)\n",
            "\u001b[K     |████████████████████████████████| 61kB 21.8MB/s \n",
            "\u001b[?25hRequirement already satisfied: chardet<3.1.0,>=3.0.2 in /usr/local/lib/python3.6/dist-packages (from requests==2.18.4->mxnet-cu80==1.1.0) (3.0.4)\n",
            "Collecting urllib3<1.23,>=1.21.1 (from requests==2.18.4->mxnet-cu80==1.1.0)\n",
            "\u001b[?25l  Downloading https://files.pythonhosted.org/packages/63/cb/6965947c13a94236f6d4b8223e21beb4d576dc72e8130bd7880f600839b8/urllib3-1.22-py2.py3-none-any.whl (132kB)\n",
            "\u001b[K     |████████████████████████████████| 133kB 34.6MB/s \n",
            "\u001b[31mERROR: spacy 2.0.18 has requirement numpy>=1.15.0, but you'll have numpy 1.13.3 which is incompatible.\u001b[0m\n",
            "\u001b[31mERROR: imgaug 0.2.9 has requirement numpy>=1.15.0, but you'll have numpy 1.13.3 which is incompatible.\u001b[0m\n",
            "\u001b[31mERROR: google-colab 1.0.0 has requirement requests~=2.21.0, but you'll have requests 2.18.4 which is incompatible.\u001b[0m\n",
            "\u001b[31mERROR: fastai 1.0.52 has requirement numpy>=1.15, but you'll have numpy 1.13.3 which is incompatible.\u001b[0m\n",
            "\u001b[31mERROR: datascience 0.10.6 has requirement folium==0.2.1, but you'll have folium 0.8.3 which is incompatible.\u001b[0m\n",
            "\u001b[31mERROR: cvxpy 1.0.15 has requirement numpy>=1.14, but you'll have numpy 1.13.3 which is incompatible.\u001b[0m\n",
            "\u001b[31mERROR: albumentations 0.1.12 has requirement imgaug<0.2.7,>=0.2.5, but you'll have imgaug 0.2.9 which is incompatible.\u001b[0m\n",
            "\u001b[?25hInstalling collected packages: graphviz, idna, urllib3, requests, numpy, mxnet-cu80\n",
            "  Found existing installation: graphviz 0.10.1\n",
            "    Uninstalling graphviz-0.10.1:\n",
            "      Successfully uninstalled graphviz-0.10.1\n",
            "  Found existing installation: idna 2.8\n",
            "    Uninstalling idna-2.8:\n",
            "      Successfully uninstalled idna-2.8\n",
            "  Found existing installation: urllib3 1.24.3\n",
            "    Uninstalling urllib3-1.24.3:\n",
            "      Successfully uninstalled urllib3-1.24.3\n",
            "  Found existing installation: requests 2.21.0\n",
            "    Uninstalling requests-2.21.0:\n",
            "      Successfully uninstalled requests-2.21.0\n",
            "  Found existing installation: numpy 1.16.3\n",
            "    Uninstalling numpy-1.16.3:\n",
            "      Successfully uninstalled numpy-1.16.3\n",
            "Successfully installed graphviz-0.8.1 idna-2.6 mxnet-cu80-1.1.0 numpy-1.13.3 requests-2.18.4 urllib3-1.22\n",
            "Collecting turicreate\n",
            "\u001b[?25l  Downloading https://files.pythonhosted.org/packages/4e/21/b063169a13bb5098d98a1eba6a4a2a21680742f226ca3d5026ba41cf2268/turicreate-5.5-cp36-cp36m-manylinux1_x86_64.whl (85.9MB)\n",
            "\u001b[K     |████████████████████████████████| 85.9MB 35.0MB/s \n",
            "\u001b[?25hRequirement already satisfied: six>=1.10.0 in /usr/local/lib/python3.6/dist-packages (from turicreate) (1.12.0)\n",
            "Requirement already satisfied: numpy in /usr/local/lib/python3.6/dist-packages (from turicreate) (1.13.3)\n",
            "Requirement already satisfied: prettytable==0.7.2 in /usr/local/lib/python3.6/dist-packages (from turicreate) (0.7.2)\n",
            "Requirement already satisfied: requests>=2.9.1 in /usr/local/lib/python3.6/dist-packages (from turicreate) (2.18.4)\n",
            "Requirement already satisfied: scipy>=0.14.0 in /usr/local/lib/python3.6/dist-packages (from turicreate) (1.2.1)\n",
            "Requirement already satisfied: pillow>=3.3.0 in /usr/local/lib/python3.6/dist-packages (from turicreate) (4.3.0)\n",
            "Collecting mxnet<1.2.0,>=1.1.0 (from turicreate)\n",
            "\u001b[?25l  Downloading https://files.pythonhosted.org/packages/96/98/c9877e100c3d1ac92263bfaba7bb8a49294e099046592040a2ff8620ac61/mxnet-1.1.0.post0-py2.py3-none-manylinux1_x86_64.whl (23.8MB)\n",
            "\u001b[K     |████████████████████████████████| 23.8MB 1.4MB/s \n",
            "\u001b[?25hCollecting coremltools==2.1.0 (from turicreate)\n",
            "\u001b[?25l  Downloading https://files.pythonhosted.org/packages/b9/9d/7ec5a2480c6afce4fcb99de1650b7abfd1457b2ef1de5ce39bf7bee8a8ae/coremltools-2.1.0-cp36-none-manylinux1_x86_64.whl (2.7MB)\n",
            "\u001b[K     |████████████████████████████████| 2.7MB 24.1MB/s \n",
            "\u001b[?25hRequirement already satisfied: decorator>=4.0.9 in /usr/local/lib/python3.6/dist-packages (from turicreate) (4.4.0)\n",
            "Requirement already satisfied: pandas>=0.19.0 in /usr/local/lib/python3.6/dist-packages (from turicreate) (0.24.2)\n",
            "Requirement already satisfied: resampy==0.2.1 in /usr/local/lib/python3.6/dist-packages (from turicreate) (0.2.1)\n",
            "Requirement already satisfied: certifi>=2017.4.17 in /usr/local/lib/python3.6/dist-packages (from requests>=2.9.1->turicreate) (2019.3.9)\n",
            "Requirement already satisfied: idna<2.7,>=2.5 in /usr/local/lib/python3.6/dist-packages (from requests>=2.9.1->turicreate) (2.6)\n",
            "Requirement already satisfied: urllib3<1.23,>=1.21.1 in /usr/local/lib/python3.6/dist-packages (from requests>=2.9.1->turicreate) (1.22)\n",
            "Requirement already satisfied: chardet<3.1.0,>=3.0.2 in /usr/local/lib/python3.6/dist-packages (from requests>=2.9.1->turicreate) (3.0.4)\n",
            "Requirement already satisfied: olefile in /usr/local/lib/python3.6/dist-packages (from pillow>=3.3.0->turicreate) (0.46)\n",
            "Requirement already satisfied: graphviz<0.9.0,>=0.8.1 in /usr/local/lib/python3.6/dist-packages (from mxnet<1.2.0,>=1.1.0->turicreate) (0.8.1)\n",
            "Requirement already satisfied: protobuf>=3.1.0 in /usr/local/lib/python3.6/dist-packages (from coremltools==2.1.0->turicreate) (3.7.1)\n",
            "Requirement already satisfied: pytz>=2011k in /usr/local/lib/python3.6/dist-packages (from pandas>=0.19.0->turicreate) (2018.9)\n",
            "Requirement already satisfied: python-dateutil>=2.5.0 in /usr/local/lib/python3.6/dist-packages (from pandas>=0.19.0->turicreate) (2.5.3)\n",
            "Requirement already satisfied: numba>=0.32 in /usr/local/lib/python3.6/dist-packages (from resampy==0.2.1->turicreate) (0.40.1)\n",
            "Requirement already satisfied: setuptools in /usr/local/lib/python3.6/dist-packages (from protobuf>=3.1.0->coremltools==2.1.0->turicreate) (41.0.1)\n",
            "Requirement already satisfied: llvmlite>=0.25.0dev0 in /usr/local/lib/python3.6/dist-packages (from numba>=0.32->resampy==0.2.1->turicreate) (0.28.0)\n",
            "Installing collected packages: mxnet, coremltools, turicreate\n",
            "Successfully installed coremltools-2.1.0 mxnet-1.1.0.post0 turicreate-5.5\n",
            "Requirement already satisfied: numpy in /usr/local/lib/python3.6/dist-packages (1.13.3)\n"
          ],
          "name": "stdout"
        }
      ]
    },
    {
      "cell_type": "code",
      "metadata": {
        "id": "uWZEaNI6-p43",
        "colab_type": "code",
        "outputId": "feb0ea65-752c-48c8-d5fb-ecb908b8a160",
        "colab": {
          "base_uri": "https://localhost:8080/",
          "height": 124
        }
      },
      "source": [
        "import os.path\n",
        "from google.colab import drive\n",
        "\n",
        "# mount Google Drive to /content/drive/My Drive/\n",
        "if os.path.isdir(\"/content/drive/My Drive\"):\n",
        "  print(\"Google Drive already mounted\")\n",
        "else:\n",
        "  drive.mount('/content/drive')"
      ],
      "execution_count": 0,
      "outputs": [
        {
          "output_type": "stream",
          "text": [
            "Go to this URL in a browser: https://accounts.google.com/o/oauth2/auth?client_id=947318989803-6bn6qk8qdgf4n4g3pfee6491hc0brc4i.apps.googleusercontent.com&redirect_uri=urn%3Aietf%3Awg%3Aoauth%3A2.0%3Aoob&scope=email%20https%3A%2F%2Fwww.googleapis.com%2Fauth%2Fdocs.test%20https%3A%2F%2Fwww.googleapis.com%2Fauth%2Fdrive%20https%3A%2F%2Fwww.googleapis.com%2Fauth%2Fdrive.photos.readonly%20https%3A%2F%2Fwww.googleapis.com%2Fauth%2Fpeopleapi.readonly&response_type=code\n",
            "\n",
            "Enter your authorization code:\n",
            "··········\n",
            "Mounted at /content/drive\n"
          ],
          "name": "stdout"
        }
      ]
    },
    {
      "cell_type": "code",
      "metadata": {
        "id": "RSI0VXXD-xRh",
        "colab_type": "code",
        "colab": {}
      },
      "source": [
        "import os.path\n",
        "import urllib.request\n",
        "import tarfile\n",
        "import zipfile\n",
        "import gzip\n",
        "from shutil import copy\n",
        "\n",
        "def fetch_remote_datafile(filename, remote_url):\n",
        "  if os.path.isfile(\"./\" + filename):\n",
        "    print(\"already have \" + filename + \" in workspace\")\n",
        "    return\n",
        "  print(\"fetching \" + filename + \" from \" + remote_url + \"...\")\n",
        "  urllib.request.urlretrieve(remote_url, \"./\" + filename)\n",
        "\n",
        "def cache_datafile_in_drive(filename):\n",
        "  if os.path.isfile(\"./\" + filename) == False:\n",
        "    print(\"cannot cache \" + filename + \", it is not in workspace\")\n",
        "    return\n",
        "  \n",
        "  data_drive_path = \"/content/drive/My Drive/Colab Notebooks/data/\"\n",
        "  if os.path.isfile(data_drive_path + filename):\n",
        "    print(\"\" + filename + \" has already been stored in Google Drive\")\n",
        "  else:\n",
        "    print(\"copying \" + filename + \" to \" + data_drive_path)\n",
        "    copy(\"./\" + filename, data_drive_path)\n",
        "  \n",
        "\n",
        "def load_datafile_from_drive(filename, remote_url=None):\n",
        "  data_drive_path = \"/content/drive/My Drive/Colab Notebooks/data/\"\n",
        "  if os.path.isfile(\"./\" + filename):\n",
        "    print(\"already have \" + filename + \" in workspace\")\n",
        "  elif os.path.isfile(data_drive_path + filename):\n",
        "    print(\"have \" + filename + \" in Google Drive, copying to workspace...\")\n",
        "    copy(data_drive_path + filename, \".\")\n",
        "  elif remote_url != None:\n",
        "    fetch_remote_datafile(filename, remote_url)\n",
        "  else:\n",
        "    print(\"error: you need to manually download \" + filename + \" and put in drive\")\n",
        "    \n",
        "def extract_datafile(filename, expected_extract_artifact=None):\n",
        "  if expected_extract_artifact != None and (os.path.isfile(expected_extract_artifact) or os.path.isdir(expected_extract_artifact)):\n",
        "    print(\"files in \" + filename + \" have already been extracted\")\n",
        "  elif os.path.isfile(\"./\" + filename) == False:\n",
        "    print(\"error: cannot extract \" + filename + \", it is not in the workspace\")\n",
        "  else:\n",
        "    extension = filename.split('.')[-1]\n",
        "    if extension == \"zip\":\n",
        "      print(\"extracting \" + filename + \"...\")\n",
        "      data_file = open(filename, \"rb\")\n",
        "      z = zipfile.ZipFile(data_file)\n",
        "      for name in z.namelist():\n",
        "          print(\"    extracting file\", name)\n",
        "          z.extract(name, \"./\")\n",
        "      data_file.close()\n",
        "    elif extension == \"gz\":\n",
        "      print(\"extracting \" + filename + \"...\")\n",
        "      if filename.split('.')[-2] == \"tar\":\n",
        "        tar = tarfile.open(filename)\n",
        "        tar.extractall()\n",
        "        tar.close()\n",
        "      else:\n",
        "        data_zip_file = gzip.GzipFile(filename, 'rb')\n",
        "        data = data_zip_file.read()\n",
        "        data_zip_file.close()\n",
        "        extracted_file = open('.'.join(filename.split('.')[0:-1]), 'wb')\n",
        "        extracted_file.write(data)\n",
        "        extracted_file.close()\n",
        "    elif extension == \"tar\":\n",
        "      print(\"extracting \" + filename + \"...\")\n",
        "      tar = tarfile.open(filename)\n",
        "      tar.extractall()\n",
        "      tar.close()\n",
        "    elif extension == \"csv\":\n",
        "      print(\"do not need to extract csv\")\n",
        "    else:\n",
        "      print(\"cannot extract \" + filename)\n",
        "      \n",
        "def load_cache_extract_datafile(filename, expected_extract_artifact=None, remote_url=None):\n",
        "  load_datafile_from_drive(filename, remote_url)\n",
        "  extract_datafile(filename, expected_extract_artifact)\n",
        "  cache_datafile_in_drive(filename)\n",
        " "
      ],
      "execution_count": 0,
      "outputs": []
    },
    {
      "cell_type": "code",
      "metadata": {
        "id": "zt_xyo_S_UeH",
        "colab_type": "code",
        "outputId": "2de81247-3da8-4cfe-f227-a3da80677cb1",
        "colab": {
          "base_uri": "https://localhost:8080/",
          "height": 780
        }
      },
      "source": [
        "load_cache_extract_datafile(\"ml-100k.zip\", \"ml-100k\", \"http://files.grouplens.org/datasets/movielens/ml-100k.zip\")"
      ],
      "execution_count": 0,
      "outputs": [
        {
          "output_type": "stream",
          "text": [
            "fetching ml-100k.zip from http://files.grouplens.org/datasets/movielens/ml-100k.zip...\n",
            "extracting ml-100k.zip...\n",
            "    extracting file ml-100k/\n",
            "    extracting file ml-100k/allbut.pl\n",
            "    extracting file ml-100k/mku.sh\n",
            "    extracting file ml-100k/README\n",
            "    extracting file ml-100k/u.data\n",
            "    extracting file ml-100k/u.genre\n",
            "    extracting file ml-100k/u.info\n",
            "    extracting file ml-100k/u.item\n",
            "    extracting file ml-100k/u.occupation\n",
            "    extracting file ml-100k/u.user\n",
            "    extracting file ml-100k/u1.base\n",
            "    extracting file ml-100k/u1.test\n",
            "    extracting file ml-100k/u2.base\n",
            "    extracting file ml-100k/u2.test\n",
            "    extracting file ml-100k/u3.base\n",
            "    extracting file ml-100k/u3.test\n",
            "    extracting file ml-100k/u4.base\n",
            "    extracting file ml-100k/u4.test\n",
            "    extracting file ml-100k/u5.base\n",
            "    extracting file ml-100k/u5.test\n",
            "    extracting file ml-100k/ua.base\n",
            "    extracting file ml-100k/ua.test\n",
            "    extracting file ml-100k/ub.base\n",
            "    extracting file ml-100k/ub.test\n",
            "copying ml-100k.zip to /content/drive/My Drive/Colab Notebooks/data/\n"
          ],
          "name": "stdout"
        },
        {
          "output_type": "error",
          "ename": "IsADirectoryError",
          "evalue": "ignored",
          "traceback": [
            "\u001b[0;31m---------------------------------------------------------------------------\u001b[0m",
            "\u001b[0;31mIsADirectoryError\u001b[0m                         Traceback (most recent call last)",
            "\u001b[0;32m<ipython-input-4-ab9ad14878c8>\u001b[0m in \u001b[0;36m<module>\u001b[0;34m()\u001b[0m\n\u001b[0;32m----> 1\u001b[0;31m \u001b[0mload_cache_extract_datafile\u001b[0m\u001b[0;34m(\u001b[0m\u001b[0;34m\"ml-100k.zip\"\u001b[0m\u001b[0;34m,\u001b[0m \u001b[0;34m\"ml-100k\"\u001b[0m\u001b[0;34m,\u001b[0m \u001b[0;34m\"http://files.grouplens.org/datasets/movielens/ml-100k.zip\"\u001b[0m\u001b[0;34m)\u001b[0m\u001b[0;34m\u001b[0m\u001b[0;34m\u001b[0m\u001b[0m\n\u001b[0m",
            "\u001b[0;32m<ipython-input-3-42d442ee5871>\u001b[0m in \u001b[0;36mload_cache_extract_datafile\u001b[0;34m(filename, expected_extract_artifact, remote_url)\u001b[0m\n\u001b[1;32m     79\u001b[0m   \u001b[0mload_datafile_from_drive\u001b[0m\u001b[0;34m(\u001b[0m\u001b[0mfilename\u001b[0m\u001b[0;34m,\u001b[0m \u001b[0mremote_url\u001b[0m\u001b[0;34m)\u001b[0m\u001b[0;34m\u001b[0m\u001b[0;34m\u001b[0m\u001b[0m\n\u001b[1;32m     80\u001b[0m   \u001b[0mextract_datafile\u001b[0m\u001b[0;34m(\u001b[0m\u001b[0mfilename\u001b[0m\u001b[0;34m,\u001b[0m \u001b[0mexpected_extract_artifact\u001b[0m\u001b[0;34m)\u001b[0m\u001b[0;34m\u001b[0m\u001b[0;34m\u001b[0m\u001b[0m\n\u001b[0;32m---> 81\u001b[0;31m   \u001b[0mcache_datafile_in_drive\u001b[0m\u001b[0;34m(\u001b[0m\u001b[0mfilename\u001b[0m\u001b[0;34m)\u001b[0m\u001b[0;34m\u001b[0m\u001b[0;34m\u001b[0m\u001b[0m\n\u001b[0m\u001b[1;32m     82\u001b[0m \u001b[0;34m\u001b[0m\u001b[0m\n",
            "\u001b[0;32m<ipython-input-3-42d442ee5871>\u001b[0m in \u001b[0;36mcache_datafile_in_drive\u001b[0;34m(filename)\u001b[0m\n\u001b[1;32m     23\u001b[0m   \u001b[0;32melse\u001b[0m\u001b[0;34m:\u001b[0m\u001b[0;34m\u001b[0m\u001b[0;34m\u001b[0m\u001b[0m\n\u001b[1;32m     24\u001b[0m     \u001b[0mprint\u001b[0m\u001b[0;34m(\u001b[0m\u001b[0;34m\"copying \"\u001b[0m \u001b[0;34m+\u001b[0m \u001b[0mfilename\u001b[0m \u001b[0;34m+\u001b[0m \u001b[0;34m\" to \"\u001b[0m \u001b[0;34m+\u001b[0m \u001b[0mdata_drive_path\u001b[0m\u001b[0;34m)\u001b[0m\u001b[0;34m\u001b[0m\u001b[0;34m\u001b[0m\u001b[0m\n\u001b[0;32m---> 25\u001b[0;31m     \u001b[0mcopy\u001b[0m\u001b[0;34m(\u001b[0m\u001b[0;34m\"./\"\u001b[0m \u001b[0;34m+\u001b[0m \u001b[0mfilename\u001b[0m\u001b[0;34m,\u001b[0m \u001b[0mdata_drive_path\u001b[0m\u001b[0;34m)\u001b[0m\u001b[0;34m\u001b[0m\u001b[0;34m\u001b[0m\u001b[0m\n\u001b[0m\u001b[1;32m     26\u001b[0m \u001b[0;34m\u001b[0m\u001b[0m\n\u001b[1;32m     27\u001b[0m \u001b[0;34m\u001b[0m\u001b[0m\n",
            "\u001b[0;32m/usr/lib/python3.6/shutil.py\u001b[0m in \u001b[0;36mcopy\u001b[0;34m(src, dst, follow_symlinks)\u001b[0m\n\u001b[1;32m    239\u001b[0m     \u001b[0;32mif\u001b[0m \u001b[0mos\u001b[0m\u001b[0;34m.\u001b[0m\u001b[0mpath\u001b[0m\u001b[0;34m.\u001b[0m\u001b[0misdir\u001b[0m\u001b[0;34m(\u001b[0m\u001b[0mdst\u001b[0m\u001b[0;34m)\u001b[0m\u001b[0;34m:\u001b[0m\u001b[0;34m\u001b[0m\u001b[0;34m\u001b[0m\u001b[0m\n\u001b[1;32m    240\u001b[0m         \u001b[0mdst\u001b[0m \u001b[0;34m=\u001b[0m \u001b[0mos\u001b[0m\u001b[0;34m.\u001b[0m\u001b[0mpath\u001b[0m\u001b[0;34m.\u001b[0m\u001b[0mjoin\u001b[0m\u001b[0;34m(\u001b[0m\u001b[0mdst\u001b[0m\u001b[0;34m,\u001b[0m \u001b[0mos\u001b[0m\u001b[0;34m.\u001b[0m\u001b[0mpath\u001b[0m\u001b[0;34m.\u001b[0m\u001b[0mbasename\u001b[0m\u001b[0;34m(\u001b[0m\u001b[0msrc\u001b[0m\u001b[0;34m)\u001b[0m\u001b[0;34m)\u001b[0m\u001b[0;34m\u001b[0m\u001b[0;34m\u001b[0m\u001b[0m\n\u001b[0;32m--> 241\u001b[0;31m     \u001b[0mcopyfile\u001b[0m\u001b[0;34m(\u001b[0m\u001b[0msrc\u001b[0m\u001b[0;34m,\u001b[0m \u001b[0mdst\u001b[0m\u001b[0;34m,\u001b[0m \u001b[0mfollow_symlinks\u001b[0m\u001b[0;34m=\u001b[0m\u001b[0mfollow_symlinks\u001b[0m\u001b[0;34m)\u001b[0m\u001b[0;34m\u001b[0m\u001b[0;34m\u001b[0m\u001b[0m\n\u001b[0m\u001b[1;32m    242\u001b[0m     \u001b[0mcopymode\u001b[0m\u001b[0;34m(\u001b[0m\u001b[0msrc\u001b[0m\u001b[0;34m,\u001b[0m \u001b[0mdst\u001b[0m\u001b[0;34m,\u001b[0m \u001b[0mfollow_symlinks\u001b[0m\u001b[0;34m=\u001b[0m\u001b[0mfollow_symlinks\u001b[0m\u001b[0;34m)\u001b[0m\u001b[0;34m\u001b[0m\u001b[0;34m\u001b[0m\u001b[0m\n\u001b[1;32m    243\u001b[0m     \u001b[0;32mreturn\u001b[0m \u001b[0mdst\u001b[0m\u001b[0;34m\u001b[0m\u001b[0;34m\u001b[0m\u001b[0m\n",
            "\u001b[0;32m/usr/lib/python3.6/shutil.py\u001b[0m in \u001b[0;36mcopyfile\u001b[0;34m(src, dst, follow_symlinks)\u001b[0m\n\u001b[1;32m    119\u001b[0m     \u001b[0;32melse\u001b[0m\u001b[0;34m:\u001b[0m\u001b[0;34m\u001b[0m\u001b[0;34m\u001b[0m\u001b[0m\n\u001b[1;32m    120\u001b[0m         \u001b[0;32mwith\u001b[0m \u001b[0mopen\u001b[0m\u001b[0;34m(\u001b[0m\u001b[0msrc\u001b[0m\u001b[0;34m,\u001b[0m \u001b[0;34m'rb'\u001b[0m\u001b[0;34m)\u001b[0m \u001b[0;32mas\u001b[0m \u001b[0mfsrc\u001b[0m\u001b[0;34m:\u001b[0m\u001b[0;34m\u001b[0m\u001b[0;34m\u001b[0m\u001b[0m\n\u001b[0;32m--> 121\u001b[0;31m             \u001b[0;32mwith\u001b[0m \u001b[0mopen\u001b[0m\u001b[0;34m(\u001b[0m\u001b[0mdst\u001b[0m\u001b[0;34m,\u001b[0m \u001b[0;34m'wb'\u001b[0m\u001b[0;34m)\u001b[0m \u001b[0;32mas\u001b[0m \u001b[0mfdst\u001b[0m\u001b[0;34m:\u001b[0m\u001b[0;34m\u001b[0m\u001b[0;34m\u001b[0m\u001b[0m\n\u001b[0m\u001b[1;32m    122\u001b[0m                 \u001b[0mcopyfileobj\u001b[0m\u001b[0;34m(\u001b[0m\u001b[0mfsrc\u001b[0m\u001b[0;34m,\u001b[0m \u001b[0mfdst\u001b[0m\u001b[0;34m)\u001b[0m\u001b[0;34m\u001b[0m\u001b[0;34m\u001b[0m\u001b[0m\n\u001b[1;32m    123\u001b[0m     \u001b[0;32mreturn\u001b[0m \u001b[0mdst\u001b[0m\u001b[0;34m\u001b[0m\u001b[0;34m\u001b[0m\u001b[0m\n",
            "\u001b[0;31mIsADirectoryError\u001b[0m: [Errno 21] Is a directory: '/content/drive/My Drive/Colab Notebooks/data/'"
          ]
        }
      ]
    },
    {
      "cell_type": "code",
      "metadata": {
        "id": "JGSKsYw__ktr",
        "colab_type": "code",
        "colab": {}
      },
      "source": [
        "import mxnet as mx\n",
        "import turicreate as tc\n",
        "import pandas as pd\n",
        "import os"
      ],
      "execution_count": 0,
      "outputs": []
    },
    {
      "cell_type": "code",
      "metadata": {
        "id": "c6J-dO349rG9",
        "colab_type": "code",
        "colab": {}
      },
      "source": [
        "#!sudo locale-gen \"en_US.UTF-8\"\n",
        "#!export LC_ALL=\"en_US.UTF-8\"\n",
        "#!sudo dpkg-reconfigure locales"
      ],
      "execution_count": 0,
      "outputs": []
    },
    {
      "cell_type": "code",
      "metadata": {
        "id": "6hMlzZK1-QLR",
        "colab_type": "code",
        "outputId": "c23364c6-ab57-4e2c-ffe0-0329860b24c4",
        "colab": {
          "base_uri": "https://localhost:8080/",
          "height": 867
        }
      },
      "source": [
        "#load data\n",
        "cols = ['userId','movieId','rating','timestamp']\n",
        "ratings_train_df = pd.read_csv('./ml-100k/u1.base', delimiter='\\t', \n",
        "                         header=None, names=cols)\n",
        "ratings_train_sf = tc.SFrame(ratings_train_df)\n",
        "\n",
        "ratings_test_df = pd.read_csv('./ml-100k/u1.test', delimiter='\\t', \n",
        "                         header=None, names=cols)\n",
        "ratings_test_sf = tc.SFrame(ratings_test_df)\n",
        "\n",
        "\n",
        "\n",
        "training_data = ratings_train_sf\n",
        "validation_data = ratings_test_sf\n",
        "\n",
        "#train models\n",
        "\n",
        "#MATRIX FACTORIZATION MODEL\n",
        "\n",
        "\n",
        "model_matrixFactorization = tc.ranking_factorization_recommender.create(training_data, 'userId', 'movieId', target='rating')\n",
        "\n",
        "\n",
        "\n",
        "#recommend with all and save it\n",
        "#results_matrixFactorization = model_matrixFactorization.recommend()\n",
        "#evaluate_matrixFactorization = model_matrixFactorization.evaluate(validation_data)\n",
        "\n",
        "#model_matrixFactorization.predict(validation_data)\n",
        "\n",
        "#print(results_matrixFactorization.head)\n",
        "#print(evaluate_matrixFactorization)\n",
        "\n",
        "\n"
      ],
      "execution_count": 5,
      "outputs": [
        {
          "output_type": "display_data",
          "data": {
            "text/html": [
              "<pre>Preparing data set.</pre>"
            ],
            "text/plain": [
              "Preparing data set."
            ]
          },
          "metadata": {
            "tags": []
          }
        },
        {
          "output_type": "display_data",
          "data": {
            "text/html": [
              "<pre>    Data has 100000 observations with 943 users and 1682 items.</pre>"
            ],
            "text/plain": [
              "    Data has 100000 observations with 943 users and 1682 items."
            ]
          },
          "metadata": {
            "tags": []
          }
        },
        {
          "output_type": "display_data",
          "data": {
            "text/html": [
              "<pre>    Data prepared in: 0.160449s</pre>"
            ],
            "text/plain": [
              "    Data prepared in: 0.160449s"
            ]
          },
          "metadata": {
            "tags": []
          }
        },
        {
          "output_type": "display_data",
          "data": {
            "text/html": [
              "<pre>Training ranking_factorization_recommender for recommendations.</pre>"
            ],
            "text/plain": [
              "Training ranking_factorization_recommender for recommendations."
            ]
          },
          "metadata": {
            "tags": []
          }
        },
        {
          "output_type": "display_data",
          "data": {
            "text/html": [
              "<pre>+--------------------------------+--------------------------------------------------+----------+</pre>"
            ],
            "text/plain": [
              "+--------------------------------+--------------------------------------------------+----------+"
            ]
          },
          "metadata": {
            "tags": []
          }
        },
        {
          "output_type": "display_data",
          "data": {
            "text/html": [
              "<pre>| Parameter                      | Description                                      | Value    |</pre>"
            ],
            "text/plain": [
              "| Parameter                      | Description                                      | Value    |"
            ]
          },
          "metadata": {
            "tags": []
          }
        },
        {
          "output_type": "display_data",
          "data": {
            "text/html": [
              "<pre>+--------------------------------+--------------------------------------------------+----------+</pre>"
            ],
            "text/plain": [
              "+--------------------------------+--------------------------------------------------+----------+"
            ]
          },
          "metadata": {
            "tags": []
          }
        },
        {
          "output_type": "display_data",
          "data": {
            "text/html": [
              "<pre>| num_factors                    | Factor Dimension                                 | 32       |</pre>"
            ],
            "text/plain": [
              "| num_factors                    | Factor Dimension                                 | 32       |"
            ]
          },
          "metadata": {
            "tags": []
          }
        },
        {
          "output_type": "display_data",
          "data": {
            "text/html": [
              "<pre>| regularization                 | L2 Regularization on Factors                     | 1e-09    |</pre>"
            ],
            "text/plain": [
              "| regularization                 | L2 Regularization on Factors                     | 1e-09    |"
            ]
          },
          "metadata": {
            "tags": []
          }
        },
        {
          "output_type": "display_data",
          "data": {
            "text/html": [
              "<pre>| solver                         | Solver used for training                         | adagrad  |</pre>"
            ],
            "text/plain": [
              "| solver                         | Solver used for training                         | adagrad  |"
            ]
          },
          "metadata": {
            "tags": []
          }
        },
        {
          "output_type": "display_data",
          "data": {
            "text/html": [
              "<pre>| linear_regularization          | L2 Regularization on Linear Coefficients         | 1e-09    |</pre>"
            ],
            "text/plain": [
              "| linear_regularization          | L2 Regularization on Linear Coefficients         | 1e-09    |"
            ]
          },
          "metadata": {
            "tags": []
          }
        },
        {
          "output_type": "display_data",
          "data": {
            "text/html": [
              "<pre>| ranking_regularization         | Rank-based Regularization Weight                 | 0.25     |</pre>"
            ],
            "text/plain": [
              "| ranking_regularization         | Rank-based Regularization Weight                 | 0.25     |"
            ]
          },
          "metadata": {
            "tags": []
          }
        },
        {
          "output_type": "display_data",
          "data": {
            "text/html": [
              "<pre>| max_iterations                 | Maximum Number of Iterations                     | 25       |</pre>"
            ],
            "text/plain": [
              "| max_iterations                 | Maximum Number of Iterations                     | 25       |"
            ]
          },
          "metadata": {
            "tags": []
          }
        },
        {
          "output_type": "display_data",
          "data": {
            "text/html": [
              "<pre>+--------------------------------+--------------------------------------------------+----------+</pre>"
            ],
            "text/plain": [
              "+--------------------------------+--------------------------------------------------+----------+"
            ]
          },
          "metadata": {
            "tags": []
          }
        },
        {
          "output_type": "display_data",
          "data": {
            "text/html": [
              "<pre>  Optimizing model using SGD; tuning step size.</pre>"
            ],
            "text/plain": [
              "  Optimizing model using SGD; tuning step size."
            ]
          },
          "metadata": {
            "tags": []
          }
        },
        {
          "output_type": "display_data",
          "data": {
            "text/html": [
              "<pre>  Using 12500 / 100000 points for tuning the step size.</pre>"
            ],
            "text/plain": [
              "  Using 12500 / 100000 points for tuning the step size."
            ]
          },
          "metadata": {
            "tags": []
          }
        },
        {
          "output_type": "display_data",
          "data": {
            "text/html": [
              "<pre>+---------+-------------------+------------------------------------------+</pre>"
            ],
            "text/plain": [
              "+---------+-------------------+------------------------------------------+"
            ]
          },
          "metadata": {
            "tags": []
          }
        },
        {
          "output_type": "display_data",
          "data": {
            "text/html": [
              "<pre>| Attempt | Initial Step Size | Estimated Objective Value                |</pre>"
            ],
            "text/plain": [
              "| Attempt | Initial Step Size | Estimated Objective Value                |"
            ]
          },
          "metadata": {
            "tags": []
          }
        },
        {
          "output_type": "display_data",
          "data": {
            "text/html": [
              "<pre>+---------+-------------------+------------------------------------------+</pre>"
            ],
            "text/plain": [
              "+---------+-------------------+------------------------------------------+"
            ]
          },
          "metadata": {
            "tags": []
          }
        },
        {
          "output_type": "display_data",
          "data": {
            "text/html": [
              "<pre>| 0       | 16.6667           | Not Viable                               |</pre>"
            ],
            "text/plain": [
              "| 0       | 16.6667           | Not Viable                               |"
            ]
          },
          "metadata": {
            "tags": []
          }
        },
        {
          "output_type": "display_data",
          "data": {
            "text/html": [
              "<pre>| 1       | 4.16667           | Not Viable                               |</pre>"
            ],
            "text/plain": [
              "| 1       | 4.16667           | Not Viable                               |"
            ]
          },
          "metadata": {
            "tags": []
          }
        },
        {
          "output_type": "display_data",
          "data": {
            "text/html": [
              "<pre>| 2       | 1.04167           | Not Viable                               |</pre>"
            ],
            "text/plain": [
              "| 2       | 1.04167           | Not Viable                               |"
            ]
          },
          "metadata": {
            "tags": []
          }
        },
        {
          "output_type": "display_data",
          "data": {
            "text/html": [
              "<pre>| 3       | 0.260417          | 1.5533                                   |</pre>"
            ],
            "text/plain": [
              "| 3       | 0.260417          | 1.5533                                   |"
            ]
          },
          "metadata": {
            "tags": []
          }
        },
        {
          "output_type": "display_data",
          "data": {
            "text/html": [
              "<pre>| 4       | 0.130208          | 1.64491                                  |</pre>"
            ],
            "text/plain": [
              "| 4       | 0.130208          | 1.64491                                  |"
            ]
          },
          "metadata": {
            "tags": []
          }
        },
        {
          "output_type": "display_data",
          "data": {
            "text/html": [
              "<pre>| 5       | 0.0651042         | 1.27255                                  |</pre>"
            ],
            "text/plain": [
              "| 5       | 0.0651042         | 1.27255                                  |"
            ]
          },
          "metadata": {
            "tags": []
          }
        },
        {
          "output_type": "display_data",
          "data": {
            "text/html": [
              "<pre>| 6       | 0.0325521         | 1.83479                                  |</pre>"
            ],
            "text/plain": [
              "| 6       | 0.0325521         | 1.83479                                  |"
            ]
          },
          "metadata": {
            "tags": []
          }
        },
        {
          "output_type": "display_data",
          "data": {
            "text/html": [
              "<pre>| 7       | 0.016276          | 1.9666                                   |</pre>"
            ],
            "text/plain": [
              "| 7       | 0.016276          | 1.9666                                   |"
            ]
          },
          "metadata": {
            "tags": []
          }
        },
        {
          "output_type": "display_data",
          "data": {
            "text/html": [
              "<pre>| 8       | 0.00813802        | 2.1219                                   |</pre>"
            ],
            "text/plain": [
              "| 8       | 0.00813802        | 2.1219                                   |"
            ]
          },
          "metadata": {
            "tags": []
          }
        },
        {
          "output_type": "display_data",
          "data": {
            "text/html": [
              "<pre>+---------+-------------------+------------------------------------------+</pre>"
            ],
            "text/plain": [
              "+---------+-------------------+------------------------------------------+"
            ]
          },
          "metadata": {
            "tags": []
          }
        },
        {
          "output_type": "display_data",
          "data": {
            "text/html": [
              "<pre>| Final   | 0.0651042         | 1.27255                                  |</pre>"
            ],
            "text/plain": [
              "| Final   | 0.0651042         | 1.27255                                  |"
            ]
          },
          "metadata": {
            "tags": []
          }
        },
        {
          "output_type": "display_data",
          "data": {
            "text/html": [
              "<pre>+---------+-------------------+------------------------------------------+</pre>"
            ],
            "text/plain": [
              "+---------+-------------------+------------------------------------------+"
            ]
          },
          "metadata": {
            "tags": []
          }
        },
        {
          "output_type": "display_data",
          "data": {
            "text/html": [
              "<pre>Starting Optimization.</pre>"
            ],
            "text/plain": [
              "Starting Optimization."
            ]
          },
          "metadata": {
            "tags": []
          }
        },
        {
          "output_type": "display_data",
          "data": {
            "text/html": [
              "<pre>+---------+--------------+-------------------+-----------------------+-------------+</pre>"
            ],
            "text/plain": [
              "+---------+--------------+-------------------+-----------------------+-------------+"
            ]
          },
          "metadata": {
            "tags": []
          }
        },
        {
          "output_type": "display_data",
          "data": {
            "text/html": [
              "<pre>| Iter.   | Elapsed Time | Approx. Objective | Approx. Training RMSE | Step Size   |</pre>"
            ],
            "text/plain": [
              "| Iter.   | Elapsed Time | Approx. Objective | Approx. Training RMSE | Step Size   |"
            ]
          },
          "metadata": {
            "tags": []
          }
        },
        {
          "output_type": "display_data",
          "data": {
            "text/html": [
              "<pre>+---------+--------------+-------------------+-----------------------+-------------+</pre>"
            ],
            "text/plain": [
              "+---------+--------------+-------------------+-----------------------+-------------+"
            ]
          },
          "metadata": {
            "tags": []
          }
        },
        {
          "output_type": "display_data",
          "data": {
            "text/html": [
              "<pre>| Initial | 144us        | 2.48445           | 1.12568               |             |</pre>"
            ],
            "text/plain": [
              "| Initial | 144us        | 2.48445           | 1.12568               |             |"
            ]
          },
          "metadata": {
            "tags": []
          }
        },
        {
          "output_type": "display_data",
          "data": {
            "text/html": [
              "<pre>+---------+--------------+-------------------+-----------------------+-------------+</pre>"
            ],
            "text/plain": [
              "+---------+--------------+-------------------+-----------------------+-------------+"
            ]
          },
          "metadata": {
            "tags": []
          }
        },
        {
          "output_type": "display_data",
          "data": {
            "text/html": [
              "<pre>| 1       | 316.246ms    | 2.05148           | 1.12722               | 0.0651042   |</pre>"
            ],
            "text/plain": [
              "| 1       | 316.246ms    | 2.05148           | 1.12722               | 0.0651042   |"
            ]
          },
          "metadata": {
            "tags": []
          }
        },
        {
          "output_type": "display_data",
          "data": {
            "text/html": [
              "<pre>| 2       | 612.227ms    | 1.86537           | 1.06845               | 0.0651042   |</pre>"
            ],
            "text/plain": [
              "| 2       | 612.227ms    | 1.86537           | 1.06845               | 0.0651042   |"
            ]
          },
          "metadata": {
            "tags": []
          }
        },
        {
          "output_type": "display_data",
          "data": {
            "text/html": [
              "<pre>| 3       | 896.786ms    | 1.77634           | 1.02448               | 0.0651042   |</pre>"
            ],
            "text/plain": [
              "| 3       | 896.786ms    | 1.77634           | 1.02448               | 0.0651042   |"
            ]
          },
          "metadata": {
            "tags": []
          }
        },
        {
          "output_type": "display_data",
          "data": {
            "text/html": [
              "<pre>| 4       | 1.18s        | 1.71766           | 1.0015                | 0.0651042   |</pre>"
            ],
            "text/plain": [
              "| 4       | 1.18s        | 1.71766           | 1.0015                | 0.0651042   |"
            ]
          },
          "metadata": {
            "tags": []
          }
        },
        {
          "output_type": "display_data",
          "data": {
            "text/html": [
              "<pre>| 5       | 1.47s        | 1.67405           | 0.988196              | 0.0651042   |</pre>"
            ],
            "text/plain": [
              "| 5       | 1.47s        | 1.67405           | 0.988196              | 0.0651042   |"
            ]
          },
          "metadata": {
            "tags": []
          }
        },
        {
          "output_type": "display_data",
          "data": {
            "text/html": [
              "<pre>| 10      | 2.92s        | 1.54379           | 0.947667              | 0.0651042   |</pre>"
            ],
            "text/plain": [
              "| 10      | 2.92s        | 1.54379           | 0.947667              | 0.0651042   |"
            ]
          },
          "metadata": {
            "tags": []
          }
        },
        {
          "output_type": "display_data",
          "data": {
            "text/html": [
              "<pre>| 25      | 7.32s        | 1.36267           | 0.890099              | 0.0651042   |</pre>"
            ],
            "text/plain": [
              "| 25      | 7.32s        | 1.36267           | 0.890099              | 0.0651042   |"
            ]
          },
          "metadata": {
            "tags": []
          }
        },
        {
          "output_type": "display_data",
          "data": {
            "text/html": [
              "<pre>+---------+--------------+-------------------+-----------------------+-------------+</pre>"
            ],
            "text/plain": [
              "+---------+--------------+-------------------+-----------------------+-------------+"
            ]
          },
          "metadata": {
            "tags": []
          }
        },
        {
          "output_type": "display_data",
          "data": {
            "text/html": [
              "<pre>Optimization Complete: Maximum number of passes through the data reached.</pre>"
            ],
            "text/plain": [
              "Optimization Complete: Maximum number of passes through the data reached."
            ]
          },
          "metadata": {
            "tags": []
          }
        },
        {
          "output_type": "display_data",
          "data": {
            "text/html": [
              "<pre>Computing final objective value and training RMSE.</pre>"
            ],
            "text/plain": [
              "Computing final objective value and training RMSE."
            ]
          },
          "metadata": {
            "tags": []
          }
        },
        {
          "output_type": "display_data",
          "data": {
            "text/html": [
              "<pre>       Final objective value: 1.37949</pre>"
            ],
            "text/plain": [
              "       Final objective value: 1.37949"
            ]
          },
          "metadata": {
            "tags": []
          }
        },
        {
          "output_type": "display_data",
          "data": {
            "text/html": [
              "<pre>       Final training RMSE: 0.879146</pre>"
            ],
            "text/plain": [
              "       Final training RMSE: 0.879146"
            ]
          },
          "metadata": {
            "tags": []
          }
        }
      ]
    },
    {
      "cell_type": "code",
      "metadata": {
        "id": "XWBTj4o1whdV",
        "colab_type": "code",
        "colab": {
          "base_uri": "https://localhost:8080/",
          "height": 69
        },
        "outputId": "8171f159-c03c-40ab-db1f-e09e6064d00e"
      },
      "source": [
        "answer =tc.SFrame( model_matrixFactorization.predict(validation_data)).to_dataframe()\n",
        "#real = validation_data.to_dataframe()\n",
        "#print (answer)\n",
        "ratingTest_col={'rating':ratings_test_df['rating']}\n",
        "ratingTest_df = pd.DataFrame(ratingTest_col,columns = ['rating'])\n",
        "diff = answer-ratingTest_df.values \n",
        "diff_abs =diff.abs()\n",
        "n = 20000\n",
        "summ = diff_abs.sum()\n",
        "#MAE = diff_abs.sum()\n",
        "print(\"MAE is: \")\n",
        "print(summ/n)\n",
        "\n",
        "\n",
        "#MAE = answer.subtract(ratingTest)\n",
        "\n",
        "#print(MAE)"
      ],
      "execution_count": 31,
      "outputs": [
        {
          "output_type": "stream",
          "text": [
            "MAE is: \n",
            "X1    0.715854\n",
            "dtype: float64\n"
          ],
          "name": "stdout"
        }
      ]
    },
    {
      "cell_type": "code",
      "metadata": {
        "id": "XIrVZKdV5Pci",
        "colab_type": "code",
        "colab": {
          "base_uri": "https://localhost:8080/",
          "height": 9033
        },
        "outputId": "80668515-1757-41c9-badb-cc65d50facce"
      },
      "source": [
        "#item content model\n",
        "model_item_content = tc.recommender.item_content_recommender.create(training_data, 'userId', 'movieId', target='rating')\n",
        "results_item_content = model_item_content.recommend()\n",
        "answer =tc.SFrame( model_model_item_content.predict(validation_data)).to_dataframe()\n",
        "#real = validation_data.to_dataframe()\n",
        "#print (answer)\n",
        "ratingTest_col={'rating':ratings_test_df['rating']}\n",
        "ratingTest_df = pd.DataFrame(ratingTest_col,columns = ['rating'])\n",
        "diff = answer-ratingTest_df.values \n",
        "diff_abs =diff.abs()\n",
        "n = 20000\n",
        "summ = diff_abs.sum()\n",
        "#MAE = diff_abs.sum()\n",
        "print(\"MAE is: \")\n",
        "print(summ/n)\n"
      ],
      "execution_count": 32,
      "outputs": [
        {
          "output_type": "stream",
          "text": [
            "Applying transform:\n",
            "Class             : AutoVectorizer\n",
            "\n",
            "Model Fields\n",
            "------------\n",
            "Features          : ['movieId', 'rating', 'timestamp']\n",
            "Excluded Features : ['userId']\n",
            "\n",
            "Column     Type  Interpretation  Transforms  Output Type\n",
            "---------  ----  --------------  ----------  -----------\n",
            "movieId    int   numerical       None        int        \n",
            "rating     int   numerical       None        int        \n",
            "timestamp  int   numerical       None        int        \n",
            "\n",
            "\n",
            "Defaulting to brute force instead of ball tree because there are multiple distance components.\n"
          ],
          "name": "stdout"
        },
        {
          "output_type": "display_data",
          "data": {
            "text/html": [
              "<pre>Starting brute force nearest neighbors model training.</pre>"
            ],
            "text/plain": [
              "Starting brute force nearest neighbors model training."
            ]
          },
          "metadata": {
            "tags": []
          }
        },
        {
          "output_type": "display_data",
          "data": {
            "text/html": [
              "<pre>Starting pairwise querying.</pre>"
            ],
            "text/plain": [
              "Starting pairwise querying."
            ]
          },
          "metadata": {
            "tags": []
          }
        },
        {
          "output_type": "display_data",
          "data": {
            "text/html": [
              "<pre>+--------------+---------+-------------+--------------+</pre>"
            ],
            "text/plain": [
              "+--------------+---------+-------------+--------------+"
            ]
          },
          "metadata": {
            "tags": []
          }
        },
        {
          "output_type": "display_data",
          "data": {
            "text/html": [
              "<pre>| Query points | # Pairs | % Complete. | Elapsed Time |</pre>"
            ],
            "text/plain": [
              "| Query points | # Pairs | % Complete. | Elapsed Time |"
            ]
          },
          "metadata": {
            "tags": []
          }
        },
        {
          "output_type": "display_data",
          "data": {
            "text/html": [
              "<pre>+--------------+---------+-------------+--------------+</pre>"
            ],
            "text/plain": [
              "+--------------+---------+-------------+--------------+"
            ]
          },
          "metadata": {
            "tags": []
          }
        },
        {
          "output_type": "display_data",
          "data": {
            "text/html": [
              "<pre>| 1            | 100000  | 0.001       | 44.617ms     |</pre>"
            ],
            "text/plain": [
              "| 1            | 100000  | 0.001       | 44.617ms     |"
            ]
          },
          "metadata": {
            "tags": []
          }
        },
        {
          "output_type": "display_data",
          "data": {
            "text/html": [
              "<pre>| 150          | 1.5e+07 | 0.15        | 3.05s        |</pre>"
            ],
            "text/plain": [
              "| 150          | 1.5e+07 | 0.15        | 3.05s        |"
            ]
          },
          "metadata": {
            "tags": []
          }
        },
        {
          "output_type": "display_data",
          "data": {
            "text/html": [
              "<pre>| 314          | 3.1e+07 | 0.314       | 6.05s        |</pre>"
            ],
            "text/plain": [
              "| 314          | 3.1e+07 | 0.314       | 6.05s        |"
            ]
          },
          "metadata": {
            "tags": []
          }
        },
        {
          "output_type": "display_data",
          "data": {
            "text/html": [
              "<pre>| 496          | 5e+07   | 0.496       | 9.06s        |</pre>"
            ],
            "text/plain": [
              "| 496          | 5e+07   | 0.496       | 9.06s        |"
            ]
          },
          "metadata": {
            "tags": []
          }
        },
        {
          "output_type": "display_data",
          "data": {
            "text/html": [
              "<pre>| 687          | 6.9e+07 | 0.687       | 12.06s       |</pre>"
            ],
            "text/plain": [
              "| 687          | 6.9e+07 | 0.687       | 12.06s       |"
            ]
          },
          "metadata": {
            "tags": []
          }
        },
        {
          "output_type": "display_data",
          "data": {
            "text/html": [
              "<pre>| 881          | 8.8e+07 | 0.881       | 15.07s       |</pre>"
            ],
            "text/plain": [
              "| 881          | 8.8e+07 | 0.881       | 15.07s       |"
            ]
          },
          "metadata": {
            "tags": []
          }
        },
        {
          "output_type": "display_data",
          "data": {
            "text/html": [
              "<pre>| 1080         | 1.1e+08 | 1.08        | 18.07s       |</pre>"
            ],
            "text/plain": [
              "| 1080         | 1.1e+08 | 1.08        | 18.07s       |"
            ]
          },
          "metadata": {
            "tags": []
          }
        },
        {
          "output_type": "display_data",
          "data": {
            "text/html": [
              "<pre>| 1280         | 1.3e+08 | 1.28        | 21.08s       |</pre>"
            ],
            "text/plain": [
              "| 1280         | 1.3e+08 | 1.28        | 21.08s       |"
            ]
          },
          "metadata": {
            "tags": []
          }
        },
        {
          "output_type": "display_data",
          "data": {
            "text/html": [
              "<pre>| 1480         | 1.5e+08 | 1.48        | 24.06s       |</pre>"
            ],
            "text/plain": [
              "| 1480         | 1.5e+08 | 1.48        | 24.06s       |"
            ]
          },
          "metadata": {
            "tags": []
          }
        },
        {
          "output_type": "display_data",
          "data": {
            "text/html": [
              "<pre>| 1683         | 1.7e+08 | 1.683       | 27.07s       |</pre>"
            ],
            "text/plain": [
              "| 1683         | 1.7e+08 | 1.683       | 27.07s       |"
            ]
          },
          "metadata": {
            "tags": []
          }
        },
        {
          "output_type": "display_data",
          "data": {
            "text/html": [
              "<pre>| 1887         | 1.9e+08 | 1.887       | 30.07s       |</pre>"
            ],
            "text/plain": [
              "| 1887         | 1.9e+08 | 1.887       | 30.07s       |"
            ]
          },
          "metadata": {
            "tags": []
          }
        },
        {
          "output_type": "display_data",
          "data": {
            "text/html": [
              "<pre>| 2096         | 2.1e+08 | 2.096       | 33.07s       |</pre>"
            ],
            "text/plain": [
              "| 2096         | 2.1e+08 | 2.096       | 33.07s       |"
            ]
          },
          "metadata": {
            "tags": []
          }
        },
        {
          "output_type": "display_data",
          "data": {
            "text/html": [
              "<pre>| 2301         | 2.3e+08 | 2.301       | 36.08s       |</pre>"
            ],
            "text/plain": [
              "| 2301         | 2.3e+08 | 2.301       | 36.08s       |"
            ]
          },
          "metadata": {
            "tags": []
          }
        },
        {
          "output_type": "display_data",
          "data": {
            "text/html": [
              "<pre>| 2508         | 2.5e+08 | 2.508       | 39.09s       |</pre>"
            ],
            "text/plain": [
              "| 2508         | 2.5e+08 | 2.508       | 39.09s       |"
            ]
          },
          "metadata": {
            "tags": []
          }
        },
        {
          "output_type": "display_data",
          "data": {
            "text/html": [
              "<pre>| 2714         | 2.7e+08 | 2.714       | 42.08s       |</pre>"
            ],
            "text/plain": [
              "| 2714         | 2.7e+08 | 2.714       | 42.08s       |"
            ]
          },
          "metadata": {
            "tags": []
          }
        },
        {
          "output_type": "display_data",
          "data": {
            "text/html": [
              "<pre>| 2924         | 2.9e+08 | 2.924       | 45.09s       |</pre>"
            ],
            "text/plain": [
              "| 2924         | 2.9e+08 | 2.924       | 45.09s       |"
            ]
          },
          "metadata": {
            "tags": []
          }
        },
        {
          "output_type": "display_data",
          "data": {
            "text/html": [
              "<pre>| 3134         | 3.1e+08 | 3.134       | 48.09s       |</pre>"
            ],
            "text/plain": [
              "| 3134         | 3.1e+08 | 3.134       | 48.09s       |"
            ]
          },
          "metadata": {
            "tags": []
          }
        },
        {
          "output_type": "display_data",
          "data": {
            "text/html": [
              "<pre>| 3346         | 3.3e+08 | 3.346       | 51.10s       |</pre>"
            ],
            "text/plain": [
              "| 3346         | 3.3e+08 | 3.346       | 51.10s       |"
            ]
          },
          "metadata": {
            "tags": []
          }
        },
        {
          "output_type": "display_data",
          "data": {
            "text/html": [
              "<pre>| 3562         | 3.6e+08 | 3.562       | 54.11s       |</pre>"
            ],
            "text/plain": [
              "| 3562         | 3.6e+08 | 3.562       | 54.11s       |"
            ]
          },
          "metadata": {
            "tags": []
          }
        },
        {
          "output_type": "display_data",
          "data": {
            "text/html": [
              "<pre>| 3768         | 3.8e+08 | 3.768       | 57.09s       |</pre>"
            ],
            "text/plain": [
              "| 3768         | 3.8e+08 | 3.768       | 57.09s       |"
            ]
          },
          "metadata": {
            "tags": []
          }
        },
        {
          "output_type": "display_data",
          "data": {
            "text/html": [
              "<pre>| 3985         | 4e+08   | 3.985       | 1m 0s        |</pre>"
            ],
            "text/plain": [
              "| 3985         | 4e+08   | 3.985       | 1m 0s        |"
            ]
          },
          "metadata": {
            "tags": []
          }
        },
        {
          "output_type": "display_data",
          "data": {
            "text/html": [
              "<pre>| 4194         | 4.2e+08 | 4.194       | 1m 3s        |</pre>"
            ],
            "text/plain": [
              "| 4194         | 4.2e+08 | 4.194       | 1m 3s        |"
            ]
          },
          "metadata": {
            "tags": []
          }
        },
        {
          "output_type": "display_data",
          "data": {
            "text/html": [
              "<pre>| 4406         | 4.4e+08 | 4.406       | 1m 6s        |</pre>"
            ],
            "text/plain": [
              "| 4406         | 4.4e+08 | 4.406       | 1m 6s        |"
            ]
          },
          "metadata": {
            "tags": []
          }
        },
        {
          "output_type": "display_data",
          "data": {
            "text/html": [
              "<pre>| 4613         | 4.6e+08 | 4.613       | 1m 9s        |</pre>"
            ],
            "text/plain": [
              "| 4613         | 4.6e+08 | 4.613       | 1m 9s        |"
            ]
          },
          "metadata": {
            "tags": []
          }
        },
        {
          "output_type": "display_data",
          "data": {
            "text/html": [
              "<pre>| 4825         | 4.8e+08 | 4.825       | 1m 12s       |</pre>"
            ],
            "text/plain": [
              "| 4825         | 4.8e+08 | 4.825       | 1m 12s       |"
            ]
          },
          "metadata": {
            "tags": []
          }
        },
        {
          "output_type": "display_data",
          "data": {
            "text/html": [
              "<pre>| 5035         | 5e+08   | 5.035       | 1m 15s       |</pre>"
            ],
            "text/plain": [
              "| 5035         | 5e+08   | 5.035       | 1m 15s       |"
            ]
          },
          "metadata": {
            "tags": []
          }
        },
        {
          "output_type": "display_data",
          "data": {
            "text/html": [
              "<pre>| 5247         | 5.2e+08 | 5.247       | 1m 18s       |</pre>"
            ],
            "text/plain": [
              "| 5247         | 5.2e+08 | 5.247       | 1m 18s       |"
            ]
          },
          "metadata": {
            "tags": []
          }
        },
        {
          "output_type": "display_data",
          "data": {
            "text/html": [
              "<pre>| 5458         | 5.5e+08 | 5.458       | 1m 21s       |</pre>"
            ],
            "text/plain": [
              "| 5458         | 5.5e+08 | 5.458       | 1m 21s       |"
            ]
          },
          "metadata": {
            "tags": []
          }
        },
        {
          "output_type": "display_data",
          "data": {
            "text/html": [
              "<pre>| 5675         | 5.7e+08 | 5.675       | 1m 24s       |</pre>"
            ],
            "text/plain": [
              "| 5675         | 5.7e+08 | 5.675       | 1m 24s       |"
            ]
          },
          "metadata": {
            "tags": []
          }
        },
        {
          "output_type": "display_data",
          "data": {
            "text/html": [
              "<pre>| 5891         | 5.9e+08 | 5.891       | 1m 27s       |</pre>"
            ],
            "text/plain": [
              "| 5891         | 5.9e+08 | 5.891       | 1m 27s       |"
            ]
          },
          "metadata": {
            "tags": []
          }
        },
        {
          "output_type": "display_data",
          "data": {
            "text/html": [
              "<pre>| 6100         | 6.1e+08 | 6.1         | 1m 30s       |</pre>"
            ],
            "text/plain": [
              "| 6100         | 6.1e+08 | 6.1         | 1m 30s       |"
            ]
          },
          "metadata": {
            "tags": []
          }
        },
        {
          "output_type": "display_data",
          "data": {
            "text/html": [
              "<pre>| 6314         | 6.3e+08 | 6.314       | 1m 33s       |</pre>"
            ],
            "text/plain": [
              "| 6314         | 6.3e+08 | 6.314       | 1m 33s       |"
            ]
          },
          "metadata": {
            "tags": []
          }
        },
        {
          "output_type": "display_data",
          "data": {
            "text/html": [
              "<pre>| 6520         | 6.5e+08 | 6.52        | 1m 36s       |</pre>"
            ],
            "text/plain": [
              "| 6520         | 6.5e+08 | 6.52        | 1m 36s       |"
            ]
          },
          "metadata": {
            "tags": []
          }
        },
        {
          "output_type": "display_data",
          "data": {
            "text/html": [
              "<pre>| 6734         | 6.7e+08 | 6.734       | 1m 39s       |</pre>"
            ],
            "text/plain": [
              "| 6734         | 6.7e+08 | 6.734       | 1m 39s       |"
            ]
          },
          "metadata": {
            "tags": []
          }
        },
        {
          "output_type": "display_data",
          "data": {
            "text/html": [
              "<pre>| 6945         | 6.9e+08 | 6.945       | 1m 42s       |</pre>"
            ],
            "text/plain": [
              "| 6945         | 6.9e+08 | 6.945       | 1m 42s       |"
            ]
          },
          "metadata": {
            "tags": []
          }
        },
        {
          "output_type": "display_data",
          "data": {
            "text/html": [
              "<pre>| 7156         | 7.2e+08 | 7.156       | 1m 45s       |</pre>"
            ],
            "text/plain": [
              "| 7156         | 7.2e+08 | 7.156       | 1m 45s       |"
            ]
          },
          "metadata": {
            "tags": []
          }
        },
        {
          "output_type": "display_data",
          "data": {
            "text/html": [
              "<pre>| 7369         | 7.4e+08 | 7.369       | 1m 48s       |</pre>"
            ],
            "text/plain": [
              "| 7369         | 7.4e+08 | 7.369       | 1m 48s       |"
            ]
          },
          "metadata": {
            "tags": []
          }
        },
        {
          "output_type": "display_data",
          "data": {
            "text/html": [
              "<pre>| 7582         | 7.6e+08 | 7.582       | 1m 51s       |</pre>"
            ],
            "text/plain": [
              "| 7582         | 7.6e+08 | 7.582       | 1m 51s       |"
            ]
          },
          "metadata": {
            "tags": []
          }
        },
        {
          "output_type": "display_data",
          "data": {
            "text/html": [
              "<pre>| 7797         | 7.8e+08 | 7.797       | 1m 54s       |</pre>"
            ],
            "text/plain": [
              "| 7797         | 7.8e+08 | 7.797       | 1m 54s       |"
            ]
          },
          "metadata": {
            "tags": []
          }
        },
        {
          "output_type": "display_data",
          "data": {
            "text/html": [
              "<pre>| 8006         | 8e+08   | 8.006       | 1m 57s       |</pre>"
            ],
            "text/plain": [
              "| 8006         | 8e+08   | 8.006       | 1m 57s       |"
            ]
          },
          "metadata": {
            "tags": []
          }
        },
        {
          "output_type": "display_data",
          "data": {
            "text/html": [
              "<pre>| 8213         | 8.2e+08 | 8.213       | 2m 0s        |</pre>"
            ],
            "text/plain": [
              "| 8213         | 8.2e+08 | 8.213       | 2m 0s        |"
            ]
          },
          "metadata": {
            "tags": []
          }
        },
        {
          "output_type": "display_data",
          "data": {
            "text/html": [
              "<pre>| 8423         | 8.4e+08 | 8.423       | 2m 3s        |</pre>"
            ],
            "text/plain": [
              "| 8423         | 8.4e+08 | 8.423       | 2m 3s        |"
            ]
          },
          "metadata": {
            "tags": []
          }
        },
        {
          "output_type": "display_data",
          "data": {
            "text/html": [
              "<pre>| 8637         | 8.6e+08 | 8.637       | 2m 6s        |</pre>"
            ],
            "text/plain": [
              "| 8637         | 8.6e+08 | 8.637       | 2m 6s        |"
            ]
          },
          "metadata": {
            "tags": []
          }
        },
        {
          "output_type": "display_data",
          "data": {
            "text/html": [
              "<pre>| 8851         | 8.9e+08 | 8.851       | 2m 9s        |</pre>"
            ],
            "text/plain": [
              "| 8851         | 8.9e+08 | 8.851       | 2m 9s        |"
            ]
          },
          "metadata": {
            "tags": []
          }
        },
        {
          "output_type": "display_data",
          "data": {
            "text/html": [
              "<pre>| 9063         | 9.1e+08 | 9.063       | 2m 12s       |</pre>"
            ],
            "text/plain": [
              "| 9063         | 9.1e+08 | 9.063       | 2m 12s       |"
            ]
          },
          "metadata": {
            "tags": []
          }
        },
        {
          "output_type": "display_data",
          "data": {
            "text/html": [
              "<pre>| 9277         | 9.3e+08 | 9.277       | 2m 15s       |</pre>"
            ],
            "text/plain": [
              "| 9277         | 9.3e+08 | 9.277       | 2m 15s       |"
            ]
          },
          "metadata": {
            "tags": []
          }
        },
        {
          "output_type": "display_data",
          "data": {
            "text/html": [
              "<pre>| 9487         | 9.5e+08 | 9.487       | 2m 18s       |</pre>"
            ],
            "text/plain": [
              "| 9487         | 9.5e+08 | 9.487       | 2m 18s       |"
            ]
          },
          "metadata": {
            "tags": []
          }
        },
        {
          "output_type": "display_data",
          "data": {
            "text/html": [
              "<pre>| 9699         | 9.7e+08 | 9.699       | 2m 21s       |</pre>"
            ],
            "text/plain": [
              "| 9699         | 9.7e+08 | 9.699       | 2m 21s       |"
            ]
          },
          "metadata": {
            "tags": []
          }
        },
        {
          "output_type": "display_data",
          "data": {
            "text/html": [
              "<pre>| 9909         | 9.9e+08 | 9.909       | 2m 24s       |</pre>"
            ],
            "text/plain": [
              "| 9909         | 9.9e+08 | 9.909       | 2m 24s       |"
            ]
          },
          "metadata": {
            "tags": []
          }
        },
        {
          "output_type": "display_data",
          "data": {
            "text/html": [
              "<pre>| 10118        | 1e+09   | 10.118      | 2m 27s       |</pre>"
            ],
            "text/plain": [
              "| 10118        | 1e+09   | 10.118      | 2m 27s       |"
            ]
          },
          "metadata": {
            "tags": []
          }
        },
        {
          "output_type": "display_data",
          "data": {
            "text/html": [
              "<pre>| 10329        | 1e+09   | 10.329      | 2m 30s       |</pre>"
            ],
            "text/plain": [
              "| 10329        | 1e+09   | 10.329      | 2m 30s       |"
            ]
          },
          "metadata": {
            "tags": []
          }
        },
        {
          "output_type": "display_data",
          "data": {
            "text/html": [
              "<pre>| 10540        | 1.1e+09 | 10.54       | 2m 33s       |</pre>"
            ],
            "text/plain": [
              "| 10540        | 1.1e+09 | 10.54       | 2m 33s       |"
            ]
          },
          "metadata": {
            "tags": []
          }
        },
        {
          "output_type": "display_data",
          "data": {
            "text/html": [
              "<pre>| 10757        | 1.1e+09 | 10.757      | 2m 36s       |</pre>"
            ],
            "text/plain": [
              "| 10757        | 1.1e+09 | 10.757      | 2m 36s       |"
            ]
          },
          "metadata": {
            "tags": []
          }
        },
        {
          "output_type": "display_data",
          "data": {
            "text/html": [
              "<pre>| 10969        | 1.1e+09 | 10.969      | 2m 39s       |</pre>"
            ],
            "text/plain": [
              "| 10969        | 1.1e+09 | 10.969      | 2m 39s       |"
            ]
          },
          "metadata": {
            "tags": []
          }
        },
        {
          "output_type": "display_data",
          "data": {
            "text/html": [
              "<pre>| 11178        | 1.1e+09 | 11.178      | 2m 42s       |</pre>"
            ],
            "text/plain": [
              "| 11178        | 1.1e+09 | 11.178      | 2m 42s       |"
            ]
          },
          "metadata": {
            "tags": []
          }
        },
        {
          "output_type": "display_data",
          "data": {
            "text/html": [
              "<pre>| 11393        | 1.1e+09 | 11.393      | 2m 45s       |</pre>"
            ],
            "text/plain": [
              "| 11393        | 1.1e+09 | 11.393      | 2m 45s       |"
            ]
          },
          "metadata": {
            "tags": []
          }
        },
        {
          "output_type": "display_data",
          "data": {
            "text/html": [
              "<pre>| 11605        | 1.2e+09 | 11.605      | 2m 48s       |</pre>"
            ],
            "text/plain": [
              "| 11605        | 1.2e+09 | 11.605      | 2m 48s       |"
            ]
          },
          "metadata": {
            "tags": []
          }
        },
        {
          "output_type": "display_data",
          "data": {
            "text/html": [
              "<pre>| 11819        | 1.2e+09 | 11.819      | 2m 51s       |</pre>"
            ],
            "text/plain": [
              "| 11819        | 1.2e+09 | 11.819      | 2m 51s       |"
            ]
          },
          "metadata": {
            "tags": []
          }
        },
        {
          "output_type": "display_data",
          "data": {
            "text/html": [
              "<pre>| 12032        | 1.2e+09 | 12.032      | 2m 54s       |</pre>"
            ],
            "text/plain": [
              "| 12032        | 1.2e+09 | 12.032      | 2m 54s       |"
            ]
          },
          "metadata": {
            "tags": []
          }
        },
        {
          "output_type": "display_data",
          "data": {
            "text/html": [
              "<pre>| 12244        | 1.2e+09 | 12.244      | 2m 57s       |</pre>"
            ],
            "text/plain": [
              "| 12244        | 1.2e+09 | 12.244      | 2m 57s       |"
            ]
          },
          "metadata": {
            "tags": []
          }
        },
        {
          "output_type": "display_data",
          "data": {
            "text/html": [
              "<pre>| 12454        | 1.2e+09 | 12.454      | 3m 0s        |</pre>"
            ],
            "text/plain": [
              "| 12454        | 1.2e+09 | 12.454      | 3m 0s        |"
            ]
          },
          "metadata": {
            "tags": []
          }
        },
        {
          "output_type": "display_data",
          "data": {
            "text/html": [
              "<pre>| 12664        | 1.3e+09 | 12.664      | 3m 3s        |</pre>"
            ],
            "text/plain": [
              "| 12664        | 1.3e+09 | 12.664      | 3m 3s        |"
            ]
          },
          "metadata": {
            "tags": []
          }
        },
        {
          "output_type": "display_data",
          "data": {
            "text/html": [
              "<pre>| 12881        | 1.3e+09 | 12.881      | 3m 6s        |</pre>"
            ],
            "text/plain": [
              "| 12881        | 1.3e+09 | 12.881      | 3m 6s        |"
            ]
          },
          "metadata": {
            "tags": []
          }
        },
        {
          "output_type": "display_data",
          "data": {
            "text/html": [
              "<pre>| 13092        | 1.3e+09 | 13.092      | 3m 9s        |</pre>"
            ],
            "text/plain": [
              "| 13092        | 1.3e+09 | 13.092      | 3m 9s        |"
            ]
          },
          "metadata": {
            "tags": []
          }
        },
        {
          "output_type": "display_data",
          "data": {
            "text/html": [
              "<pre>| 13304        | 1.3e+09 | 13.304      | 3m 12s       |</pre>"
            ],
            "text/plain": [
              "| 13304        | 1.3e+09 | 13.304      | 3m 12s       |"
            ]
          },
          "metadata": {
            "tags": []
          }
        },
        {
          "output_type": "display_data",
          "data": {
            "text/html": [
              "<pre>| 13518        | 1.4e+09 | 13.518      | 3m 15s       |</pre>"
            ],
            "text/plain": [
              "| 13518        | 1.4e+09 | 13.518      | 3m 15s       |"
            ]
          },
          "metadata": {
            "tags": []
          }
        },
        {
          "output_type": "display_data",
          "data": {
            "text/html": [
              "<pre>| 13731        | 1.4e+09 | 13.731      | 3m 18s       |</pre>"
            ],
            "text/plain": [
              "| 13731        | 1.4e+09 | 13.731      | 3m 18s       |"
            ]
          },
          "metadata": {
            "tags": []
          }
        },
        {
          "output_type": "display_data",
          "data": {
            "text/html": [
              "<pre>| 13942        | 1.4e+09 | 13.942      | 3m 21s       |</pre>"
            ],
            "text/plain": [
              "| 13942        | 1.4e+09 | 13.942      | 3m 21s       |"
            ]
          },
          "metadata": {
            "tags": []
          }
        },
        {
          "output_type": "display_data",
          "data": {
            "text/html": [
              "<pre>| 14155        | 1.4e+09 | 14.155      | 3m 24s       |</pre>"
            ],
            "text/plain": [
              "| 14155        | 1.4e+09 | 14.155      | 3m 24s       |"
            ]
          },
          "metadata": {
            "tags": []
          }
        },
        {
          "output_type": "display_data",
          "data": {
            "text/html": [
              "<pre>| 14367        | 1.4e+09 | 14.367      | 3m 27s       |</pre>"
            ],
            "text/plain": [
              "| 14367        | 1.4e+09 | 14.367      | 3m 27s       |"
            ]
          },
          "metadata": {
            "tags": []
          }
        },
        {
          "output_type": "display_data",
          "data": {
            "text/html": [
              "<pre>| 14576        | 1.5e+09 | 14.576      | 3m 30s       |</pre>"
            ],
            "text/plain": [
              "| 14576        | 1.5e+09 | 14.576      | 3m 30s       |"
            ]
          },
          "metadata": {
            "tags": []
          }
        },
        {
          "output_type": "display_data",
          "data": {
            "text/html": [
              "<pre>| 14786        | 1.5e+09 | 14.786      | 3m 33s       |</pre>"
            ],
            "text/plain": [
              "| 14786        | 1.5e+09 | 14.786      | 3m 33s       |"
            ]
          },
          "metadata": {
            "tags": []
          }
        },
        {
          "output_type": "display_data",
          "data": {
            "text/html": [
              "<pre>| 15000        | 1.5e+09 | 15          | 3m 36s       |</pre>"
            ],
            "text/plain": [
              "| 15000        | 1.5e+09 | 15          | 3m 36s       |"
            ]
          },
          "metadata": {
            "tags": []
          }
        },
        {
          "output_type": "display_data",
          "data": {
            "text/html": [
              "<pre>| 15210        | 1.5e+09 | 15.21       | 3m 39s       |</pre>"
            ],
            "text/plain": [
              "| 15210        | 1.5e+09 | 15.21       | 3m 39s       |"
            ]
          },
          "metadata": {
            "tags": []
          }
        },
        {
          "output_type": "display_data",
          "data": {
            "text/html": [
              "<pre>| 15421        | 1.5e+09 | 15.421      | 3m 42s       |</pre>"
            ],
            "text/plain": [
              "| 15421        | 1.5e+09 | 15.421      | 3m 42s       |"
            ]
          },
          "metadata": {
            "tags": []
          }
        },
        {
          "output_type": "display_data",
          "data": {
            "text/html": [
              "<pre>| 15636        | 1.6e+09 | 15.636      | 3m 45s       |</pre>"
            ],
            "text/plain": [
              "| 15636        | 1.6e+09 | 15.636      | 3m 45s       |"
            ]
          },
          "metadata": {
            "tags": []
          }
        },
        {
          "output_type": "display_data",
          "data": {
            "text/html": [
              "<pre>| 15849        | 1.6e+09 | 15.849      | 3m 48s       |</pre>"
            ],
            "text/plain": [
              "| 15849        | 1.6e+09 | 15.849      | 3m 48s       |"
            ]
          },
          "metadata": {
            "tags": []
          }
        },
        {
          "output_type": "display_data",
          "data": {
            "text/html": [
              "<pre>| 16062        | 1.6e+09 | 16.062      | 3m 51s       |</pre>"
            ],
            "text/plain": [
              "| 16062        | 1.6e+09 | 16.062      | 3m 51s       |"
            ]
          },
          "metadata": {
            "tags": []
          }
        },
        {
          "output_type": "display_data",
          "data": {
            "text/html": [
              "<pre>| 16276        | 1.6e+09 | 16.276      | 3m 54s       |</pre>"
            ],
            "text/plain": [
              "| 16276        | 1.6e+09 | 16.276      | 3m 54s       |"
            ]
          },
          "metadata": {
            "tags": []
          }
        },
        {
          "output_type": "display_data",
          "data": {
            "text/html": [
              "<pre>| 16492        | 1.6e+09 | 16.492      | 3m 57s       |</pre>"
            ],
            "text/plain": [
              "| 16492        | 1.6e+09 | 16.492      | 3m 57s       |"
            ]
          },
          "metadata": {
            "tags": []
          }
        },
        {
          "output_type": "display_data",
          "data": {
            "text/html": [
              "<pre>| 16703        | 1.7e+09 | 16.703      | 4m 0s        |</pre>"
            ],
            "text/plain": [
              "| 16703        | 1.7e+09 | 16.703      | 4m 0s        |"
            ]
          },
          "metadata": {
            "tags": []
          }
        },
        {
          "output_type": "display_data",
          "data": {
            "text/html": [
              "<pre>| 16912        | 1.7e+09 | 16.912      | 4m 3s        |</pre>"
            ],
            "text/plain": [
              "| 16912        | 1.7e+09 | 16.912      | 4m 3s        |"
            ]
          },
          "metadata": {
            "tags": []
          }
        },
        {
          "output_type": "display_data",
          "data": {
            "text/html": [
              "<pre>| 17126        | 1.7e+09 | 17.126      | 4m 6s        |</pre>"
            ],
            "text/plain": [
              "| 17126        | 1.7e+09 | 17.126      | 4m 6s        |"
            ]
          },
          "metadata": {
            "tags": []
          }
        },
        {
          "output_type": "display_data",
          "data": {
            "text/html": [
              "<pre>| 17340        | 1.7e+09 | 17.34       | 4m 9s        |</pre>"
            ],
            "text/plain": [
              "| 17340        | 1.7e+09 | 17.34       | 4m 9s        |"
            ]
          },
          "metadata": {
            "tags": []
          }
        },
        {
          "output_type": "display_data",
          "data": {
            "text/html": [
              "<pre>| 17552        | 1.8e+09 | 17.552      | 4m 12s       |</pre>"
            ],
            "text/plain": [
              "| 17552        | 1.8e+09 | 17.552      | 4m 12s       |"
            ]
          },
          "metadata": {
            "tags": []
          }
        },
        {
          "output_type": "display_data",
          "data": {
            "text/html": [
              "<pre>| 17763        | 1.8e+09 | 17.763      | 4m 15s       |</pre>"
            ],
            "text/plain": [
              "| 17763        | 1.8e+09 | 17.763      | 4m 15s       |"
            ]
          },
          "metadata": {
            "tags": []
          }
        },
        {
          "output_type": "display_data",
          "data": {
            "text/html": [
              "<pre>| 17973        | 1.8e+09 | 17.973      | 4m 18s       |</pre>"
            ],
            "text/plain": [
              "| 17973        | 1.8e+09 | 17.973      | 4m 18s       |"
            ]
          },
          "metadata": {
            "tags": []
          }
        },
        {
          "output_type": "display_data",
          "data": {
            "text/html": [
              "<pre>| 18181        | 1.8e+09 | 18.181      | 4m 21s       |</pre>"
            ],
            "text/plain": [
              "| 18181        | 1.8e+09 | 18.181      | 4m 21s       |"
            ]
          },
          "metadata": {
            "tags": []
          }
        },
        {
          "output_type": "display_data",
          "data": {
            "text/html": [
              "<pre>| 18395        | 1.8e+09 | 18.395      | 4m 24s       |</pre>"
            ],
            "text/plain": [
              "| 18395        | 1.8e+09 | 18.395      | 4m 24s       |"
            ]
          },
          "metadata": {
            "tags": []
          }
        },
        {
          "output_type": "display_data",
          "data": {
            "text/html": [
              "<pre>| 18611        | 1.9e+09 | 18.611      | 4m 27s       |</pre>"
            ],
            "text/plain": [
              "| 18611        | 1.9e+09 | 18.611      | 4m 27s       |"
            ]
          },
          "metadata": {
            "tags": []
          }
        },
        {
          "output_type": "display_data",
          "data": {
            "text/html": [
              "<pre>| 18823        | 1.9e+09 | 18.823      | 4m 30s       |</pre>"
            ],
            "text/plain": [
              "| 18823        | 1.9e+09 | 18.823      | 4m 30s       |"
            ]
          },
          "metadata": {
            "tags": []
          }
        },
        {
          "output_type": "display_data",
          "data": {
            "text/html": [
              "<pre>| 19035        | 1.9e+09 | 19.035      | 4m 33s       |</pre>"
            ],
            "text/plain": [
              "| 19035        | 1.9e+09 | 19.035      | 4m 33s       |"
            ]
          },
          "metadata": {
            "tags": []
          }
        },
        {
          "output_type": "display_data",
          "data": {
            "text/html": [
              "<pre>| 19251        | 1.9e+09 | 19.251      | 4m 36s       |</pre>"
            ],
            "text/plain": [
              "| 19251        | 1.9e+09 | 19.251      | 4m 36s       |"
            ]
          },
          "metadata": {
            "tags": []
          }
        },
        {
          "output_type": "display_data",
          "data": {
            "text/html": [
              "<pre>| 19464        | 1.9e+09 | 19.464      | 4m 39s       |</pre>"
            ],
            "text/plain": [
              "| 19464        | 1.9e+09 | 19.464      | 4m 39s       |"
            ]
          },
          "metadata": {
            "tags": []
          }
        },
        {
          "output_type": "display_data",
          "data": {
            "text/html": [
              "<pre>| 19678        | 2e+09   | 19.678      | 4m 42s       |</pre>"
            ],
            "text/plain": [
              "| 19678        | 2e+09   | 19.678      | 4m 42s       |"
            ]
          },
          "metadata": {
            "tags": []
          }
        },
        {
          "output_type": "display_data",
          "data": {
            "text/html": [
              "<pre>| 19889        | 2e+09   | 19.889      | 4m 45s       |</pre>"
            ],
            "text/plain": [
              "| 19889        | 2e+09   | 19.889      | 4m 45s       |"
            ]
          },
          "metadata": {
            "tags": []
          }
        },
        {
          "output_type": "display_data",
          "data": {
            "text/html": [
              "<pre>| 20103        | 2e+09   | 20.103      | 4m 48s       |</pre>"
            ],
            "text/plain": [
              "| 20103        | 2e+09   | 20.103      | 4m 48s       |"
            ]
          },
          "metadata": {
            "tags": []
          }
        },
        {
          "output_type": "display_data",
          "data": {
            "text/html": [
              "<pre>| 20315        | 2e+09   | 20.315      | 4m 51s       |</pre>"
            ],
            "text/plain": [
              "| 20315        | 2e+09   | 20.315      | 4m 51s       |"
            ]
          },
          "metadata": {
            "tags": []
          }
        },
        {
          "output_type": "display_data",
          "data": {
            "text/html": [
              "<pre>| 20526        | 2.1e+09 | 20.526      | 4m 54s       |</pre>"
            ],
            "text/plain": [
              "| 20526        | 2.1e+09 | 20.526      | 4m 54s       |"
            ]
          },
          "metadata": {
            "tags": []
          }
        },
        {
          "output_type": "display_data",
          "data": {
            "text/html": [
              "<pre>| 20738        | 2.1e+09 | 20.738      | 4m 57s       |</pre>"
            ],
            "text/plain": [
              "| 20738        | 2.1e+09 | 20.738      | 4m 57s       |"
            ]
          },
          "metadata": {
            "tags": []
          }
        },
        {
          "output_type": "display_data",
          "data": {
            "text/html": [
              "<pre>| 20952        | 2.1e+09 | 20.952      | 5m 0s        |</pre>"
            ],
            "text/plain": [
              "| 20952        | 2.1e+09 | 20.952      | 5m 0s        |"
            ]
          },
          "metadata": {
            "tags": []
          }
        },
        {
          "output_type": "display_data",
          "data": {
            "text/html": [
              "<pre>| 21165        | 2.1e+09 | 21.165      | 5m 3s        |</pre>"
            ],
            "text/plain": [
              "| 21165        | 2.1e+09 | 21.165      | 5m 3s        |"
            ]
          },
          "metadata": {
            "tags": []
          }
        },
        {
          "output_type": "display_data",
          "data": {
            "text/html": [
              "<pre>| 21379        | 2.1e+09 | 21.379      | 5m 6s        |</pre>"
            ],
            "text/plain": [
              "| 21379        | 2.1e+09 | 21.379      | 5m 6s        |"
            ]
          },
          "metadata": {
            "tags": []
          }
        },
        {
          "output_type": "display_data",
          "data": {
            "text/html": [
              "<pre>| 21593        | 2.2e+09 | 21.593      | 5m 9s        |</pre>"
            ],
            "text/plain": [
              "| 21593        | 2.2e+09 | 21.593      | 5m 9s        |"
            ]
          },
          "metadata": {
            "tags": []
          }
        },
        {
          "output_type": "display_data",
          "data": {
            "text/html": [
              "<pre>| 21806        | 2.2e+09 | 21.806      | 5m 12s       |</pre>"
            ],
            "text/plain": [
              "| 21806        | 2.2e+09 | 21.806      | 5m 12s       |"
            ]
          },
          "metadata": {
            "tags": []
          }
        },
        {
          "output_type": "display_data",
          "data": {
            "text/html": [
              "<pre>| 22020        | 2.2e+09 | 22.02       | 5m 15s       |</pre>"
            ],
            "text/plain": [
              "| 22020        | 2.2e+09 | 22.02       | 5m 15s       |"
            ]
          },
          "metadata": {
            "tags": []
          }
        },
        {
          "output_type": "display_data",
          "data": {
            "text/html": [
              "<pre>| 22235        | 2.2e+09 | 22.235      | 5m 18s       |</pre>"
            ],
            "text/plain": [
              "| 22235        | 2.2e+09 | 22.235      | 5m 18s       |"
            ]
          },
          "metadata": {
            "tags": []
          }
        },
        {
          "output_type": "display_data",
          "data": {
            "text/html": [
              "<pre>| 22449        | 2.2e+09 | 22.449      | 5m 21s       |</pre>"
            ],
            "text/plain": [
              "| 22449        | 2.2e+09 | 22.449      | 5m 21s       |"
            ]
          },
          "metadata": {
            "tags": []
          }
        },
        {
          "output_type": "display_data",
          "data": {
            "text/html": [
              "<pre>| 22660        | 2.3e+09 | 22.66       | 5m 24s       |</pre>"
            ],
            "text/plain": [
              "| 22660        | 2.3e+09 | 22.66       | 5m 24s       |"
            ]
          },
          "metadata": {
            "tags": []
          }
        },
        {
          "output_type": "display_data",
          "data": {
            "text/html": [
              "<pre>| 22873        | 2.3e+09 | 22.873      | 5m 27s       |</pre>"
            ],
            "text/plain": [
              "| 22873        | 2.3e+09 | 22.873      | 5m 27s       |"
            ]
          },
          "metadata": {
            "tags": []
          }
        },
        {
          "output_type": "display_data",
          "data": {
            "text/html": [
              "<pre>| 23084        | 2.3e+09 | 23.084      | 5m 30s       |</pre>"
            ],
            "text/plain": [
              "| 23084        | 2.3e+09 | 23.084      | 5m 30s       |"
            ]
          },
          "metadata": {
            "tags": []
          }
        },
        {
          "output_type": "display_data",
          "data": {
            "text/html": [
              "<pre>| 23299        | 2.3e+09 | 23.299      | 5m 33s       |</pre>"
            ],
            "text/plain": [
              "| 23299        | 2.3e+09 | 23.299      | 5m 33s       |"
            ]
          },
          "metadata": {
            "tags": []
          }
        },
        {
          "output_type": "display_data",
          "data": {
            "text/html": [
              "<pre>| 23511        | 2.4e+09 | 23.511      | 5m 36s       |</pre>"
            ],
            "text/plain": [
              "| 23511        | 2.4e+09 | 23.511      | 5m 36s       |"
            ]
          },
          "metadata": {
            "tags": []
          }
        },
        {
          "output_type": "display_data",
          "data": {
            "text/html": [
              "<pre>| 23725        | 2.4e+09 | 23.725      | 5m 39s       |</pre>"
            ],
            "text/plain": [
              "| 23725        | 2.4e+09 | 23.725      | 5m 39s       |"
            ]
          },
          "metadata": {
            "tags": []
          }
        },
        {
          "output_type": "display_data",
          "data": {
            "text/html": [
              "<pre>| 23937        | 2.4e+09 | 23.937      | 5m 42s       |</pre>"
            ],
            "text/plain": [
              "| 23937        | 2.4e+09 | 23.937      | 5m 42s       |"
            ]
          },
          "metadata": {
            "tags": []
          }
        },
        {
          "output_type": "display_data",
          "data": {
            "text/html": [
              "<pre>| 24151        | 2.4e+09 | 24.151      | 5m 45s       |</pre>"
            ],
            "text/plain": [
              "| 24151        | 2.4e+09 | 24.151      | 5m 45s       |"
            ]
          },
          "metadata": {
            "tags": []
          }
        },
        {
          "output_type": "display_data",
          "data": {
            "text/html": [
              "<pre>| 24367        | 2.4e+09 | 24.367      | 5m 48s       |</pre>"
            ],
            "text/plain": [
              "| 24367        | 2.4e+09 | 24.367      | 5m 48s       |"
            ]
          },
          "metadata": {
            "tags": []
          }
        },
        {
          "output_type": "display_data",
          "data": {
            "text/html": [
              "<pre>| 24582        | 2.5e+09 | 24.582      | 5m 51s       |</pre>"
            ],
            "text/plain": [
              "| 24582        | 2.5e+09 | 24.582      | 5m 51s       |"
            ]
          },
          "metadata": {
            "tags": []
          }
        },
        {
          "output_type": "display_data",
          "data": {
            "text/html": [
              "<pre>| 24798        | 2.5e+09 | 24.798      | 5m 54s       |</pre>"
            ],
            "text/plain": [
              "| 24798        | 2.5e+09 | 24.798      | 5m 54s       |"
            ]
          },
          "metadata": {
            "tags": []
          }
        },
        {
          "output_type": "display_data",
          "data": {
            "text/html": [
              "<pre>| 25013        | 2.5e+09 | 25.013      | 5m 57s       |</pre>"
            ],
            "text/plain": [
              "| 25013        | 2.5e+09 | 25.013      | 5m 57s       |"
            ]
          },
          "metadata": {
            "tags": []
          }
        },
        {
          "output_type": "display_data",
          "data": {
            "text/html": [
              "<pre>| 25228        | 2.5e+09 | 25.228      | 6m 0s        |</pre>"
            ],
            "text/plain": [
              "| 25228        | 2.5e+09 | 25.228      | 6m 0s        |"
            ]
          },
          "metadata": {
            "tags": []
          }
        },
        {
          "output_type": "display_data",
          "data": {
            "text/html": [
              "<pre>| 25442        | 2.5e+09 | 25.442      | 6m 3s        |</pre>"
            ],
            "text/plain": [
              "| 25442        | 2.5e+09 | 25.442      | 6m 3s        |"
            ]
          },
          "metadata": {
            "tags": []
          }
        },
        {
          "output_type": "display_data",
          "data": {
            "text/html": [
              "<pre>| 25655        | 2.6e+09 | 25.655      | 6m 6s        |</pre>"
            ],
            "text/plain": [
              "| 25655        | 2.6e+09 | 25.655      | 6m 6s        |"
            ]
          },
          "metadata": {
            "tags": []
          }
        },
        {
          "output_type": "display_data",
          "data": {
            "text/html": [
              "<pre>| 25869        | 2.6e+09 | 25.869      | 6m 9s        |</pre>"
            ],
            "text/plain": [
              "| 25869        | 2.6e+09 | 25.869      | 6m 9s        |"
            ]
          },
          "metadata": {
            "tags": []
          }
        },
        {
          "output_type": "display_data",
          "data": {
            "text/html": [
              "<pre>| 26082        | 2.6e+09 | 26.082      | 6m 12s       |</pre>"
            ],
            "text/plain": [
              "| 26082        | 2.6e+09 | 26.082      | 6m 12s       |"
            ]
          },
          "metadata": {
            "tags": []
          }
        },
        {
          "output_type": "display_data",
          "data": {
            "text/html": [
              "<pre>| 26296        | 2.6e+09 | 26.296      | 6m 15s       |</pre>"
            ],
            "text/plain": [
              "| 26296        | 2.6e+09 | 26.296      | 6m 15s       |"
            ]
          },
          "metadata": {
            "tags": []
          }
        },
        {
          "output_type": "display_data",
          "data": {
            "text/html": [
              "<pre>| 26509        | 2.7e+09 | 26.509      | 6m 18s       |</pre>"
            ],
            "text/plain": [
              "| 26509        | 2.7e+09 | 26.509      | 6m 18s       |"
            ]
          },
          "metadata": {
            "tags": []
          }
        },
        {
          "output_type": "display_data",
          "data": {
            "text/html": [
              "<pre>| 26670        | 2.7e+09 | 26.67       | 6m 21s       |</pre>"
            ],
            "text/plain": [
              "| 26670        | 2.7e+09 | 26.67       | 6m 21s       |"
            ]
          },
          "metadata": {
            "tags": []
          }
        },
        {
          "output_type": "display_data",
          "data": {
            "text/html": [
              "<pre>| 26874        | 2.7e+09 | 26.874      | 6m 24s       |</pre>"
            ],
            "text/plain": [
              "| 26874        | 2.7e+09 | 26.874      | 6m 24s       |"
            ]
          },
          "metadata": {
            "tags": []
          }
        },
        {
          "output_type": "display_data",
          "data": {
            "text/html": [
              "<pre>| 27085        | 2.7e+09 | 27.085      | 6m 27s       |</pre>"
            ],
            "text/plain": [
              "| 27085        | 2.7e+09 | 27.085      | 6m 27s       |"
            ]
          },
          "metadata": {
            "tags": []
          }
        },
        {
          "output_type": "display_data",
          "data": {
            "text/html": [
              "<pre>| 27296        | 2.7e+09 | 27.296      | 6m 30s       |</pre>"
            ],
            "text/plain": [
              "| 27296        | 2.7e+09 | 27.296      | 6m 30s       |"
            ]
          },
          "metadata": {
            "tags": []
          }
        },
        {
          "output_type": "display_data",
          "data": {
            "text/html": [
              "<pre>| 27509        | 2.8e+09 | 27.509      | 6m 33s       |</pre>"
            ],
            "text/plain": [
              "| 27509        | 2.8e+09 | 27.509      | 6m 33s       |"
            ]
          },
          "metadata": {
            "tags": []
          }
        },
        {
          "output_type": "display_data",
          "data": {
            "text/html": [
              "<pre>| 27720        | 2.8e+09 | 27.72       | 6m 36s       |</pre>"
            ],
            "text/plain": [
              "| 27720        | 2.8e+09 | 27.72       | 6m 36s       |"
            ]
          },
          "metadata": {
            "tags": []
          }
        },
        {
          "output_type": "display_data",
          "data": {
            "text/html": [
              "<pre>| 27931        | 2.8e+09 | 27.931      | 6m 39s       |</pre>"
            ],
            "text/plain": [
              "| 27931        | 2.8e+09 | 27.931      | 6m 39s       |"
            ]
          },
          "metadata": {
            "tags": []
          }
        },
        {
          "output_type": "display_data",
          "data": {
            "text/html": [
              "<pre>| 28143        | 2.8e+09 | 28.143      | 6m 42s       |</pre>"
            ],
            "text/plain": [
              "| 28143        | 2.8e+09 | 28.143      | 6m 42s       |"
            ]
          },
          "metadata": {
            "tags": []
          }
        },
        {
          "output_type": "display_data",
          "data": {
            "text/html": [
              "<pre>| 28358        | 2.8e+09 | 28.358      | 6m 45s       |</pre>"
            ],
            "text/plain": [
              "| 28358        | 2.8e+09 | 28.358      | 6m 45s       |"
            ]
          },
          "metadata": {
            "tags": []
          }
        },
        {
          "output_type": "display_data",
          "data": {
            "text/html": [
              "<pre>| 28572        | 2.9e+09 | 28.572      | 6m 48s       |</pre>"
            ],
            "text/plain": [
              "| 28572        | 2.9e+09 | 28.572      | 6m 48s       |"
            ]
          },
          "metadata": {
            "tags": []
          }
        },
        {
          "output_type": "display_data",
          "data": {
            "text/html": [
              "<pre>| 28786        | 2.9e+09 | 28.786      | 6m 51s       |</pre>"
            ],
            "text/plain": [
              "| 28786        | 2.9e+09 | 28.786      | 6m 51s       |"
            ]
          },
          "metadata": {
            "tags": []
          }
        },
        {
          "output_type": "display_data",
          "data": {
            "text/html": [
              "<pre>| 28999        |         | 28.999      | 6m 54s       |</pre>"
            ],
            "text/plain": [
              "| 28999        |         | 28.999      | 6m 54s       |"
            ]
          },
          "metadata": {
            "tags": []
          }
        },
        {
          "output_type": "display_data",
          "data": {
            "text/html": [
              "<pre>| 29219        | 2.9e+09 | 29.219      | 6m 57s       |</pre>"
            ],
            "text/plain": [
              "| 29219        | 2.9e+09 | 29.219      | 6m 57s       |"
            ]
          },
          "metadata": {
            "tags": []
          }
        },
        {
          "output_type": "display_data",
          "data": {
            "text/html": [
              "<pre>| 29432        | 2.9e+09 | 29.432      | 7m 0s        |</pre>"
            ],
            "text/plain": [
              "| 29432        | 2.9e+09 | 29.432      | 7m 0s        |"
            ]
          },
          "metadata": {
            "tags": []
          }
        },
        {
          "output_type": "display_data",
          "data": {
            "text/html": [
              "<pre>| 29641        | 3e+09   | 29.641      | 7m 3s        |</pre>"
            ],
            "text/plain": [
              "| 29641        | 3e+09   | 29.641      | 7m 3s        |"
            ]
          },
          "metadata": {
            "tags": []
          }
        },
        {
          "output_type": "display_data",
          "data": {
            "text/html": [
              "<pre>| 29853        | 3e+09   | 29.853      | 7m 6s        |</pre>"
            ],
            "text/plain": [
              "| 29853        | 3e+09   | 29.853      | 7m 6s        |"
            ]
          },
          "metadata": {
            "tags": []
          }
        },
        {
          "output_type": "display_data",
          "data": {
            "text/html": [
              "<pre>| 30071        | 3e+09   | 30.071      | 7m 9s        |</pre>"
            ],
            "text/plain": [
              "| 30071        | 3e+09   | 30.071      | 7m 9s        |"
            ]
          },
          "metadata": {
            "tags": []
          }
        },
        {
          "output_type": "display_data",
          "data": {
            "text/html": [
              "<pre>| 30286        | 3e+09   | 30.286      | 7m 12s       |</pre>"
            ],
            "text/plain": [
              "| 30286        | 3e+09   | 30.286      | 7m 12s       |"
            ]
          },
          "metadata": {
            "tags": []
          }
        },
        {
          "output_type": "display_data",
          "data": {
            "text/html": [
              "<pre>| 30501        | 3.1e+09 | 30.501      | 7m 15s       |</pre>"
            ],
            "text/plain": [
              "| 30501        | 3.1e+09 | 30.501      | 7m 15s       |"
            ]
          },
          "metadata": {
            "tags": []
          }
        },
        {
          "output_type": "display_data",
          "data": {
            "text/html": [
              "<pre>| 30718        | 3.1e+09 | 30.718      | 7m 18s       |</pre>"
            ],
            "text/plain": [
              "| 30718        | 3.1e+09 | 30.718      | 7m 18s       |"
            ]
          },
          "metadata": {
            "tags": []
          }
        },
        {
          "output_type": "display_data",
          "data": {
            "text/html": [
              "<pre>| 30931        | 3.1e+09 | 30.931      | 7m 21s       |</pre>"
            ],
            "text/plain": [
              "| 30931        | 3.1e+09 | 30.931      | 7m 21s       |"
            ]
          },
          "metadata": {
            "tags": []
          }
        },
        {
          "output_type": "display_data",
          "data": {
            "text/html": [
              "<pre>| 31141        | 3.1e+09 | 31.141      | 7m 24s       |</pre>"
            ],
            "text/plain": [
              "| 31141        | 3.1e+09 | 31.141      | 7m 24s       |"
            ]
          },
          "metadata": {
            "tags": []
          }
        },
        {
          "output_type": "display_data",
          "data": {
            "text/html": [
              "<pre>| 31355        | 3.1e+09 | 31.355      | 7m 27s       |</pre>"
            ],
            "text/plain": [
              "| 31355        | 3.1e+09 | 31.355      | 7m 27s       |"
            ]
          },
          "metadata": {
            "tags": []
          }
        },
        {
          "output_type": "display_data",
          "data": {
            "text/html": [
              "<pre>| 31570        | 3.2e+09 | 31.57       | 7m 30s       |</pre>"
            ],
            "text/plain": [
              "| 31570        | 3.2e+09 | 31.57       | 7m 30s       |"
            ]
          },
          "metadata": {
            "tags": []
          }
        },
        {
          "output_type": "display_data",
          "data": {
            "text/html": [
              "<pre>| 31781        | 3.2e+09 | 31.781      | 7m 33s       |</pre>"
            ],
            "text/plain": [
              "| 31781        | 3.2e+09 | 31.781      | 7m 33s       |"
            ]
          },
          "metadata": {
            "tags": []
          }
        },
        {
          "output_type": "display_data",
          "data": {
            "text/html": [
              "<pre>| 31971        | 3.2e+09 | 31.971      | 7m 36s       |</pre>"
            ],
            "text/plain": [
              "| 31971        | 3.2e+09 | 31.971      | 7m 36s       |"
            ]
          },
          "metadata": {
            "tags": []
          }
        },
        {
          "output_type": "display_data",
          "data": {
            "text/html": [
              "<pre>| 32183        | 3.2e+09 | 32.183      | 7m 39s       |</pre>"
            ],
            "text/plain": [
              "| 32183        | 3.2e+09 | 32.183      | 7m 39s       |"
            ]
          },
          "metadata": {
            "tags": []
          }
        },
        {
          "output_type": "display_data",
          "data": {
            "text/html": [
              "<pre>| 32393        | 3.2e+09 | 32.393      | 7m 42s       |</pre>"
            ],
            "text/plain": [
              "| 32393        | 3.2e+09 | 32.393      | 7m 42s       |"
            ]
          },
          "metadata": {
            "tags": []
          }
        },
        {
          "output_type": "display_data",
          "data": {
            "text/html": [
              "<pre>| 32610        | 3.3e+09 | 32.61       | 7m 45s       |</pre>"
            ],
            "text/plain": [
              "| 32610        | 3.3e+09 | 32.61       | 7m 45s       |"
            ]
          },
          "metadata": {
            "tags": []
          }
        },
        {
          "output_type": "display_data",
          "data": {
            "text/html": [
              "<pre>| 32823        | 3.3e+09 | 32.823      | 7m 48s       |</pre>"
            ],
            "text/plain": [
              "| 32823        | 3.3e+09 | 32.823      | 7m 48s       |"
            ]
          },
          "metadata": {
            "tags": []
          }
        },
        {
          "output_type": "display_data",
          "data": {
            "text/html": [
              "<pre>| 33041        | 3.3e+09 | 33.041      | 7m 51s       |</pre>"
            ],
            "text/plain": [
              "| 33041        | 3.3e+09 | 33.041      | 7m 51s       |"
            ]
          },
          "metadata": {
            "tags": []
          }
        },
        {
          "output_type": "display_data",
          "data": {
            "text/html": [
              "<pre>| 33255        | 3.3e+09 | 33.255      | 7m 54s       |</pre>"
            ],
            "text/plain": [
              "| 33255        | 3.3e+09 | 33.255      | 7m 54s       |"
            ]
          },
          "metadata": {
            "tags": []
          }
        },
        {
          "output_type": "display_data",
          "data": {
            "text/html": [
              "<pre>| 33471        | 3.3e+09 | 33.471      | 7m 57s       |</pre>"
            ],
            "text/plain": [
              "| 33471        | 3.3e+09 | 33.471      | 7m 57s       |"
            ]
          },
          "metadata": {
            "tags": []
          }
        },
        {
          "output_type": "display_data",
          "data": {
            "text/html": [
              "<pre>| 33684        | 3.4e+09 | 33.684      | 8m 0s        |</pre>"
            ],
            "text/plain": [
              "| 33684        | 3.4e+09 | 33.684      | 8m 0s        |"
            ]
          },
          "metadata": {
            "tags": []
          }
        },
        {
          "output_type": "display_data",
          "data": {
            "text/html": [
              "<pre>| 33898        | 3.4e+09 | 33.898      | 8m 3s        |</pre>"
            ],
            "text/plain": [
              "| 33898        | 3.4e+09 | 33.898      | 8m 3s        |"
            ]
          },
          "metadata": {
            "tags": []
          }
        },
        {
          "output_type": "display_data",
          "data": {
            "text/html": [
              "<pre>| 34112        | 3.4e+09 | 34.112      | 8m 6s        |</pre>"
            ],
            "text/plain": [
              "| 34112        | 3.4e+09 | 34.112      | 8m 6s        |"
            ]
          },
          "metadata": {
            "tags": []
          }
        },
        {
          "output_type": "display_data",
          "data": {
            "text/html": [
              "<pre>| 34326        | 3.4e+09 | 34.326      | 8m 9s        |</pre>"
            ],
            "text/plain": [
              "| 34326        | 3.4e+09 | 34.326      | 8m 9s        |"
            ]
          },
          "metadata": {
            "tags": []
          }
        },
        {
          "output_type": "display_data",
          "data": {
            "text/html": [
              "<pre>| 34542        | 3.5e+09 | 34.542      | 8m 12s       |</pre>"
            ],
            "text/plain": [
              "| 34542        | 3.5e+09 | 34.542      | 8m 12s       |"
            ]
          },
          "metadata": {
            "tags": []
          }
        },
        {
          "output_type": "display_data",
          "data": {
            "text/html": [
              "<pre>| 34756        | 3.5e+09 | 34.756      | 8m 15s       |</pre>"
            ],
            "text/plain": [
              "| 34756        | 3.5e+09 | 34.756      | 8m 15s       |"
            ]
          },
          "metadata": {
            "tags": []
          }
        },
        {
          "output_type": "display_data",
          "data": {
            "text/html": [
              "<pre>| 34970        | 3.5e+09 | 34.97       | 8m 18s       |</pre>"
            ],
            "text/plain": [
              "| 34970        | 3.5e+09 | 34.97       | 8m 18s       |"
            ]
          },
          "metadata": {
            "tags": []
          }
        },
        {
          "output_type": "display_data",
          "data": {
            "text/html": [
              "<pre>| 35184        | 3.5e+09 | 35.184      | 8m 21s       |</pre>"
            ],
            "text/plain": [
              "| 35184        | 3.5e+09 | 35.184      | 8m 21s       |"
            ]
          },
          "metadata": {
            "tags": []
          }
        },
        {
          "output_type": "display_data",
          "data": {
            "text/html": [
              "<pre>| 35399        | 3.5e+09 | 35.399      | 8m 24s       |</pre>"
            ],
            "text/plain": [
              "| 35399        | 3.5e+09 | 35.399      | 8m 24s       |"
            ]
          },
          "metadata": {
            "tags": []
          }
        },
        {
          "output_type": "display_data",
          "data": {
            "text/html": [
              "<pre>| 35615        | 3.6e+09 | 35.615      | 8m 27s       |</pre>"
            ],
            "text/plain": [
              "| 35615        | 3.6e+09 | 35.615      | 8m 27s       |"
            ]
          },
          "metadata": {
            "tags": []
          }
        },
        {
          "output_type": "display_data",
          "data": {
            "text/html": [
              "<pre>| 35827        | 3.6e+09 | 35.827      | 8m 30s       |</pre>"
            ],
            "text/plain": [
              "| 35827        | 3.6e+09 | 35.827      | 8m 30s       |"
            ]
          },
          "metadata": {
            "tags": []
          }
        },
        {
          "output_type": "display_data",
          "data": {
            "text/html": [
              "<pre>| 36045        | 3.6e+09 | 36.045      | 8m 33s       |</pre>"
            ],
            "text/plain": [
              "| 36045        | 3.6e+09 | 36.045      | 8m 33s       |"
            ]
          },
          "metadata": {
            "tags": []
          }
        },
        {
          "output_type": "display_data",
          "data": {
            "text/html": [
              "<pre>| 36260        | 3.6e+09 | 36.26       | 8m 36s       |</pre>"
            ],
            "text/plain": [
              "| 36260        | 3.6e+09 | 36.26       | 8m 36s       |"
            ]
          },
          "metadata": {
            "tags": []
          }
        },
        {
          "output_type": "display_data",
          "data": {
            "text/html": [
              "<pre>| 36475        | 3.6e+09 | 36.475      | 8m 39s       |</pre>"
            ],
            "text/plain": [
              "| 36475        | 3.6e+09 | 36.475      | 8m 39s       |"
            ]
          },
          "metadata": {
            "tags": []
          }
        },
        {
          "output_type": "display_data",
          "data": {
            "text/html": [
              "<pre>| 36690        | 3.7e+09 | 36.69       | 8m 42s       |</pre>"
            ],
            "text/plain": [
              "| 36690        | 3.7e+09 | 36.69       | 8m 42s       |"
            ]
          },
          "metadata": {
            "tags": []
          }
        },
        {
          "output_type": "display_data",
          "data": {
            "text/html": [
              "<pre>| 36903        | 3.7e+09 | 36.903      | 8m 45s       |</pre>"
            ],
            "text/plain": [
              "| 36903        | 3.7e+09 | 36.903      | 8m 45s       |"
            ]
          },
          "metadata": {
            "tags": []
          }
        },
        {
          "output_type": "display_data",
          "data": {
            "text/html": [
              "<pre>| 37120        | 3.7e+09 | 37.12       | 8m 48s       |</pre>"
            ],
            "text/plain": [
              "| 37120        | 3.7e+09 | 37.12       | 8m 48s       |"
            ]
          },
          "metadata": {
            "tags": []
          }
        },
        {
          "output_type": "display_data",
          "data": {
            "text/html": [
              "<pre>| 37335        | 3.7e+09 | 37.335      | 8m 51s       |</pre>"
            ],
            "text/plain": [
              "| 37335        | 3.7e+09 | 37.335      | 8m 51s       |"
            ]
          },
          "metadata": {
            "tags": []
          }
        },
        {
          "output_type": "display_data",
          "data": {
            "text/html": [
              "<pre>| 37553        | 3.8e+09 | 37.553      | 8m 54s       |</pre>"
            ],
            "text/plain": [
              "| 37553        | 3.8e+09 | 37.553      | 8m 54s       |"
            ]
          },
          "metadata": {
            "tags": []
          }
        },
        {
          "output_type": "display_data",
          "data": {
            "text/html": [
              "<pre>| 37768        | 3.8e+09 | 37.768      | 8m 57s       |</pre>"
            ],
            "text/plain": [
              "| 37768        | 3.8e+09 | 37.768      | 8m 57s       |"
            ]
          },
          "metadata": {
            "tags": []
          }
        },
        {
          "output_type": "display_data",
          "data": {
            "text/html": [
              "<pre>| 37979        | 3.8e+09 | 37.979      | 9m 0s        |</pre>"
            ],
            "text/plain": [
              "| 37979        | 3.8e+09 | 37.979      | 9m 0s        |"
            ]
          },
          "metadata": {
            "tags": []
          }
        },
        {
          "output_type": "display_data",
          "data": {
            "text/html": [
              "<pre>| 38194        | 3.8e+09 | 38.194      | 9m 3s        |</pre>"
            ],
            "text/plain": [
              "| 38194        | 3.8e+09 | 38.194      | 9m 3s        |"
            ]
          },
          "metadata": {
            "tags": []
          }
        },
        {
          "output_type": "display_data",
          "data": {
            "text/html": [
              "<pre>| 38407        | 3.8e+09 | 38.407      | 9m 6s        |</pre>"
            ],
            "text/plain": [
              "| 38407        | 3.8e+09 | 38.407      | 9m 6s        |"
            ]
          },
          "metadata": {
            "tags": []
          }
        },
        {
          "output_type": "display_data",
          "data": {
            "text/html": [
              "<pre>| 38621        | 3.9e+09 | 38.621      | 9m 9s        |</pre>"
            ],
            "text/plain": [
              "| 38621        | 3.9e+09 | 38.621      | 9m 9s        |"
            ]
          },
          "metadata": {
            "tags": []
          }
        },
        {
          "output_type": "display_data",
          "data": {
            "text/html": [
              "<pre>| 38833        | 3.9e+09 | 38.833      | 9m 12s       |</pre>"
            ],
            "text/plain": [
              "| 38833        | 3.9e+09 | 38.833      | 9m 12s       |"
            ]
          },
          "metadata": {
            "tags": []
          }
        },
        {
          "output_type": "display_data",
          "data": {
            "text/html": [
              "<pre>| 39048        | 3.9e+09 | 39.048      | 9m 15s       |</pre>"
            ],
            "text/plain": [
              "| 39048        | 3.9e+09 | 39.048      | 9m 15s       |"
            ]
          },
          "metadata": {
            "tags": []
          }
        },
        {
          "output_type": "display_data",
          "data": {
            "text/html": [
              "<pre>| 39264        | 3.9e+09 | 39.264      | 9m 18s       |</pre>"
            ],
            "text/plain": [
              "| 39264        | 3.9e+09 | 39.264      | 9m 18s       |"
            ]
          },
          "metadata": {
            "tags": []
          }
        },
        {
          "output_type": "display_data",
          "data": {
            "text/html": [
              "<pre>| 39476        | 3.9e+09 | 39.476      | 9m 21s       |</pre>"
            ],
            "text/plain": [
              "| 39476        | 3.9e+09 | 39.476      | 9m 21s       |"
            ]
          },
          "metadata": {
            "tags": []
          }
        },
        {
          "output_type": "display_data",
          "data": {
            "text/html": [
              "<pre>| 39684        | 4e+09   | 39.684      | 9m 24s       |</pre>"
            ],
            "text/plain": [
              "| 39684        | 4e+09   | 39.684      | 9m 24s       |"
            ]
          },
          "metadata": {
            "tags": []
          }
        },
        {
          "output_type": "display_data",
          "data": {
            "text/html": [
              "<pre>| 39896        | 4e+09   | 39.896      | 9m 27s       |</pre>"
            ],
            "text/plain": [
              "| 39896        | 4e+09   | 39.896      | 9m 27s       |"
            ]
          },
          "metadata": {
            "tags": []
          }
        },
        {
          "output_type": "display_data",
          "data": {
            "text/html": [
              "<pre>| 40108        | 4e+09   | 40.108      | 9m 30s       |</pre>"
            ],
            "text/plain": [
              "| 40108        | 4e+09   | 40.108      | 9m 30s       |"
            ]
          },
          "metadata": {
            "tags": []
          }
        },
        {
          "output_type": "display_data",
          "data": {
            "text/html": [
              "<pre>| 40319        | 4e+09   | 40.319      | 9m 33s       |</pre>"
            ],
            "text/plain": [
              "| 40319        | 4e+09   | 40.319      | 9m 33s       |"
            ]
          },
          "metadata": {
            "tags": []
          }
        },
        {
          "output_type": "display_data",
          "data": {
            "text/html": [
              "<pre>| 40532        | 4.1e+09 | 40.532      | 9m 36s       |</pre>"
            ],
            "text/plain": [
              "| 40532        | 4.1e+09 | 40.532      | 9m 36s       |"
            ]
          },
          "metadata": {
            "tags": []
          }
        },
        {
          "output_type": "display_data",
          "data": {
            "text/html": [
              "<pre>| 40746        | 4.1e+09 | 40.746      | 9m 39s       |</pre>"
            ],
            "text/plain": [
              "| 40746        | 4.1e+09 | 40.746      | 9m 39s       |"
            ]
          },
          "metadata": {
            "tags": []
          }
        },
        {
          "output_type": "display_data",
          "data": {
            "text/html": [
              "<pre>| 40959        | 4.1e+09 | 40.959      | 9m 42s       |</pre>"
            ],
            "text/plain": [
              "| 40959        | 4.1e+09 | 40.959      | 9m 42s       |"
            ]
          },
          "metadata": {
            "tags": []
          }
        },
        {
          "output_type": "display_data",
          "data": {
            "text/html": [
              "<pre>| 41175        | 4.1e+09 | 41.175      | 9m 45s       |</pre>"
            ],
            "text/plain": [
              "| 41175        | 4.1e+09 | 41.175      | 9m 45s       |"
            ]
          },
          "metadata": {
            "tags": []
          }
        },
        {
          "output_type": "display_data",
          "data": {
            "text/html": [
              "<pre>| 41390        | 4.1e+09 | 41.39       | 9m 48s       |</pre>"
            ],
            "text/plain": [
              "| 41390        | 4.1e+09 | 41.39       | 9m 48s       |"
            ]
          },
          "metadata": {
            "tags": []
          }
        },
        {
          "output_type": "display_data",
          "data": {
            "text/html": [
              "<pre>| 41606        | 4.2e+09 | 41.606      | 9m 51s       |</pre>"
            ],
            "text/plain": [
              "| 41606        | 4.2e+09 | 41.606      | 9m 51s       |"
            ]
          },
          "metadata": {
            "tags": []
          }
        },
        {
          "output_type": "display_data",
          "data": {
            "text/html": [
              "<pre>| 41818        | 4.2e+09 | 41.818      | 9m 54s       |</pre>"
            ],
            "text/plain": [
              "| 41818        | 4.2e+09 | 41.818      | 9m 54s       |"
            ]
          },
          "metadata": {
            "tags": []
          }
        },
        {
          "output_type": "display_data",
          "data": {
            "text/html": [
              "<pre>| 42035        | 4.2e+09 | 42.035      | 9m 57s       |</pre>"
            ],
            "text/plain": [
              "| 42035        | 4.2e+09 | 42.035      | 9m 57s       |"
            ]
          },
          "metadata": {
            "tags": []
          }
        },
        {
          "output_type": "display_data",
          "data": {
            "text/html": [
              "<pre>| 42249        | 4.2e+09 | 42.249      | 10m 0s       |</pre>"
            ],
            "text/plain": [
              "| 42249        | 4.2e+09 | 42.249      | 10m 0s       |"
            ]
          },
          "metadata": {
            "tags": []
          }
        },
        {
          "output_type": "display_data",
          "data": {
            "text/html": [
              "<pre>| 42463        | 4.2e+09 | 42.463      | 10m 3s       |</pre>"
            ],
            "text/plain": [
              "| 42463        | 4.2e+09 | 42.463      | 10m 3s       |"
            ]
          },
          "metadata": {
            "tags": []
          }
        },
        {
          "output_type": "display_data",
          "data": {
            "text/html": [
              "<pre>| 42677        | 4.3e+09 | 42.677      | 10m 6s       |</pre>"
            ],
            "text/plain": [
              "| 42677        | 4.3e+09 | 42.677      | 10m 6s       |"
            ]
          },
          "metadata": {
            "tags": []
          }
        },
        {
          "output_type": "display_data",
          "data": {
            "text/html": [
              "<pre>| 42890        | 4.3e+09 | 42.89       | 10m 9s       |</pre>"
            ],
            "text/plain": [
              "| 42890        | 4.3e+09 | 42.89       | 10m 9s       |"
            ]
          },
          "metadata": {
            "tags": []
          }
        },
        {
          "output_type": "display_data",
          "data": {
            "text/html": [
              "<pre>| 43104        | 4.3e+09 | 43.104      | 10m 12s      |</pre>"
            ],
            "text/plain": [
              "| 43104        | 4.3e+09 | 43.104      | 10m 12s      |"
            ]
          },
          "metadata": {
            "tags": []
          }
        },
        {
          "output_type": "display_data",
          "data": {
            "text/html": [
              "<pre>| 43317        | 4.3e+09 | 43.317      | 10m 15s      |</pre>"
            ],
            "text/plain": [
              "| 43317        | 4.3e+09 | 43.317      | 10m 15s      |"
            ]
          },
          "metadata": {
            "tags": []
          }
        },
        {
          "output_type": "display_data",
          "data": {
            "text/html": [
              "<pre>| 43533        | 4.4e+09 | 43.533      | 10m 18s      |</pre>"
            ],
            "text/plain": [
              "| 43533        | 4.4e+09 | 43.533      | 10m 18s      |"
            ]
          },
          "metadata": {
            "tags": []
          }
        },
        {
          "output_type": "display_data",
          "data": {
            "text/html": [
              "<pre>| 43750        | 4.4e+09 | 43.75       | 10m 21s      |</pre>"
            ],
            "text/plain": [
              "| 43750        | 4.4e+09 | 43.75       | 10m 21s      |"
            ]
          },
          "metadata": {
            "tags": []
          }
        },
        {
          "output_type": "display_data",
          "data": {
            "text/html": [
              "<pre>| 43964        | 4.4e+09 | 43.964      | 10m 24s      |</pre>"
            ],
            "text/plain": [
              "| 43964        | 4.4e+09 | 43.964      | 10m 24s      |"
            ]
          },
          "metadata": {
            "tags": []
          }
        },
        {
          "output_type": "display_data",
          "data": {
            "text/html": [
              "<pre>| 44175        | 4.4e+09 | 44.175      | 10m 27s      |</pre>"
            ],
            "text/plain": [
              "| 44175        | 4.4e+09 | 44.175      | 10m 27s      |"
            ]
          },
          "metadata": {
            "tags": []
          }
        },
        {
          "output_type": "display_data",
          "data": {
            "text/html": [
              "<pre>| 44389        | 4.4e+09 | 44.389      | 10m 30s      |</pre>"
            ],
            "text/plain": [
              "| 44389        | 4.4e+09 | 44.389      | 10m 30s      |"
            ]
          },
          "metadata": {
            "tags": []
          }
        },
        {
          "output_type": "display_data",
          "data": {
            "text/html": [
              "<pre>| 44604        | 4.5e+09 | 44.604      | 10m 33s      |</pre>"
            ],
            "text/plain": [
              "| 44604        | 4.5e+09 | 44.604      | 10m 33s      |"
            ]
          },
          "metadata": {
            "tags": []
          }
        },
        {
          "output_type": "display_data",
          "data": {
            "text/html": [
              "<pre>| 44815        | 4.5e+09 | 44.815      | 10m 36s      |</pre>"
            ],
            "text/plain": [
              "| 44815        | 4.5e+09 | 44.815      | 10m 36s      |"
            ]
          },
          "metadata": {
            "tags": []
          }
        },
        {
          "output_type": "display_data",
          "data": {
            "text/html": [
              "<pre>| 45030        | 4.5e+09 | 45.03       | 10m 39s      |</pre>"
            ],
            "text/plain": [
              "| 45030        | 4.5e+09 | 45.03       | 10m 39s      |"
            ]
          },
          "metadata": {
            "tags": []
          }
        },
        {
          "output_type": "display_data",
          "data": {
            "text/html": [
              "<pre>| 45241        | 4.5e+09 | 45.241      | 10m 42s      |</pre>"
            ],
            "text/plain": [
              "| 45241        | 4.5e+09 | 45.241      | 10m 42s      |"
            ]
          },
          "metadata": {
            "tags": []
          }
        },
        {
          "output_type": "display_data",
          "data": {
            "text/html": [
              "<pre>| 45459        | 4.5e+09 | 45.459      | 10m 45s      |</pre>"
            ],
            "text/plain": [
              "| 45459        | 4.5e+09 | 45.459      | 10m 45s      |"
            ]
          },
          "metadata": {
            "tags": []
          }
        },
        {
          "output_type": "display_data",
          "data": {
            "text/html": [
              "<pre>| 45677        | 4.6e+09 | 45.677      | 10m 48s      |</pre>"
            ],
            "text/plain": [
              "| 45677        | 4.6e+09 | 45.677      | 10m 48s      |"
            ]
          },
          "metadata": {
            "tags": []
          }
        },
        {
          "output_type": "display_data",
          "data": {
            "text/html": [
              "<pre>| 45896        | 4.6e+09 | 45.896      | 10m 51s      |</pre>"
            ],
            "text/plain": [
              "| 45896        | 4.6e+09 | 45.896      | 10m 51s      |"
            ]
          },
          "metadata": {
            "tags": []
          }
        },
        {
          "output_type": "display_data",
          "data": {
            "text/html": [
              "<pre>| 46112        | 4.6e+09 | 46.112      | 10m 54s      |</pre>"
            ],
            "text/plain": [
              "| 46112        | 4.6e+09 | 46.112      | 10m 54s      |"
            ]
          },
          "metadata": {
            "tags": []
          }
        },
        {
          "output_type": "display_data",
          "data": {
            "text/html": [
              "<pre>| 46326        | 4.6e+09 | 46.326      | 10m 57s      |</pre>"
            ],
            "text/plain": [
              "| 46326        | 4.6e+09 | 46.326      | 10m 57s      |"
            ]
          },
          "metadata": {
            "tags": []
          }
        },
        {
          "output_type": "display_data",
          "data": {
            "text/html": [
              "<pre>| 46542        | 4.7e+09 | 46.542      | 11m 0s       |</pre>"
            ],
            "text/plain": [
              "| 46542        | 4.7e+09 | 46.542      | 11m 0s       |"
            ]
          },
          "metadata": {
            "tags": []
          }
        },
        {
          "output_type": "display_data",
          "data": {
            "text/html": [
              "<pre>| 46755        | 4.7e+09 | 46.755      | 11m 3s       |</pre>"
            ],
            "text/plain": [
              "| 46755        | 4.7e+09 | 46.755      | 11m 3s       |"
            ]
          },
          "metadata": {
            "tags": []
          }
        },
        {
          "output_type": "display_data",
          "data": {
            "text/html": [
              "<pre>| 46970        | 4.7e+09 | 46.97       | 11m 6s       |</pre>"
            ],
            "text/plain": [
              "| 46970        | 4.7e+09 | 46.97       | 11m 6s       |"
            ]
          },
          "metadata": {
            "tags": []
          }
        },
        {
          "output_type": "display_data",
          "data": {
            "text/html": [
              "<pre>| 47185        | 4.7e+09 | 47.185      | 11m 9s       |</pre>"
            ],
            "text/plain": [
              "| 47185        | 4.7e+09 | 47.185      | 11m 9s       |"
            ]
          },
          "metadata": {
            "tags": []
          }
        },
        {
          "output_type": "display_data",
          "data": {
            "text/html": [
              "<pre>| 47400        | 4.7e+09 | 47.4        | 11m 12s      |</pre>"
            ],
            "text/plain": [
              "| 47400        | 4.7e+09 | 47.4        | 11m 12s      |"
            ]
          },
          "metadata": {
            "tags": []
          }
        },
        {
          "output_type": "display_data",
          "data": {
            "text/html": [
              "<pre>| 47615        | 4.8e+09 | 47.615      | 11m 15s      |</pre>"
            ],
            "text/plain": [
              "| 47615        | 4.8e+09 | 47.615      | 11m 15s      |"
            ]
          },
          "metadata": {
            "tags": []
          }
        },
        {
          "output_type": "display_data",
          "data": {
            "text/html": [
              "<pre>| 47830        | 4.8e+09 | 47.83       | 11m 18s      |</pre>"
            ],
            "text/plain": [
              "| 47830        | 4.8e+09 | 47.83       | 11m 18s      |"
            ]
          },
          "metadata": {
            "tags": []
          }
        },
        {
          "output_type": "display_data",
          "data": {
            "text/html": [
              "<pre>| 48044        | 4.8e+09 | 48.044      | 11m 21s      |</pre>"
            ],
            "text/plain": [
              "| 48044        | 4.8e+09 | 48.044      | 11m 21s      |"
            ]
          },
          "metadata": {
            "tags": []
          }
        },
        {
          "output_type": "display_data",
          "data": {
            "text/html": [
              "<pre>| 48260        | 4.8e+09 | 48.26       | 11m 24s      |</pre>"
            ],
            "text/plain": [
              "| 48260        | 4.8e+09 | 48.26       | 11m 24s      |"
            ]
          },
          "metadata": {
            "tags": []
          }
        },
        {
          "output_type": "display_data",
          "data": {
            "text/html": [
              "<pre>| 48474        | 4.8e+09 | 48.474      | 11m 27s      |</pre>"
            ],
            "text/plain": [
              "| 48474        | 4.8e+09 | 48.474      | 11m 27s      |"
            ]
          },
          "metadata": {
            "tags": []
          }
        },
        {
          "output_type": "display_data",
          "data": {
            "text/html": [
              "<pre>| 48689        | 4.9e+09 | 48.689      | 11m 30s      |</pre>"
            ],
            "text/plain": [
              "| 48689        | 4.9e+09 | 48.689      | 11m 30s      |"
            ]
          },
          "metadata": {
            "tags": []
          }
        },
        {
          "output_type": "display_data",
          "data": {
            "text/html": [
              "<pre>| 48904        | 4.9e+09 | 48.904      | 11m 33s      |</pre>"
            ],
            "text/plain": [
              "| 48904        | 4.9e+09 | 48.904      | 11m 33s      |"
            ]
          },
          "metadata": {
            "tags": []
          }
        },
        {
          "output_type": "display_data",
          "data": {
            "text/html": [
              "<pre>| 49084        | 4.9e+09 | 49.084      | 11m 36s      |</pre>"
            ],
            "text/plain": [
              "| 49084        | 4.9e+09 | 49.084      | 11m 36s      |"
            ]
          },
          "metadata": {
            "tags": []
          }
        },
        {
          "output_type": "display_data",
          "data": {
            "text/html": [
              "<pre>| 49299        | 4.9e+09 | 49.299      | 11m 39s      |</pre>"
            ],
            "text/plain": [
              "| 49299        | 4.9e+09 | 49.299      | 11m 39s      |"
            ]
          },
          "metadata": {
            "tags": []
          }
        },
        {
          "output_type": "display_data",
          "data": {
            "text/html": [
              "<pre>| 49513        | 5e+09   | 49.513      | 11m 42s      |</pre>"
            ],
            "text/plain": [
              "| 49513        | 5e+09   | 49.513      | 11m 42s      |"
            ]
          },
          "metadata": {
            "tags": []
          }
        },
        {
          "output_type": "display_data",
          "data": {
            "text/html": [
              "<pre>| 49729        | 5e+09   | 49.729      | 11m 45s      |</pre>"
            ],
            "text/plain": [
              "| 49729        | 5e+09   | 49.729      | 11m 45s      |"
            ]
          },
          "metadata": {
            "tags": []
          }
        },
        {
          "output_type": "display_data",
          "data": {
            "text/html": [
              "<pre>| 49943        | 5e+09   | 49.943      | 11m 48s      |</pre>"
            ],
            "text/plain": [
              "| 49943        | 5e+09   | 49.943      | 11m 48s      |"
            ]
          },
          "metadata": {
            "tags": []
          }
        },
        {
          "output_type": "display_data",
          "data": {
            "text/html": [
              "<pre>| 50158        | 5e+09   | 50.158      | 11m 51s      |</pre>"
            ],
            "text/plain": [
              "| 50158        | 5e+09   | 50.158      | 11m 51s      |"
            ]
          },
          "metadata": {
            "tags": []
          }
        },
        {
          "output_type": "display_data",
          "data": {
            "text/html": [
              "<pre>| 50376        | 5e+09   | 50.376      | 11m 54s      |</pre>"
            ],
            "text/plain": [
              "| 50376        | 5e+09   | 50.376      | 11m 54s      |"
            ]
          },
          "metadata": {
            "tags": []
          }
        },
        {
          "output_type": "display_data",
          "data": {
            "text/html": [
              "<pre>| 50592        | 5.1e+09 | 50.592      | 11m 57s      |</pre>"
            ],
            "text/plain": [
              "| 50592        | 5.1e+09 | 50.592      | 11m 57s      |"
            ]
          },
          "metadata": {
            "tags": []
          }
        },
        {
          "output_type": "display_data",
          "data": {
            "text/html": [
              "<pre>| 50805        | 5.1e+09 | 50.805      | 12m 0s       |</pre>"
            ],
            "text/plain": [
              "| 50805        | 5.1e+09 | 50.805      | 12m 0s       |"
            ]
          },
          "metadata": {
            "tags": []
          }
        },
        {
          "output_type": "display_data",
          "data": {
            "text/html": [
              "<pre>| 51020        | 5.1e+09 | 51.02       | 12m 3s       |</pre>"
            ],
            "text/plain": [
              "| 51020        | 5.1e+09 | 51.02       | 12m 3s       |"
            ]
          },
          "metadata": {
            "tags": []
          }
        },
        {
          "output_type": "display_data",
          "data": {
            "text/html": [
              "<pre>| 51235        | 5.1e+09 | 51.235      | 12m 6s       |</pre>"
            ],
            "text/plain": [
              "| 51235        | 5.1e+09 | 51.235      | 12m 6s       |"
            ]
          },
          "metadata": {
            "tags": []
          }
        },
        {
          "output_type": "display_data",
          "data": {
            "text/html": [
              "<pre>| 51447        | 5.1e+09 | 51.447      | 12m 9s       |</pre>"
            ],
            "text/plain": [
              "| 51447        | 5.1e+09 | 51.447      | 12m 9s       |"
            ]
          },
          "metadata": {
            "tags": []
          }
        },
        {
          "output_type": "display_data",
          "data": {
            "text/html": [
              "<pre>| 51662        | 5.2e+09 | 51.662      | 12m 12s      |</pre>"
            ],
            "text/plain": [
              "| 51662        | 5.2e+09 | 51.662      | 12m 12s      |"
            ]
          },
          "metadata": {
            "tags": []
          }
        },
        {
          "output_type": "display_data",
          "data": {
            "text/html": [
              "<pre>| 51879        | 5.2e+09 | 51.879      | 12m 15s      |</pre>"
            ],
            "text/plain": [
              "| 51879        | 5.2e+09 | 51.879      | 12m 15s      |"
            ]
          },
          "metadata": {
            "tags": []
          }
        },
        {
          "output_type": "display_data",
          "data": {
            "text/html": [
              "<pre>| 52096        | 5.2e+09 | 52.096      | 12m 18s      |</pre>"
            ],
            "text/plain": [
              "| 52096        | 5.2e+09 | 52.096      | 12m 18s      |"
            ]
          },
          "metadata": {
            "tags": []
          }
        },
        {
          "output_type": "display_data",
          "data": {
            "text/html": [
              "<pre>| 52315        | 5.2e+09 | 52.315      | 12m 21s      |</pre>"
            ],
            "text/plain": [
              "| 52315        | 5.2e+09 | 52.315      | 12m 21s      |"
            ]
          },
          "metadata": {
            "tags": []
          }
        },
        {
          "output_type": "display_data",
          "data": {
            "text/html": [
              "<pre>| 52531        | 5.3e+09 | 52.531      | 12m 24s      |</pre>"
            ],
            "text/plain": [
              "| 52531        | 5.3e+09 | 52.531      | 12m 24s      |"
            ]
          },
          "metadata": {
            "tags": []
          }
        },
        {
          "output_type": "display_data",
          "data": {
            "text/html": [
              "<pre>| 52747        | 5.3e+09 | 52.747      | 12m 27s      |</pre>"
            ],
            "text/plain": [
              "| 52747        | 5.3e+09 | 52.747      | 12m 27s      |"
            ]
          },
          "metadata": {
            "tags": []
          }
        },
        {
          "output_type": "display_data",
          "data": {
            "text/html": [
              "<pre>| 52966        | 5.3e+09 | 52.966      | 12m 30s      |</pre>"
            ],
            "text/plain": [
              "| 52966        | 5.3e+09 | 52.966      | 12m 30s      |"
            ]
          },
          "metadata": {
            "tags": []
          }
        },
        {
          "output_type": "display_data",
          "data": {
            "text/html": [
              "<pre>| 53182        | 5.3e+09 | 53.182      | 12m 33s      |</pre>"
            ],
            "text/plain": [
              "| 53182        | 5.3e+09 | 53.182      | 12m 33s      |"
            ]
          },
          "metadata": {
            "tags": []
          }
        },
        {
          "output_type": "display_data",
          "data": {
            "text/html": [
              "<pre>| 53398        | 5.3e+09 | 53.398      | 12m 36s      |</pre>"
            ],
            "text/plain": [
              "| 53398        | 5.3e+09 | 53.398      | 12m 36s      |"
            ]
          },
          "metadata": {
            "tags": []
          }
        },
        {
          "output_type": "display_data",
          "data": {
            "text/html": [
              "<pre>| 53615        | 5.4e+09 | 53.615      | 12m 39s      |</pre>"
            ],
            "text/plain": [
              "| 53615        | 5.4e+09 | 53.615      | 12m 39s      |"
            ]
          },
          "metadata": {
            "tags": []
          }
        },
        {
          "output_type": "display_data",
          "data": {
            "text/html": [
              "<pre>| 53835        | 5.4e+09 | 53.835      | 12m 42s      |</pre>"
            ],
            "text/plain": [
              "| 53835        | 5.4e+09 | 53.835      | 12m 42s      |"
            ]
          },
          "metadata": {
            "tags": []
          }
        },
        {
          "output_type": "display_data",
          "data": {
            "text/html": [
              "<pre>| 54050        | 5.4e+09 | 54.05       | 12m 45s      |</pre>"
            ],
            "text/plain": [
              "| 54050        | 5.4e+09 | 54.05       | 12m 45s      |"
            ]
          },
          "metadata": {
            "tags": []
          }
        },
        {
          "output_type": "display_data",
          "data": {
            "text/html": [
              "<pre>| 54265        | 5.4e+09 | 54.265      | 12m 48s      |</pre>"
            ],
            "text/plain": [
              "| 54265        | 5.4e+09 | 54.265      | 12m 48s      |"
            ]
          },
          "metadata": {
            "tags": []
          }
        },
        {
          "output_type": "display_data",
          "data": {
            "text/html": [
              "<pre>| 54482        | 5.4e+09 | 54.482      | 12m 51s      |</pre>"
            ],
            "text/plain": [
              "| 54482        | 5.4e+09 | 54.482      | 12m 51s      |"
            ]
          },
          "metadata": {
            "tags": []
          }
        },
        {
          "output_type": "display_data",
          "data": {
            "text/html": [
              "<pre>| 54698        | 5.5e+09 | 54.698      | 12m 54s      |</pre>"
            ],
            "text/plain": [
              "| 54698        | 5.5e+09 | 54.698      | 12m 54s      |"
            ]
          },
          "metadata": {
            "tags": []
          }
        },
        {
          "output_type": "display_data",
          "data": {
            "text/html": [
              "<pre>| 54914        | 5.5e+09 | 54.914      | 12m 57s      |</pre>"
            ],
            "text/plain": [
              "| 54914        | 5.5e+09 | 54.914      | 12m 57s      |"
            ]
          },
          "metadata": {
            "tags": []
          }
        },
        {
          "output_type": "display_data",
          "data": {
            "text/html": [
              "<pre>| 55129        | 5.5e+09 | 55.129      | 13m 0s       |</pre>"
            ],
            "text/plain": [
              "| 55129        | 5.5e+09 | 55.129      | 13m 0s       |"
            ]
          },
          "metadata": {
            "tags": []
          }
        },
        {
          "output_type": "display_data",
          "data": {
            "text/html": [
              "<pre>| 55342        | 5.5e+09 | 55.342      | 13m 3s       |</pre>"
            ],
            "text/plain": [
              "| 55342        | 5.5e+09 | 55.342      | 13m 3s       |"
            ]
          },
          "metadata": {
            "tags": []
          }
        },
        {
          "output_type": "display_data",
          "data": {
            "text/html": [
              "<pre>| 55556        | 5.6e+09 | 55.556      | 13m 6s       |</pre>"
            ],
            "text/plain": [
              "| 55556        | 5.6e+09 | 55.556      | 13m 6s       |"
            ]
          },
          "metadata": {
            "tags": []
          }
        },
        {
          "output_type": "display_data",
          "data": {
            "text/html": [
              "<pre>| 55769        | 5.6e+09 | 55.769      | 13m 9s       |</pre>"
            ],
            "text/plain": [
              "| 55769        | 5.6e+09 | 55.769      | 13m 9s       |"
            ]
          },
          "metadata": {
            "tags": []
          }
        },
        {
          "output_type": "display_data",
          "data": {
            "text/html": [
              "<pre>| 55983        | 5.6e+09 | 55.983      | 13m 12s      |</pre>"
            ],
            "text/plain": [
              "| 55983        | 5.6e+09 | 55.983      | 13m 12s      |"
            ]
          },
          "metadata": {
            "tags": []
          }
        },
        {
          "output_type": "display_data",
          "data": {
            "text/html": [
              "<pre>| 56197        | 5.6e+09 | 56.197      | 13m 15s      |</pre>"
            ],
            "text/plain": [
              "| 56197        | 5.6e+09 | 56.197      | 13m 15s      |"
            ]
          },
          "metadata": {
            "tags": []
          }
        },
        {
          "output_type": "display_data",
          "data": {
            "text/html": [
              "<pre>| 56412        | 5.6e+09 | 56.412      | 13m 18s      |</pre>"
            ],
            "text/plain": [
              "| 56412        | 5.6e+09 | 56.412      | 13m 18s      |"
            ]
          },
          "metadata": {
            "tags": []
          }
        },
        {
          "output_type": "display_data",
          "data": {
            "text/html": [
              "<pre>| 56625        | 5.7e+09 | 56.625      | 13m 21s      |</pre>"
            ],
            "text/plain": [
              "| 56625        | 5.7e+09 | 56.625      | 13m 21s      |"
            ]
          },
          "metadata": {
            "tags": []
          }
        },
        {
          "output_type": "display_data",
          "data": {
            "text/html": [
              "<pre>| 56837        | 5.7e+09 | 56.837      | 13m 24s      |</pre>"
            ],
            "text/plain": [
              "| 56837        | 5.7e+09 | 56.837      | 13m 24s      |"
            ]
          },
          "metadata": {
            "tags": []
          }
        },
        {
          "output_type": "display_data",
          "data": {
            "text/html": [
              "<pre>| 57049        | 5.7e+09 | 57.049      | 13m 27s      |</pre>"
            ],
            "text/plain": [
              "| 57049        | 5.7e+09 | 57.049      | 13m 27s      |"
            ]
          },
          "metadata": {
            "tags": []
          }
        },
        {
          "output_type": "display_data",
          "data": {
            "text/html": [
              "<pre>| 57264        | 5.7e+09 | 57.264      | 13m 30s      |</pre>"
            ],
            "text/plain": [
              "| 57264        | 5.7e+09 | 57.264      | 13m 30s      |"
            ]
          },
          "metadata": {
            "tags": []
          }
        },
        {
          "output_type": "display_data",
          "data": {
            "text/html": [
              "<pre>| 57476        | 5.7e+09 | 57.476      | 13m 33s      |</pre>"
            ],
            "text/plain": [
              "| 57476        | 5.7e+09 | 57.476      | 13m 33s      |"
            ]
          },
          "metadata": {
            "tags": []
          }
        },
        {
          "output_type": "display_data",
          "data": {
            "text/html": [
              "<pre>| 57691        | 5.8e+09 | 57.691      | 13m 36s      |</pre>"
            ],
            "text/plain": [
              "| 57691        | 5.8e+09 | 57.691      | 13m 36s      |"
            ]
          },
          "metadata": {
            "tags": []
          }
        },
        {
          "output_type": "display_data",
          "data": {
            "text/html": [
              "<pre>| 57903        | 5.8e+09 | 57.903      | 13m 39s      |</pre>"
            ],
            "text/plain": [
              "| 57903        | 5.8e+09 | 57.903      | 13m 39s      |"
            ]
          },
          "metadata": {
            "tags": []
          }
        },
        {
          "output_type": "display_data",
          "data": {
            "text/html": [
              "<pre>| 58113        | 5.8e+09 | 58.113      | 13m 42s      |</pre>"
            ],
            "text/plain": [
              "| 58113        | 5.8e+09 | 58.113      | 13m 42s      |"
            ]
          },
          "metadata": {
            "tags": []
          }
        },
        {
          "output_type": "display_data",
          "data": {
            "text/html": [
              "<pre>| 58328        | 5.8e+09 | 58.328      | 13m 45s      |</pre>"
            ],
            "text/plain": [
              "| 58328        | 5.8e+09 | 58.328      | 13m 45s      |"
            ]
          },
          "metadata": {
            "tags": []
          }
        },
        {
          "output_type": "display_data",
          "data": {
            "text/html": [
              "<pre>| 58544        | 5.9e+09 | 58.544      | 13m 48s      |</pre>"
            ],
            "text/plain": [
              "| 58544        | 5.9e+09 | 58.544      | 13m 48s      |"
            ]
          },
          "metadata": {
            "tags": []
          }
        },
        {
          "output_type": "display_data",
          "data": {
            "text/html": [
              "<pre>| 58757        | 5.9e+09 | 58.757      | 13m 51s      |</pre>"
            ],
            "text/plain": [
              "| 58757        | 5.9e+09 | 58.757      | 13m 51s      |"
            ]
          },
          "metadata": {
            "tags": []
          }
        },
        {
          "output_type": "display_data",
          "data": {
            "text/html": [
              "<pre>| 58971        | 5.9e+09 | 58.971      | 13m 54s      |</pre>"
            ],
            "text/plain": [
              "| 58971        | 5.9e+09 | 58.971      | 13m 54s      |"
            ]
          },
          "metadata": {
            "tags": []
          }
        },
        {
          "output_type": "display_data",
          "data": {
            "text/html": [
              "<pre>| 59188        | 5.9e+09 | 59.188      | 13m 57s      |</pre>"
            ],
            "text/plain": [
              "| 59188        | 5.9e+09 | 59.188      | 13m 57s      |"
            ]
          },
          "metadata": {
            "tags": []
          }
        },
        {
          "output_type": "display_data",
          "data": {
            "text/html": [
              "<pre>| 59401        | 5.9e+09 | 59.401      | 14m 0s       |</pre>"
            ],
            "text/plain": [
              "| 59401        | 5.9e+09 | 59.401      | 14m 0s       |"
            ]
          },
          "metadata": {
            "tags": []
          }
        },
        {
          "output_type": "display_data",
          "data": {
            "text/html": [
              "<pre>| 59615        | 6e+09   | 59.615      | 14m 3s       |</pre>"
            ],
            "text/plain": [
              "| 59615        | 6e+09   | 59.615      | 14m 3s       |"
            ]
          },
          "metadata": {
            "tags": []
          }
        },
        {
          "output_type": "display_data",
          "data": {
            "text/html": [
              "<pre>| 59828        | 6e+09   | 59.828      | 14m 6s       |</pre>"
            ],
            "text/plain": [
              "| 59828        | 6e+09   | 59.828      | 14m 6s       |"
            ]
          },
          "metadata": {
            "tags": []
          }
        },
        {
          "output_type": "display_data",
          "data": {
            "text/html": [
              "<pre>| 60042        | 6e+09   | 60.042      | 14m 9s       |</pre>"
            ],
            "text/plain": [
              "| 60042        | 6e+09   | 60.042      | 14m 9s       |"
            ]
          },
          "metadata": {
            "tags": []
          }
        },
        {
          "output_type": "display_data",
          "data": {
            "text/html": [
              "<pre>| 60258        | 6e+09   | 60.258      | 14m 12s      |</pre>"
            ],
            "text/plain": [
              "| 60258        | 6e+09   | 60.258      | 14m 12s      |"
            ]
          },
          "metadata": {
            "tags": []
          }
        },
        {
          "output_type": "display_data",
          "data": {
            "text/html": [
              "<pre>| 60469        | 6e+09   | 60.469      | 14m 15s      |</pre>"
            ],
            "text/plain": [
              "| 60469        | 6e+09   | 60.469      | 14m 15s      |"
            ]
          },
          "metadata": {
            "tags": []
          }
        },
        {
          "output_type": "display_data",
          "data": {
            "text/html": [
              "<pre>| 60684        | 6.1e+09 | 60.684      | 14m 18s      |</pre>"
            ],
            "text/plain": [
              "| 60684        | 6.1e+09 | 60.684      | 14m 18s      |"
            ]
          },
          "metadata": {
            "tags": []
          }
        },
        {
          "output_type": "display_data",
          "data": {
            "text/html": [
              "<pre>| 60899        | 6.1e+09 | 60.899      | 14m 21s      |</pre>"
            ],
            "text/plain": [
              "| 60899        | 6.1e+09 | 60.899      | 14m 21s      |"
            ]
          },
          "metadata": {
            "tags": []
          }
        },
        {
          "output_type": "display_data",
          "data": {
            "text/html": [
              "<pre>| 61111        | 6.1e+09 | 61.111      | 14m 24s      |</pre>"
            ],
            "text/plain": [
              "| 61111        | 6.1e+09 | 61.111      | 14m 24s      |"
            ]
          },
          "metadata": {
            "tags": []
          }
        },
        {
          "output_type": "display_data",
          "data": {
            "text/html": [
              "<pre>| 61326        | 6.1e+09 | 61.326      | 14m 27s      |</pre>"
            ],
            "text/plain": [
              "| 61326        | 6.1e+09 | 61.326      | 14m 27s      |"
            ]
          },
          "metadata": {
            "tags": []
          }
        },
        {
          "output_type": "display_data",
          "data": {
            "text/html": [
              "<pre>| 61537        | 6.2e+09 | 61.537      | 14m 30s      |</pre>"
            ],
            "text/plain": [
              "| 61537        | 6.2e+09 | 61.537      | 14m 30s      |"
            ]
          },
          "metadata": {
            "tags": []
          }
        },
        {
          "output_type": "display_data",
          "data": {
            "text/html": [
              "<pre>| 61749        | 6.2e+09 | 61.749      | 14m 33s      |</pre>"
            ],
            "text/plain": [
              "| 61749        | 6.2e+09 | 61.749      | 14m 33s      |"
            ]
          },
          "metadata": {
            "tags": []
          }
        },
        {
          "output_type": "display_data",
          "data": {
            "text/html": [
              "<pre>| 61962        | 6.2e+09 | 61.962      | 14m 36s      |</pre>"
            ],
            "text/plain": [
              "| 61962        | 6.2e+09 | 61.962      | 14m 36s      |"
            ]
          },
          "metadata": {
            "tags": []
          }
        },
        {
          "output_type": "display_data",
          "data": {
            "text/html": [
              "<pre>| 62170        | 6.2e+09 | 62.17       | 14m 39s      |</pre>"
            ],
            "text/plain": [
              "| 62170        | 6.2e+09 | 62.17       | 14m 39s      |"
            ]
          },
          "metadata": {
            "tags": []
          }
        },
        {
          "output_type": "display_data",
          "data": {
            "text/html": [
              "<pre>| 62379        | 6.2e+09 | 62.379      | 14m 42s      |</pre>"
            ],
            "text/plain": [
              "| 62379        | 6.2e+09 | 62.379      | 14m 42s      |"
            ]
          },
          "metadata": {
            "tags": []
          }
        },
        {
          "output_type": "display_data",
          "data": {
            "text/html": [
              "<pre>| 62591        | 6.3e+09 | 62.591      | 14m 45s      |</pre>"
            ],
            "text/plain": [
              "| 62591        | 6.3e+09 | 62.591      | 14m 45s      |"
            ]
          },
          "metadata": {
            "tags": []
          }
        },
        {
          "output_type": "display_data",
          "data": {
            "text/html": [
              "<pre>| 62804        | 6.3e+09 | 62.804      | 14m 48s      |</pre>"
            ],
            "text/plain": [
              "| 62804        | 6.3e+09 | 62.804      | 14m 48s      |"
            ]
          },
          "metadata": {
            "tags": []
          }
        },
        {
          "output_type": "display_data",
          "data": {
            "text/html": [
              "<pre>| 63018        | 6.3e+09 | 63.018      | 14m 51s      |</pre>"
            ],
            "text/plain": [
              "| 63018        | 6.3e+09 | 63.018      | 14m 51s      |"
            ]
          },
          "metadata": {
            "tags": []
          }
        },
        {
          "output_type": "display_data",
          "data": {
            "text/html": [
              "<pre>| 63233        | 6.3e+09 | 63.233      | 14m 54s      |</pre>"
            ],
            "text/plain": [
              "| 63233        | 6.3e+09 | 63.233      | 14m 54s      |"
            ]
          },
          "metadata": {
            "tags": []
          }
        },
        {
          "output_type": "display_data",
          "data": {
            "text/html": [
              "<pre>| 63449        | 6.3e+09 | 63.449      | 14m 57s      |</pre>"
            ],
            "text/plain": [
              "| 63449        | 6.3e+09 | 63.449      | 14m 57s      |"
            ]
          },
          "metadata": {
            "tags": []
          }
        },
        {
          "output_type": "display_data",
          "data": {
            "text/html": [
              "<pre>| 63666        | 6.4e+09 | 63.666      | 15m 0s       |</pre>"
            ],
            "text/plain": [
              "| 63666        | 6.4e+09 | 63.666      | 15m 0s       |"
            ]
          },
          "metadata": {
            "tags": []
          }
        },
        {
          "output_type": "display_data",
          "data": {
            "text/html": [
              "<pre>| 63878        | 6.4e+09 | 63.878      | 15m 3s       |</pre>"
            ],
            "text/plain": [
              "| 63878        | 6.4e+09 | 63.878      | 15m 3s       |"
            ]
          },
          "metadata": {
            "tags": []
          }
        },
        {
          "output_type": "display_data",
          "data": {
            "text/html": [
              "<pre>| 64089        | 6.4e+09 | 64.089      | 15m 6s       |</pre>"
            ],
            "text/plain": [
              "| 64089        | 6.4e+09 | 64.089      | 15m 6s       |"
            ]
          },
          "metadata": {
            "tags": []
          }
        },
        {
          "output_type": "display_data",
          "data": {
            "text/html": [
              "<pre>| 64301        | 6.4e+09 | 64.301      | 15m 9s       |</pre>"
            ],
            "text/plain": [
              "| 64301        | 6.4e+09 | 64.301      | 15m 9s       |"
            ]
          },
          "metadata": {
            "tags": []
          }
        },
        {
          "output_type": "display_data",
          "data": {
            "text/html": [
              "<pre>| 64514        | 6.5e+09 | 64.514      | 15m 12s      |</pre>"
            ],
            "text/plain": [
              "| 64514        | 6.5e+09 | 64.514      | 15m 12s      |"
            ]
          },
          "metadata": {
            "tags": []
          }
        },
        {
          "output_type": "display_data",
          "data": {
            "text/html": [
              "<pre>| 64729        | 6.5e+09 | 64.729      | 15m 15s      |</pre>"
            ],
            "text/plain": [
              "| 64729        | 6.5e+09 | 64.729      | 15m 15s      |"
            ]
          },
          "metadata": {
            "tags": []
          }
        },
        {
          "output_type": "display_data",
          "data": {
            "text/html": [
              "<pre>| 64943        | 6.5e+09 | 64.943      | 15m 18s      |</pre>"
            ],
            "text/plain": [
              "| 64943        | 6.5e+09 | 64.943      | 15m 18s      |"
            ]
          },
          "metadata": {
            "tags": []
          }
        },
        {
          "output_type": "display_data",
          "data": {
            "text/html": [
              "<pre>| 65154        | 6.5e+09 | 65.154      | 15m 21s      |</pre>"
            ],
            "text/plain": [
              "| 65154        | 6.5e+09 | 65.154      | 15m 21s      |"
            ]
          },
          "metadata": {
            "tags": []
          }
        },
        {
          "output_type": "display_data",
          "data": {
            "text/html": [
              "<pre>| 65369        | 6.5e+09 | 65.369      | 15m 24s      |</pre>"
            ],
            "text/plain": [
              "| 65369        | 6.5e+09 | 65.369      | 15m 24s      |"
            ]
          },
          "metadata": {
            "tags": []
          }
        },
        {
          "output_type": "display_data",
          "data": {
            "text/html": [
              "<pre>| 65578        | 6.6e+09 | 65.578      | 15m 27s      |</pre>"
            ],
            "text/plain": [
              "| 65578        | 6.6e+09 | 65.578      | 15m 27s      |"
            ]
          },
          "metadata": {
            "tags": []
          }
        },
        {
          "output_type": "display_data",
          "data": {
            "text/html": [
              "<pre>| 65797        | 6.6e+09 | 65.797      | 15m 30s      |</pre>"
            ],
            "text/plain": [
              "| 65797        | 6.6e+09 | 65.797      | 15m 30s      |"
            ]
          },
          "metadata": {
            "tags": []
          }
        },
        {
          "output_type": "display_data",
          "data": {
            "text/html": [
              "<pre>| 66009        | 6.6e+09 | 66.009      | 15m 33s      |</pre>"
            ],
            "text/plain": [
              "| 66009        | 6.6e+09 | 66.009      | 15m 33s      |"
            ]
          },
          "metadata": {
            "tags": []
          }
        },
        {
          "output_type": "display_data",
          "data": {
            "text/html": [
              "<pre>| 66198        | 6.6e+09 | 66.198      | 15m 36s      |</pre>"
            ],
            "text/plain": [
              "| 66198        | 6.6e+09 | 66.198      | 15m 36s      |"
            ]
          },
          "metadata": {
            "tags": []
          }
        },
        {
          "output_type": "display_data",
          "data": {
            "text/html": [
              "<pre>| 66415        | 6.6e+09 | 66.415      | 15m 39s      |</pre>"
            ],
            "text/plain": [
              "| 66415        | 6.6e+09 | 66.415      | 15m 39s      |"
            ]
          },
          "metadata": {
            "tags": []
          }
        },
        {
          "output_type": "display_data",
          "data": {
            "text/html": [
              "<pre>| 66628        | 6.7e+09 | 66.628      | 15m 42s      |</pre>"
            ],
            "text/plain": [
              "| 66628        | 6.7e+09 | 66.628      | 15m 42s      |"
            ]
          },
          "metadata": {
            "tags": []
          }
        },
        {
          "output_type": "display_data",
          "data": {
            "text/html": [
              "<pre>| 66841        | 6.7e+09 | 66.841      | 15m 45s      |</pre>"
            ],
            "text/plain": [
              "| 66841        | 6.7e+09 | 66.841      | 15m 45s      |"
            ]
          },
          "metadata": {
            "tags": []
          }
        },
        {
          "output_type": "display_data",
          "data": {
            "text/html": [
              "<pre>| 67053        | 6.7e+09 | 67.053      | 15m 48s      |</pre>"
            ],
            "text/plain": [
              "| 67053        | 6.7e+09 | 67.053      | 15m 48s      |"
            ]
          },
          "metadata": {
            "tags": []
          }
        },
        {
          "output_type": "display_data",
          "data": {
            "text/html": [
              "<pre>| 67268        | 6.7e+09 | 67.268      | 15m 51s      |</pre>"
            ],
            "text/plain": [
              "| 67268        | 6.7e+09 | 67.268      | 15m 51s      |"
            ]
          },
          "metadata": {
            "tags": []
          }
        },
        {
          "output_type": "display_data",
          "data": {
            "text/html": [
              "<pre>| 67481        | 6.7e+09 | 67.481      | 15m 54s      |</pre>"
            ],
            "text/plain": [
              "| 67481        | 6.7e+09 | 67.481      | 15m 54s      |"
            ]
          },
          "metadata": {
            "tags": []
          }
        },
        {
          "output_type": "display_data",
          "data": {
            "text/html": [
              "<pre>| 67698        | 6.8e+09 | 67.698      | 15m 57s      |</pre>"
            ],
            "text/plain": [
              "| 67698        | 6.8e+09 | 67.698      | 15m 57s      |"
            ]
          },
          "metadata": {
            "tags": []
          }
        },
        {
          "output_type": "display_data",
          "data": {
            "text/html": [
              "<pre>| 67915        | 6.8e+09 | 67.915      | 16m 0s       |</pre>"
            ],
            "text/plain": [
              "| 67915        | 6.8e+09 | 67.915      | 16m 0s       |"
            ]
          },
          "metadata": {
            "tags": []
          }
        },
        {
          "output_type": "display_data",
          "data": {
            "text/html": [
              "<pre>| 68129        | 6.8e+09 | 68.129      | 16m 3s       |</pre>"
            ],
            "text/plain": [
              "| 68129        | 6.8e+09 | 68.129      | 16m 3s       |"
            ]
          },
          "metadata": {
            "tags": []
          }
        },
        {
          "output_type": "display_data",
          "data": {
            "text/html": [
              "<pre>| 68342        | 6.8e+09 | 68.342      | 16m 6s       |</pre>"
            ],
            "text/plain": [
              "| 68342        | 6.8e+09 | 68.342      | 16m 6s       |"
            ]
          },
          "metadata": {
            "tags": []
          }
        },
        {
          "output_type": "display_data",
          "data": {
            "text/html": [
              "<pre>| 68559        | 6.9e+09 | 68.559      | 16m 9s       |</pre>"
            ],
            "text/plain": [
              "| 68559        | 6.9e+09 | 68.559      | 16m 9s       |"
            ]
          },
          "metadata": {
            "tags": []
          }
        },
        {
          "output_type": "display_data",
          "data": {
            "text/html": [
              "<pre>| 68773        | 6.9e+09 | 68.773      | 16m 12s      |</pre>"
            ],
            "text/plain": [
              "| 68773        | 6.9e+09 | 68.773      | 16m 12s      |"
            ]
          },
          "metadata": {
            "tags": []
          }
        },
        {
          "output_type": "display_data",
          "data": {
            "text/html": [
              "<pre>| 68990        | 6.9e+09 | 68.99       | 16m 15s      |</pre>"
            ],
            "text/plain": [
              "| 68990        | 6.9e+09 | 68.99       | 16m 15s      |"
            ]
          },
          "metadata": {
            "tags": []
          }
        },
        {
          "output_type": "display_data",
          "data": {
            "text/html": [
              "<pre>| 69205        | 6.9e+09 | 69.205      | 16m 18s      |</pre>"
            ],
            "text/plain": [
              "| 69205        | 6.9e+09 | 69.205      | 16m 18s      |"
            ]
          },
          "metadata": {
            "tags": []
          }
        },
        {
          "output_type": "display_data",
          "data": {
            "text/html": [
              "<pre>| 69424        | 6.9e+09 | 69.424      | 16m 21s      |</pre>"
            ],
            "text/plain": [
              "| 69424        | 6.9e+09 | 69.424      | 16m 21s      |"
            ]
          },
          "metadata": {
            "tags": []
          }
        },
        {
          "output_type": "display_data",
          "data": {
            "text/html": [
              "<pre>| 69639        | 7e+09   | 69.639      | 16m 24s      |</pre>"
            ],
            "text/plain": [
              "| 69639        | 7e+09   | 69.639      | 16m 24s      |"
            ]
          },
          "metadata": {
            "tags": []
          }
        },
        {
          "output_type": "display_data",
          "data": {
            "text/html": [
              "<pre>| 69855        | 7e+09   | 69.855      | 16m 27s      |</pre>"
            ],
            "text/plain": [
              "| 69855        | 7e+09   | 69.855      | 16m 27s      |"
            ]
          },
          "metadata": {
            "tags": []
          }
        },
        {
          "output_type": "display_data",
          "data": {
            "text/html": [
              "<pre>| 70067        | 7e+09   | 70.067      | 16m 30s      |</pre>"
            ],
            "text/plain": [
              "| 70067        | 7e+09   | 70.067      | 16m 30s      |"
            ]
          },
          "metadata": {
            "tags": []
          }
        },
        {
          "output_type": "display_data",
          "data": {
            "text/html": [
              "<pre>| 70281        | 7e+09   | 70.281      | 16m 33s      |</pre>"
            ],
            "text/plain": [
              "| 70281        | 7e+09   | 70.281      | 16m 33s      |"
            ]
          },
          "metadata": {
            "tags": []
          }
        },
        {
          "output_type": "display_data",
          "data": {
            "text/html": [
              "<pre>| 70494        | 7e+09   | 70.494      | 16m 36s      |</pre>"
            ],
            "text/plain": [
              "| 70494        | 7e+09   | 70.494      | 16m 36s      |"
            ]
          },
          "metadata": {
            "tags": []
          }
        },
        {
          "output_type": "display_data",
          "data": {
            "text/html": [
              "<pre>| 70707        | 7.1e+09 | 70.707      | 16m 39s      |</pre>"
            ],
            "text/plain": [
              "| 70707        | 7.1e+09 | 70.707      | 16m 39s      |"
            ]
          },
          "metadata": {
            "tags": []
          }
        },
        {
          "output_type": "display_data",
          "data": {
            "text/html": [
              "<pre>| 70918        | 7.1e+09 | 70.918      | 16m 42s      |</pre>"
            ],
            "text/plain": [
              "| 70918        | 7.1e+09 | 70.918      | 16m 42s      |"
            ]
          },
          "metadata": {
            "tags": []
          }
        },
        {
          "output_type": "display_data",
          "data": {
            "text/html": [
              "<pre>| 71133        | 7.1e+09 | 71.133      | 16m 45s      |</pre>"
            ],
            "text/plain": [
              "| 71133        | 7.1e+09 | 71.133      | 16m 45s      |"
            ]
          },
          "metadata": {
            "tags": []
          }
        },
        {
          "output_type": "display_data",
          "data": {
            "text/html": [
              "<pre>| 71347        | 7.1e+09 | 71.347      | 16m 48s      |</pre>"
            ],
            "text/plain": [
              "| 71347        | 7.1e+09 | 71.347      | 16m 48s      |"
            ]
          },
          "metadata": {
            "tags": []
          }
        },
        {
          "output_type": "display_data",
          "data": {
            "text/html": [
              "<pre>| 71561        | 7.2e+09 | 71.561      | 16m 51s      |</pre>"
            ],
            "text/plain": [
              "| 71561        | 7.2e+09 | 71.561      | 16m 51s      |"
            ]
          },
          "metadata": {
            "tags": []
          }
        },
        {
          "output_type": "display_data",
          "data": {
            "text/html": [
              "<pre>| 71775        | 7.2e+09 | 71.775      | 16m 54s      |</pre>"
            ],
            "text/plain": [
              "| 71775        | 7.2e+09 | 71.775      | 16m 54s      |"
            ]
          },
          "metadata": {
            "tags": []
          }
        },
        {
          "output_type": "display_data",
          "data": {
            "text/html": [
              "<pre>| 71989        | 7.2e+09 | 71.989      | 16m 57s      |</pre>"
            ],
            "text/plain": [
              "| 71989        | 7.2e+09 | 71.989      | 16m 57s      |"
            ]
          },
          "metadata": {
            "tags": []
          }
        },
        {
          "output_type": "display_data",
          "data": {
            "text/html": [
              "<pre>| 72206        | 7.2e+09 | 72.206      | 17m 0s       |</pre>"
            ],
            "text/plain": [
              "| 72206        | 7.2e+09 | 72.206      | 17m 0s       |"
            ]
          },
          "metadata": {
            "tags": []
          }
        },
        {
          "output_type": "display_data",
          "data": {
            "text/html": [
              "<pre>| 72418        | 7.2e+09 | 72.418      | 17m 3s       |</pre>"
            ],
            "text/plain": [
              "| 72418        | 7.2e+09 | 72.418      | 17m 3s       |"
            ]
          },
          "metadata": {
            "tags": []
          }
        },
        {
          "output_type": "display_data",
          "data": {
            "text/html": [
              "<pre>| 72630        | 7.3e+09 | 72.63       | 17m 6s       |</pre>"
            ],
            "text/plain": [
              "| 72630        | 7.3e+09 | 72.63       | 17m 6s       |"
            ]
          },
          "metadata": {
            "tags": []
          }
        },
        {
          "output_type": "display_data",
          "data": {
            "text/html": [
              "<pre>| 72843        | 7.3e+09 | 72.843      | 17m 9s       |</pre>"
            ],
            "text/plain": [
              "| 72843        | 7.3e+09 | 72.843      | 17m 9s       |"
            ]
          },
          "metadata": {
            "tags": []
          }
        },
        {
          "output_type": "display_data",
          "data": {
            "text/html": [
              "<pre>| 73055        | 7.3e+09 | 73.055      | 17m 12s      |</pre>"
            ],
            "text/plain": [
              "| 73055        | 7.3e+09 | 73.055      | 17m 12s      |"
            ]
          },
          "metadata": {
            "tags": []
          }
        },
        {
          "output_type": "display_data",
          "data": {
            "text/html": [
              "<pre>| 73267        | 7.3e+09 | 73.267      | 17m 15s      |</pre>"
            ],
            "text/plain": [
              "| 73267        | 7.3e+09 | 73.267      | 17m 15s      |"
            ]
          },
          "metadata": {
            "tags": []
          }
        },
        {
          "output_type": "display_data",
          "data": {
            "text/html": [
              "<pre>| 73484        | 7.3e+09 | 73.484      | 17m 18s      |</pre>"
            ],
            "text/plain": [
              "| 73484        | 7.3e+09 | 73.484      | 17m 18s      |"
            ]
          },
          "metadata": {
            "tags": []
          }
        },
        {
          "output_type": "display_data",
          "data": {
            "text/html": [
              "<pre>| 73697        | 7.4e+09 | 73.697      | 17m 21s      |</pre>"
            ],
            "text/plain": [
              "| 73697        | 7.4e+09 | 73.697      | 17m 21s      |"
            ]
          },
          "metadata": {
            "tags": []
          }
        },
        {
          "output_type": "display_data",
          "data": {
            "text/html": [
              "<pre>| 73912        | 7.4e+09 | 73.912      | 17m 24s      |</pre>"
            ],
            "text/plain": [
              "| 73912        | 7.4e+09 | 73.912      | 17m 24s      |"
            ]
          },
          "metadata": {
            "tags": []
          }
        },
        {
          "output_type": "display_data",
          "data": {
            "text/html": [
              "<pre>| 74122        | 7.4e+09 | 74.122      | 17m 27s      |</pre>"
            ],
            "text/plain": [
              "| 74122        | 7.4e+09 | 74.122      | 17m 27s      |"
            ]
          },
          "metadata": {
            "tags": []
          }
        },
        {
          "output_type": "display_data",
          "data": {
            "text/html": [
              "<pre>| 74338        | 7.4e+09 | 74.338      | 17m 30s      |</pre>"
            ],
            "text/plain": [
              "| 74338        | 7.4e+09 | 74.338      | 17m 30s      |"
            ]
          },
          "metadata": {
            "tags": []
          }
        },
        {
          "output_type": "display_data",
          "data": {
            "text/html": [
              "<pre>| 74549        | 7.5e+09 | 74.549      | 17m 33s      |</pre>"
            ],
            "text/plain": [
              "| 74549        | 7.5e+09 | 74.549      | 17m 33s      |"
            ]
          },
          "metadata": {
            "tags": []
          }
        },
        {
          "output_type": "display_data",
          "data": {
            "text/html": [
              "<pre>| 74766        | 7.5e+09 | 74.766      | 17m 36s      |</pre>"
            ],
            "text/plain": [
              "| 74766        | 7.5e+09 | 74.766      | 17m 36s      |"
            ]
          },
          "metadata": {
            "tags": []
          }
        },
        {
          "output_type": "display_data",
          "data": {
            "text/html": [
              "<pre>| 74976        | 7.5e+09 | 74.976      | 17m 39s      |</pre>"
            ],
            "text/plain": [
              "| 74976        | 7.5e+09 | 74.976      | 17m 39s      |"
            ]
          },
          "metadata": {
            "tags": []
          }
        },
        {
          "output_type": "display_data",
          "data": {
            "text/html": [
              "<pre>| 75187        | 7.5e+09 | 75.187      | 17m 42s      |</pre>"
            ],
            "text/plain": [
              "| 75187        | 7.5e+09 | 75.187      | 17m 42s      |"
            ]
          },
          "metadata": {
            "tags": []
          }
        },
        {
          "output_type": "display_data",
          "data": {
            "text/html": [
              "<pre>| 75402        | 7.5e+09 | 75.402      | 17m 45s      |</pre>"
            ],
            "text/plain": [
              "| 75402        | 7.5e+09 | 75.402      | 17m 45s      |"
            ]
          },
          "metadata": {
            "tags": []
          }
        },
        {
          "output_type": "display_data",
          "data": {
            "text/html": [
              "<pre>| 75615        | 7.6e+09 | 75.615      | 17m 48s      |</pre>"
            ],
            "text/plain": [
              "| 75615        | 7.6e+09 | 75.615      | 17m 48s      |"
            ]
          },
          "metadata": {
            "tags": []
          }
        },
        {
          "output_type": "display_data",
          "data": {
            "text/html": [
              "<pre>| 75831        | 7.6e+09 | 75.831      | 17m 51s      |</pre>"
            ],
            "text/plain": [
              "| 75831        | 7.6e+09 | 75.831      | 17m 51s      |"
            ]
          },
          "metadata": {
            "tags": []
          }
        },
        {
          "output_type": "display_data",
          "data": {
            "text/html": [
              "<pre>| 76042        | 7.6e+09 | 76.042      | 17m 54s      |</pre>"
            ],
            "text/plain": [
              "| 76042        | 7.6e+09 | 76.042      | 17m 54s      |"
            ]
          },
          "metadata": {
            "tags": []
          }
        },
        {
          "output_type": "display_data",
          "data": {
            "text/html": [
              "<pre>| 76256        | 7.6e+09 | 76.256      | 17m 57s      |</pre>"
            ],
            "text/plain": [
              "| 76256        | 7.6e+09 | 76.256      | 17m 57s      |"
            ]
          },
          "metadata": {
            "tags": []
          }
        },
        {
          "output_type": "display_data",
          "data": {
            "text/html": [
              "<pre>| 76470        | 7.6e+09 | 76.47       | 18m 0s       |</pre>"
            ],
            "text/plain": [
              "| 76470        | 7.6e+09 | 76.47       | 18m 0s       |"
            ]
          },
          "metadata": {
            "tags": []
          }
        },
        {
          "output_type": "display_data",
          "data": {
            "text/html": [
              "<pre>| 76686        | 7.7e+09 | 76.686      | 18m 3s       |</pre>"
            ],
            "text/plain": [
              "| 76686        | 7.7e+09 | 76.686      | 18m 3s       |"
            ]
          },
          "metadata": {
            "tags": []
          }
        },
        {
          "output_type": "display_data",
          "data": {
            "text/html": [
              "<pre>| 76898        | 7.7e+09 | 76.898      | 18m 6s       |</pre>"
            ],
            "text/plain": [
              "| 76898        | 7.7e+09 | 76.898      | 18m 6s       |"
            ]
          },
          "metadata": {
            "tags": []
          }
        },
        {
          "output_type": "display_data",
          "data": {
            "text/html": [
              "<pre>| 77109        | 7.7e+09 | 77.109      | 18m 9s       |</pre>"
            ],
            "text/plain": [
              "| 77109        | 7.7e+09 | 77.109      | 18m 9s       |"
            ]
          },
          "metadata": {
            "tags": []
          }
        },
        {
          "output_type": "display_data",
          "data": {
            "text/html": [
              "<pre>| 77323        | 7.7e+09 | 77.323      | 18m 12s      |</pre>"
            ],
            "text/plain": [
              "| 77323        | 7.7e+09 | 77.323      | 18m 12s      |"
            ]
          },
          "metadata": {
            "tags": []
          }
        },
        {
          "output_type": "display_data",
          "data": {
            "text/html": [
              "<pre>| 77536        | 7.8e+09 | 77.536      | 18m 15s      |</pre>"
            ],
            "text/plain": [
              "| 77536        | 7.8e+09 | 77.536      | 18m 15s      |"
            ]
          },
          "metadata": {
            "tags": []
          }
        },
        {
          "output_type": "display_data",
          "data": {
            "text/html": [
              "<pre>| 77753        | 7.8e+09 | 77.753      | 18m 18s      |</pre>"
            ],
            "text/plain": [
              "| 77753        | 7.8e+09 | 77.753      | 18m 18s      |"
            ]
          },
          "metadata": {
            "tags": []
          }
        },
        {
          "output_type": "display_data",
          "data": {
            "text/html": [
              "<pre>| 77966        | 7.8e+09 | 77.966      | 18m 21s      |</pre>"
            ],
            "text/plain": [
              "| 77966        | 7.8e+09 | 77.966      | 18m 21s      |"
            ]
          },
          "metadata": {
            "tags": []
          }
        },
        {
          "output_type": "display_data",
          "data": {
            "text/html": [
              "<pre>| 78183        | 7.8e+09 | 78.183      | 18m 24s      |</pre>"
            ],
            "text/plain": [
              "| 78183        | 7.8e+09 | 78.183      | 18m 24s      |"
            ]
          },
          "metadata": {
            "tags": []
          }
        },
        {
          "output_type": "display_data",
          "data": {
            "text/html": [
              "<pre>| 78394        | 7.8e+09 | 78.394      | 18m 27s      |</pre>"
            ],
            "text/plain": [
              "| 78394        | 7.8e+09 | 78.394      | 18m 27s      |"
            ]
          },
          "metadata": {
            "tags": []
          }
        },
        {
          "output_type": "display_data",
          "data": {
            "text/html": [
              "<pre>| 78607        | 7.9e+09 | 78.607      | 18m 30s      |</pre>"
            ],
            "text/plain": [
              "| 78607        | 7.9e+09 | 78.607      | 18m 30s      |"
            ]
          },
          "metadata": {
            "tags": []
          }
        },
        {
          "output_type": "display_data",
          "data": {
            "text/html": [
              "<pre>| 78816        | 7.9e+09 | 78.816      | 18m 33s      |</pre>"
            ],
            "text/plain": [
              "| 78816        | 7.9e+09 | 78.816      | 18m 33s      |"
            ]
          },
          "metadata": {
            "tags": []
          }
        },
        {
          "output_type": "display_data",
          "data": {
            "text/html": [
              "<pre>| 79028        | 7.9e+09 | 79.028      | 18m 36s      |</pre>"
            ],
            "text/plain": [
              "| 79028        | 7.9e+09 | 79.028      | 18m 36s      |"
            ]
          },
          "metadata": {
            "tags": []
          }
        },
        {
          "output_type": "display_data",
          "data": {
            "text/html": [
              "<pre>| 79243        | 7.9e+09 | 79.243      | 18m 39s      |</pre>"
            ],
            "text/plain": [
              "| 79243        | 7.9e+09 | 79.243      | 18m 39s      |"
            ]
          },
          "metadata": {
            "tags": []
          }
        },
        {
          "output_type": "display_data",
          "data": {
            "text/html": [
              "<pre>| 79455        | 7.9e+09 | 79.455      | 18m 42s      |</pre>"
            ],
            "text/plain": [
              "| 79455        | 7.9e+09 | 79.455      | 18m 42s      |"
            ]
          },
          "metadata": {
            "tags": []
          }
        },
        {
          "output_type": "display_data",
          "data": {
            "text/html": [
              "<pre>| 79670        | 8e+09   | 79.67       | 18m 45s      |</pre>"
            ],
            "text/plain": [
              "| 79670        | 8e+09   | 79.67       | 18m 45s      |"
            ]
          },
          "metadata": {
            "tags": []
          }
        },
        {
          "output_type": "display_data",
          "data": {
            "text/html": [
              "<pre>| 79883        | 8e+09   | 79.883      | 18m 48s      |</pre>"
            ],
            "text/plain": [
              "| 79883        | 8e+09   | 79.883      | 18m 48s      |"
            ]
          },
          "metadata": {
            "tags": []
          }
        },
        {
          "output_type": "display_data",
          "data": {
            "text/html": [
              "<pre>| 80099        | 8e+09   | 80.099      | 18m 51s      |</pre>"
            ],
            "text/plain": [
              "| 80099        | 8e+09   | 80.099      | 18m 51s      |"
            ]
          },
          "metadata": {
            "tags": []
          }
        },
        {
          "output_type": "display_data",
          "data": {
            "text/html": [
              "<pre>| 80311        | 8e+09   | 80.311      | 18m 54s      |</pre>"
            ],
            "text/plain": [
              "| 80311        | 8e+09   | 80.311      | 18m 54s      |"
            ]
          },
          "metadata": {
            "tags": []
          }
        },
        {
          "output_type": "display_data",
          "data": {
            "text/html": [
              "<pre>| 80525        | 8.1e+09 | 80.525      | 18m 57s      |</pre>"
            ],
            "text/plain": [
              "| 80525        | 8.1e+09 | 80.525      | 18m 57s      |"
            ]
          },
          "metadata": {
            "tags": []
          }
        },
        {
          "output_type": "display_data",
          "data": {
            "text/html": [
              "<pre>| 80739        | 8.1e+09 | 80.739      | 19m 0s       |</pre>"
            ],
            "text/plain": [
              "| 80739        | 8.1e+09 | 80.739      | 19m 0s       |"
            ]
          },
          "metadata": {
            "tags": []
          }
        },
        {
          "output_type": "display_data",
          "data": {
            "text/html": [
              "<pre>| 80952        | 8.1e+09 | 80.952      | 19m 3s       |</pre>"
            ],
            "text/plain": [
              "| 80952        | 8.1e+09 | 80.952      | 19m 3s       |"
            ]
          },
          "metadata": {
            "tags": []
          }
        },
        {
          "output_type": "display_data",
          "data": {
            "text/html": [
              "<pre>| 81165        | 8.1e+09 | 81.165      | 19m 6s       |</pre>"
            ],
            "text/plain": [
              "| 81165        | 8.1e+09 | 81.165      | 19m 6s       |"
            ]
          },
          "metadata": {
            "tags": []
          }
        },
        {
          "output_type": "display_data",
          "data": {
            "text/html": [
              "<pre>| 81382        | 8.1e+09 | 81.382      | 19m 10s      |</pre>"
            ],
            "text/plain": [
              "| 81382        | 8.1e+09 | 81.382      | 19m 10s      |"
            ]
          },
          "metadata": {
            "tags": []
          }
        },
        {
          "output_type": "display_data",
          "data": {
            "text/html": [
              "<pre>| 81596        | 8.2e+09 | 81.596      | 19m 13s      |</pre>"
            ],
            "text/plain": [
              "| 81596        | 8.2e+09 | 81.596      | 19m 13s      |"
            ]
          },
          "metadata": {
            "tags": []
          }
        },
        {
          "output_type": "display_data",
          "data": {
            "text/html": [
              "<pre>| 81811        | 8.2e+09 | 81.811      | 19m 15s      |</pre>"
            ],
            "text/plain": [
              "| 81811        | 8.2e+09 | 81.811      | 19m 15s      |"
            ]
          },
          "metadata": {
            "tags": []
          }
        },
        {
          "output_type": "display_data",
          "data": {
            "text/html": [
              "<pre>| 82024        | 8.2e+09 | 82.024      | 19m 18s      |</pre>"
            ],
            "text/plain": [
              "| 82024        | 8.2e+09 | 82.024      | 19m 18s      |"
            ]
          },
          "metadata": {
            "tags": []
          }
        },
        {
          "output_type": "display_data",
          "data": {
            "text/html": [
              "<pre>| 82238        | 8.2e+09 | 82.238      | 19m 22s      |</pre>"
            ],
            "text/plain": [
              "| 82238        | 8.2e+09 | 82.238      | 19m 22s      |"
            ]
          },
          "metadata": {
            "tags": []
          }
        },
        {
          "output_type": "display_data",
          "data": {
            "text/html": [
              "<pre>| 82453        | 8.2e+09 | 82.453      | 19m 25s      |</pre>"
            ],
            "text/plain": [
              "| 82453        | 8.2e+09 | 82.453      | 19m 25s      |"
            ]
          },
          "metadata": {
            "tags": []
          }
        },
        {
          "output_type": "display_data",
          "data": {
            "text/html": [
              "<pre>| 82662        | 8.3e+09 | 82.662      | 19m 28s      |</pre>"
            ],
            "text/plain": [
              "| 82662        | 8.3e+09 | 82.662      | 19m 28s      |"
            ]
          },
          "metadata": {
            "tags": []
          }
        },
        {
          "output_type": "display_data",
          "data": {
            "text/html": [
              "<pre>| 82877        | 8.3e+09 | 82.877      | 19m 31s      |</pre>"
            ],
            "text/plain": [
              "| 82877        | 8.3e+09 | 82.877      | 19m 31s      |"
            ]
          },
          "metadata": {
            "tags": []
          }
        },
        {
          "output_type": "display_data",
          "data": {
            "text/html": [
              "<pre>| 83088        | 8.3e+09 | 83.088      | 19m 34s      |</pre>"
            ],
            "text/plain": [
              "| 83088        | 8.3e+09 | 83.088      | 19m 34s      |"
            ]
          },
          "metadata": {
            "tags": []
          }
        },
        {
          "output_type": "display_data",
          "data": {
            "text/html": [
              "<pre>| 83295        | 8.3e+09 | 83.295      | 19m 37s      |</pre>"
            ],
            "text/plain": [
              "| 83295        | 8.3e+09 | 83.295      | 19m 37s      |"
            ]
          },
          "metadata": {
            "tags": []
          }
        },
        {
          "output_type": "display_data",
          "data": {
            "text/html": [
              "<pre>| 83490        | 8.3e+09 | 83.49       | 19m 40s      |</pre>"
            ],
            "text/plain": [
              "| 83490        | 8.3e+09 | 83.49       | 19m 40s      |"
            ]
          },
          "metadata": {
            "tags": []
          }
        },
        {
          "output_type": "display_data",
          "data": {
            "text/html": [
              "<pre>| 83703        | 8.4e+09 | 83.703      | 19m 43s      |</pre>"
            ],
            "text/plain": [
              "| 83703        | 8.4e+09 | 83.703      | 19m 43s      |"
            ]
          },
          "metadata": {
            "tags": []
          }
        },
        {
          "output_type": "display_data",
          "data": {
            "text/html": [
              "<pre>| 83913        | 8.4e+09 | 83.913      | 19m 46s      |</pre>"
            ],
            "text/plain": [
              "| 83913        | 8.4e+09 | 83.913      | 19m 46s      |"
            ]
          },
          "metadata": {
            "tags": []
          }
        },
        {
          "output_type": "display_data",
          "data": {
            "text/html": [
              "<pre>| 84121        | 8.4e+09 | 84.121      | 19m 49s      |</pre>"
            ],
            "text/plain": [
              "| 84121        | 8.4e+09 | 84.121      | 19m 49s      |"
            ]
          },
          "metadata": {
            "tags": []
          }
        },
        {
          "output_type": "display_data",
          "data": {
            "text/html": [
              "<pre>| 84333        | 8.4e+09 | 84.333      | 19m 52s      |</pre>"
            ],
            "text/plain": [
              "| 84333        | 8.4e+09 | 84.333      | 19m 52s      |"
            ]
          },
          "metadata": {
            "tags": []
          }
        },
        {
          "output_type": "display_data",
          "data": {
            "text/html": [
              "<pre>| 84545        | 8.5e+09 | 84.545      | 19m 55s      |</pre>"
            ],
            "text/plain": [
              "| 84545        | 8.5e+09 | 84.545      | 19m 55s      |"
            ]
          },
          "metadata": {
            "tags": []
          }
        },
        {
          "output_type": "display_data",
          "data": {
            "text/html": [
              "<pre>| 84760        | 8.5e+09 | 84.76       | 19m 58s      |</pre>"
            ],
            "text/plain": [
              "| 84760        | 8.5e+09 | 84.76       | 19m 58s      |"
            ]
          },
          "metadata": {
            "tags": []
          }
        },
        {
          "output_type": "display_data",
          "data": {
            "text/html": [
              "<pre>| 84973        | 8.5e+09 | 84.973      | 20m 1s       |</pre>"
            ],
            "text/plain": [
              "| 84973        | 8.5e+09 | 84.973      | 20m 1s       |"
            ]
          },
          "metadata": {
            "tags": []
          }
        },
        {
          "output_type": "display_data",
          "data": {
            "text/html": [
              "<pre>| 85186        | 8.5e+09 | 85.186      | 20m 4s       |</pre>"
            ],
            "text/plain": [
              "| 85186        | 8.5e+09 | 85.186      | 20m 4s       |"
            ]
          },
          "metadata": {
            "tags": []
          }
        },
        {
          "output_type": "display_data",
          "data": {
            "text/html": [
              "<pre>| 85396        | 8.5e+09 | 85.396      | 20m 7s       |</pre>"
            ],
            "text/plain": [
              "| 85396        | 8.5e+09 | 85.396      | 20m 7s       |"
            ]
          },
          "metadata": {
            "tags": []
          }
        },
        {
          "output_type": "display_data",
          "data": {
            "text/html": [
              "<pre>| 85611        | 8.6e+09 | 85.611      | 20m 10s      |</pre>"
            ],
            "text/plain": [
              "| 85611        | 8.6e+09 | 85.611      | 20m 10s      |"
            ]
          },
          "metadata": {
            "tags": []
          }
        },
        {
          "output_type": "display_data",
          "data": {
            "text/html": [
              "<pre>| 85823        | 8.6e+09 | 85.823      | 20m 13s      |</pre>"
            ],
            "text/plain": [
              "| 85823        | 8.6e+09 | 85.823      | 20m 13s      |"
            ]
          },
          "metadata": {
            "tags": []
          }
        },
        {
          "output_type": "display_data",
          "data": {
            "text/html": [
              "<pre>| 86039        | 8.6e+09 | 86.039      | 20m 16s      |</pre>"
            ],
            "text/plain": [
              "| 86039        | 8.6e+09 | 86.039      | 20m 16s      |"
            ]
          },
          "metadata": {
            "tags": []
          }
        },
        {
          "output_type": "display_data",
          "data": {
            "text/html": [
              "<pre>| 86253        | 8.6e+09 | 86.253      | 20m 19s      |</pre>"
            ],
            "text/plain": [
              "| 86253        | 8.6e+09 | 86.253      | 20m 19s      |"
            ]
          },
          "metadata": {
            "tags": []
          }
        },
        {
          "output_type": "display_data",
          "data": {
            "text/html": [
              "<pre>| 86469        | 8.6e+09 | 86.469      | 20m 22s      |</pre>"
            ],
            "text/plain": [
              "| 86469        | 8.6e+09 | 86.469      | 20m 22s      |"
            ]
          },
          "metadata": {
            "tags": []
          }
        },
        {
          "output_type": "display_data",
          "data": {
            "text/html": [
              "<pre>| 86679        | 8.7e+09 | 86.679      | 20m 25s      |</pre>"
            ],
            "text/plain": [
              "| 86679        | 8.7e+09 | 86.679      | 20m 25s      |"
            ]
          },
          "metadata": {
            "tags": []
          }
        },
        {
          "output_type": "display_data",
          "data": {
            "text/html": [
              "<pre>| 86890        | 8.7e+09 | 86.89       | 20m 28s      |</pre>"
            ],
            "text/plain": [
              "| 86890        | 8.7e+09 | 86.89       | 20m 28s      |"
            ]
          },
          "metadata": {
            "tags": []
          }
        },
        {
          "output_type": "display_data",
          "data": {
            "text/html": [
              "<pre>| 87102        | 8.7e+09 | 87.102      | 20m 31s      |</pre>"
            ],
            "text/plain": [
              "| 87102        | 8.7e+09 | 87.102      | 20m 31s      |"
            ]
          },
          "metadata": {
            "tags": []
          }
        },
        {
          "output_type": "display_data",
          "data": {
            "text/html": [
              "<pre>| 87317        | 8.7e+09 | 87.317      | 20m 34s      |</pre>"
            ],
            "text/plain": [
              "| 87317        | 8.7e+09 | 87.317      | 20m 34s      |"
            ]
          },
          "metadata": {
            "tags": []
          }
        },
        {
          "output_type": "display_data",
          "data": {
            "text/html": [
              "<pre>| 87516        | 8.8e+09 | 87.516      | 20m 38s      |</pre>"
            ],
            "text/plain": [
              "| 87516        | 8.8e+09 | 87.516      | 20m 38s      |"
            ]
          },
          "metadata": {
            "tags": []
          }
        },
        {
          "output_type": "display_data",
          "data": {
            "text/html": [
              "<pre>| 87640        | 8.8e+09 | 87.64       | 20m 40s      |</pre>"
            ],
            "text/plain": [
              "| 87640        | 8.8e+09 | 87.64       | 20m 40s      |"
            ]
          },
          "metadata": {
            "tags": []
          }
        },
        {
          "output_type": "display_data",
          "data": {
            "text/html": [
              "<pre>| 87855        | 8.8e+09 | 87.855      | 20m 43s      |</pre>"
            ],
            "text/plain": [
              "| 87855        | 8.8e+09 | 87.855      | 20m 43s      |"
            ]
          },
          "metadata": {
            "tags": []
          }
        },
        {
          "output_type": "display_data",
          "data": {
            "text/html": [
              "<pre>| 88068        | 8.8e+09 | 88.068      | 20m 46s      |</pre>"
            ],
            "text/plain": [
              "| 88068        | 8.8e+09 | 88.068      | 20m 46s      |"
            ]
          },
          "metadata": {
            "tags": []
          }
        },
        {
          "output_type": "display_data",
          "data": {
            "text/html": [
              "<pre>| 88282        | 8.8e+09 | 88.282      | 20m 49s      |</pre>"
            ],
            "text/plain": [
              "| 88282        | 8.8e+09 | 88.282      | 20m 49s      |"
            ]
          },
          "metadata": {
            "tags": []
          }
        },
        {
          "output_type": "display_data",
          "data": {
            "text/html": [
              "<pre>| 88501        | 8.9e+09 | 88.501      | 20m 52s      |</pre>"
            ],
            "text/plain": [
              "| 88501        | 8.9e+09 | 88.501      | 20m 52s      |"
            ]
          },
          "metadata": {
            "tags": []
          }
        },
        {
          "output_type": "display_data",
          "data": {
            "text/html": [
              "<pre>| 88719        | 8.9e+09 | 88.719      | 20m 55s      |</pre>"
            ],
            "text/plain": [
              "| 88719        | 8.9e+09 | 88.719      | 20m 55s      |"
            ]
          },
          "metadata": {
            "tags": []
          }
        },
        {
          "output_type": "display_data",
          "data": {
            "text/html": [
              "<pre>| 88934        | 8.9e+09 | 88.934      | 20m 58s      |</pre>"
            ],
            "text/plain": [
              "| 88934        | 8.9e+09 | 88.934      | 20m 58s      |"
            ]
          },
          "metadata": {
            "tags": []
          }
        },
        {
          "output_type": "display_data",
          "data": {
            "text/html": [
              "<pre>| 89149        | 8.9e+09 | 89.149      | 21m 1s       |</pre>"
            ],
            "text/plain": [
              "| 89149        | 8.9e+09 | 89.149      | 21m 1s       |"
            ]
          },
          "metadata": {
            "tags": []
          }
        },
        {
          "output_type": "display_data",
          "data": {
            "text/html": [
              "<pre>| 89362        | 8.9e+09 | 89.362      | 21m 4s       |</pre>"
            ],
            "text/plain": [
              "| 89362        | 8.9e+09 | 89.362      | 21m 4s       |"
            ]
          },
          "metadata": {
            "tags": []
          }
        },
        {
          "output_type": "display_data",
          "data": {
            "text/html": [
              "<pre>| 89575        | 9e+09   | 89.575      | 21m 7s       |</pre>"
            ],
            "text/plain": [
              "| 89575        | 9e+09   | 89.575      | 21m 7s       |"
            ]
          },
          "metadata": {
            "tags": []
          }
        },
        {
          "output_type": "display_data",
          "data": {
            "text/html": [
              "<pre>| 89786        | 9e+09   | 89.786      | 21m 10s      |</pre>"
            ],
            "text/plain": [
              "| 89786        | 9e+09   | 89.786      | 21m 10s      |"
            ]
          },
          "metadata": {
            "tags": []
          }
        },
        {
          "output_type": "display_data",
          "data": {
            "text/html": [
              "<pre>| 89999        |         | 89.999      | 21m 13s      |</pre>"
            ],
            "text/plain": [
              "| 89999        |         | 89.999      | 21m 13s      |"
            ]
          },
          "metadata": {
            "tags": []
          }
        },
        {
          "output_type": "display_data",
          "data": {
            "text/html": [
              "<pre>| 90216        | 9e+09   | 90.216      | 21m 16s      |</pre>"
            ],
            "text/plain": [
              "| 90216        | 9e+09   | 90.216      | 21m 16s      |"
            ]
          },
          "metadata": {
            "tags": []
          }
        },
        {
          "output_type": "display_data",
          "data": {
            "text/html": [
              "<pre>| 90429        | 9e+09   | 90.429      | 21m 19s      |</pre>"
            ],
            "text/plain": [
              "| 90429        | 9e+09   | 90.429      | 21m 19s      |"
            ]
          },
          "metadata": {
            "tags": []
          }
        },
        {
          "output_type": "display_data",
          "data": {
            "text/html": [
              "<pre>| 90646        | 9.1e+09 | 90.646      | 21m 22s      |</pre>"
            ],
            "text/plain": [
              "| 90646        | 9.1e+09 | 90.646      | 21m 22s      |"
            ]
          },
          "metadata": {
            "tags": []
          }
        },
        {
          "output_type": "display_data",
          "data": {
            "text/html": [
              "<pre>| 90858        | 9.1e+09 | 90.858      | 21m 25s      |</pre>"
            ],
            "text/plain": [
              "| 90858        | 9.1e+09 | 90.858      | 21m 25s      |"
            ]
          },
          "metadata": {
            "tags": []
          }
        },
        {
          "output_type": "display_data",
          "data": {
            "text/html": [
              "<pre>| 91073        | 9.1e+09 | 91.073      | 21m 28s      |</pre>"
            ],
            "text/plain": [
              "| 91073        | 9.1e+09 | 91.073      | 21m 28s      |"
            ]
          },
          "metadata": {
            "tags": []
          }
        },
        {
          "output_type": "display_data",
          "data": {
            "text/html": [
              "<pre>| 91288        | 9.1e+09 | 91.288      | 21m 31s      |</pre>"
            ],
            "text/plain": [
              "| 91288        | 9.1e+09 | 91.288      | 21m 31s      |"
            ]
          },
          "metadata": {
            "tags": []
          }
        },
        {
          "output_type": "display_data",
          "data": {
            "text/html": [
              "<pre>| 91385        | 9.1e+09 | 91.385      | 21m 34s      |</pre>"
            ],
            "text/plain": [
              "| 91385        | 9.1e+09 | 91.385      | 21m 34s      |"
            ]
          },
          "metadata": {
            "tags": []
          }
        },
        {
          "output_type": "display_data",
          "data": {
            "text/html": [
              "<pre>| 91592        | 9.2e+09 | 91.592      | 21m 37s      |</pre>"
            ],
            "text/plain": [
              "| 91592        | 9.2e+09 | 91.592      | 21m 37s      |"
            ]
          },
          "metadata": {
            "tags": []
          }
        },
        {
          "output_type": "display_data",
          "data": {
            "text/html": [
              "<pre>| 91806        | 9.2e+09 | 91.806      | 21m 40s      |</pre>"
            ],
            "text/plain": [
              "| 91806        | 9.2e+09 | 91.806      | 21m 40s      |"
            ]
          },
          "metadata": {
            "tags": []
          }
        },
        {
          "output_type": "display_data",
          "data": {
            "text/html": [
              "<pre>| 92015        | 9.2e+09 | 92.015      | 21m 43s      |</pre>"
            ],
            "text/plain": [
              "| 92015        | 9.2e+09 | 92.015      | 21m 43s      |"
            ]
          },
          "metadata": {
            "tags": []
          }
        },
        {
          "output_type": "display_data",
          "data": {
            "text/html": [
              "<pre>| 92226        | 9.2e+09 | 92.226      | 21m 46s      |</pre>"
            ],
            "text/plain": [
              "| 92226        | 9.2e+09 | 92.226      | 21m 46s      |"
            ]
          },
          "metadata": {
            "tags": []
          }
        },
        {
          "output_type": "display_data",
          "data": {
            "text/html": [
              "<pre>| 92441        | 9.2e+09 | 92.441      | 21m 49s      |</pre>"
            ],
            "text/plain": [
              "| 92441        | 9.2e+09 | 92.441      | 21m 49s      |"
            ]
          },
          "metadata": {
            "tags": []
          }
        },
        {
          "output_type": "display_data",
          "data": {
            "text/html": [
              "<pre>| 92660        | 9.3e+09 | 92.66       | 21m 52s      |</pre>"
            ],
            "text/plain": [
              "| 92660        | 9.3e+09 | 92.66       | 21m 52s      |"
            ]
          },
          "metadata": {
            "tags": []
          }
        },
        {
          "output_type": "display_data",
          "data": {
            "text/html": [
              "<pre>| 92877        | 9.3e+09 | 92.877      | 21m 55s      |</pre>"
            ],
            "text/plain": [
              "| 92877        | 9.3e+09 | 92.877      | 21m 55s      |"
            ]
          },
          "metadata": {
            "tags": []
          }
        },
        {
          "output_type": "display_data",
          "data": {
            "text/html": [
              "<pre>| 93092        | 9.3e+09 | 93.092      | 21m 58s      |</pre>"
            ],
            "text/plain": [
              "| 93092        | 9.3e+09 | 93.092      | 21m 58s      |"
            ]
          },
          "metadata": {
            "tags": []
          }
        },
        {
          "output_type": "display_data",
          "data": {
            "text/html": [
              "<pre>| 93305        | 9.3e+09 | 93.305      | 22m 1s       |</pre>"
            ],
            "text/plain": [
              "| 93305        | 9.3e+09 | 93.305      | 22m 1s       |"
            ]
          },
          "metadata": {
            "tags": []
          }
        },
        {
          "output_type": "display_data",
          "data": {
            "text/html": [
              "<pre>| 93519        | 9.4e+09 | 93.519      | 22m 4s       |</pre>"
            ],
            "text/plain": [
              "| 93519        | 9.4e+09 | 93.519      | 22m 4s       |"
            ]
          },
          "metadata": {
            "tags": []
          }
        },
        {
          "output_type": "display_data",
          "data": {
            "text/html": [
              "<pre>| 93731        | 9.4e+09 | 93.731      | 22m 7s       |</pre>"
            ],
            "text/plain": [
              "| 93731        | 9.4e+09 | 93.731      | 22m 7s       |"
            ]
          },
          "metadata": {
            "tags": []
          }
        },
        {
          "output_type": "display_data",
          "data": {
            "text/html": [
              "<pre>| 93945        | 9.4e+09 | 93.945      | 22m 10s      |</pre>"
            ],
            "text/plain": [
              "| 93945        | 9.4e+09 | 93.945      | 22m 10s      |"
            ]
          },
          "metadata": {
            "tags": []
          }
        },
        {
          "output_type": "display_data",
          "data": {
            "text/html": [
              "<pre>| 94160        | 9.4e+09 | 94.16       | 22m 13s      |</pre>"
            ],
            "text/plain": [
              "| 94160        | 9.4e+09 | 94.16       | 22m 13s      |"
            ]
          },
          "metadata": {
            "tags": []
          }
        },
        {
          "output_type": "display_data",
          "data": {
            "text/html": [
              "<pre>| 94376        | 9.4e+09 | 94.376      | 22m 16s      |</pre>"
            ],
            "text/plain": [
              "| 94376        | 9.4e+09 | 94.376      | 22m 16s      |"
            ]
          },
          "metadata": {
            "tags": []
          }
        },
        {
          "output_type": "display_data",
          "data": {
            "text/html": [
              "<pre>| 94589        | 9.5e+09 | 94.589      | 22m 19s      |</pre>"
            ],
            "text/plain": [
              "| 94589        | 9.5e+09 | 94.589      | 22m 19s      |"
            ]
          },
          "metadata": {
            "tags": []
          }
        },
        {
          "output_type": "display_data",
          "data": {
            "text/html": [
              "<pre>| 94800        | 9.5e+09 | 94.8        | 22m 22s      |</pre>"
            ],
            "text/plain": [
              "| 94800        | 9.5e+09 | 94.8        | 22m 22s      |"
            ]
          },
          "metadata": {
            "tags": []
          }
        },
        {
          "output_type": "display_data",
          "data": {
            "text/html": [
              "<pre>| 95012        | 9.5e+09 | 95.012      | 22m 25s      |</pre>"
            ],
            "text/plain": [
              "| 95012        | 9.5e+09 | 95.012      | 22m 25s      |"
            ]
          },
          "metadata": {
            "tags": []
          }
        },
        {
          "output_type": "display_data",
          "data": {
            "text/html": [
              "<pre>| 95227        | 9.5e+09 | 95.227      | 22m 28s      |</pre>"
            ],
            "text/plain": [
              "| 95227        | 9.5e+09 | 95.227      | 22m 28s      |"
            ]
          },
          "metadata": {
            "tags": []
          }
        },
        {
          "output_type": "display_data",
          "data": {
            "text/html": [
              "<pre>| 95442        | 9.5e+09 | 95.442      | 22m 31s      |</pre>"
            ],
            "text/plain": [
              "| 95442        | 9.5e+09 | 95.442      | 22m 31s      |"
            ]
          },
          "metadata": {
            "tags": []
          }
        },
        {
          "output_type": "display_data",
          "data": {
            "text/html": [
              "<pre>| 95652        | 9.6e+09 | 95.652      | 22m 34s      |</pre>"
            ],
            "text/plain": [
              "| 95652        | 9.6e+09 | 95.652      | 22m 34s      |"
            ]
          },
          "metadata": {
            "tags": []
          }
        },
        {
          "output_type": "display_data",
          "data": {
            "text/html": [
              "<pre>| 95866        | 9.6e+09 | 95.866      | 22m 37s      |</pre>"
            ],
            "text/plain": [
              "| 95866        | 9.6e+09 | 95.866      | 22m 37s      |"
            ]
          },
          "metadata": {
            "tags": []
          }
        },
        {
          "output_type": "display_data",
          "data": {
            "text/html": [
              "<pre>| 96079        | 9.6e+09 | 96.079      | 22m 40s      |</pre>"
            ],
            "text/plain": [
              "| 96079        | 9.6e+09 | 96.079      | 22m 40s      |"
            ]
          },
          "metadata": {
            "tags": []
          }
        },
        {
          "output_type": "display_data",
          "data": {
            "text/html": [
              "<pre>| 96289        | 9.6e+09 | 96.289      | 22m 43s      |</pre>"
            ],
            "text/plain": [
              "| 96289        | 9.6e+09 | 96.289      | 22m 43s      |"
            ]
          },
          "metadata": {
            "tags": []
          }
        },
        {
          "output_type": "display_data",
          "data": {
            "text/html": [
              "<pre>| 96501        | 9.7e+09 | 96.501      | 22m 46s      |</pre>"
            ],
            "text/plain": [
              "| 96501        | 9.7e+09 | 96.501      | 22m 46s      |"
            ]
          },
          "metadata": {
            "tags": []
          }
        },
        {
          "output_type": "display_data",
          "data": {
            "text/html": [
              "<pre>| 96713        | 9.7e+09 | 96.713      | 22m 49s      |</pre>"
            ],
            "text/plain": [
              "| 96713        | 9.7e+09 | 96.713      | 22m 49s      |"
            ]
          },
          "metadata": {
            "tags": []
          }
        },
        {
          "output_type": "display_data",
          "data": {
            "text/html": [
              "<pre>| 96925        | 9.7e+09 | 96.925      | 22m 52s      |</pre>"
            ],
            "text/plain": [
              "| 96925        | 9.7e+09 | 96.925      | 22m 52s      |"
            ]
          },
          "metadata": {
            "tags": []
          }
        },
        {
          "output_type": "display_data",
          "data": {
            "text/html": [
              "<pre>| 97141        | 9.7e+09 | 97.141      | 22m 55s      |</pre>"
            ],
            "text/plain": [
              "| 97141        | 9.7e+09 | 97.141      | 22m 55s      |"
            ]
          },
          "metadata": {
            "tags": []
          }
        },
        {
          "output_type": "display_data",
          "data": {
            "text/html": [
              "<pre>| 97352        | 9.7e+09 | 97.352      | 22m 58s      |</pre>"
            ],
            "text/plain": [
              "| 97352        | 9.7e+09 | 97.352      | 22m 58s      |"
            ]
          },
          "metadata": {
            "tags": []
          }
        },
        {
          "output_type": "display_data",
          "data": {
            "text/html": [
              "<pre>| 97564        | 9.8e+09 | 97.564      | 23m 1s       |</pre>"
            ],
            "text/plain": [
              "| 97564        | 9.8e+09 | 97.564      | 23m 1s       |"
            ]
          },
          "metadata": {
            "tags": []
          }
        },
        {
          "output_type": "display_data",
          "data": {
            "text/html": [
              "<pre>| 97777        | 9.8e+09 | 97.777      | 23m 4s       |</pre>"
            ],
            "text/plain": [
              "| 97777        | 9.8e+09 | 97.777      | 23m 4s       |"
            ]
          },
          "metadata": {
            "tags": []
          }
        },
        {
          "output_type": "display_data",
          "data": {
            "text/html": [
              "<pre>| 97988        | 9.8e+09 | 97.988      | 23m 7s       |</pre>"
            ],
            "text/plain": [
              "| 97988        | 9.8e+09 | 97.988      | 23m 7s       |"
            ]
          },
          "metadata": {
            "tags": []
          }
        },
        {
          "output_type": "display_data",
          "data": {
            "text/html": [
              "<pre>| 98201        | 9.8e+09 | 98.201      | 23m 10s      |</pre>"
            ],
            "text/plain": [
              "| 98201        | 9.8e+09 | 98.201      | 23m 10s      |"
            ]
          },
          "metadata": {
            "tags": []
          }
        },
        {
          "output_type": "display_data",
          "data": {
            "text/html": [
              "<pre>| 98414        | 9.8e+09 | 98.414      | 23m 13s      |</pre>"
            ],
            "text/plain": [
              "| 98414        | 9.8e+09 | 98.414      | 23m 13s      |"
            ]
          },
          "metadata": {
            "tags": []
          }
        },
        {
          "output_type": "display_data",
          "data": {
            "text/html": [
              "<pre>| 98629        | 9.9e+09 | 98.629      | 23m 16s      |</pre>"
            ],
            "text/plain": [
              "| 98629        | 9.9e+09 | 98.629      | 23m 16s      |"
            ]
          },
          "metadata": {
            "tags": []
          }
        },
        {
          "output_type": "display_data",
          "data": {
            "text/html": [
              "<pre>| 98841        | 9.9e+09 | 98.841      | 23m 19s      |</pre>"
            ],
            "text/plain": [
              "| 98841        | 9.9e+09 | 98.841      | 23m 19s      |"
            ]
          },
          "metadata": {
            "tags": []
          }
        },
        {
          "output_type": "display_data",
          "data": {
            "text/html": [
              "<pre>| 99055        | 9.9e+09 | 99.055      | 23m 22s      |</pre>"
            ],
            "text/plain": [
              "| 99055        | 9.9e+09 | 99.055      | 23m 22s      |"
            ]
          },
          "metadata": {
            "tags": []
          }
        },
        {
          "output_type": "display_data",
          "data": {
            "text/html": [
              "<pre>| 99266        | 9.9e+09 | 99.266      | 23m 25s      |</pre>"
            ],
            "text/plain": [
              "| 99266        | 9.9e+09 | 99.266      | 23m 25s      |"
            ]
          },
          "metadata": {
            "tags": []
          }
        },
        {
          "output_type": "display_data",
          "data": {
            "text/html": [
              "<pre>| 99481        | 9.9e+09 | 99.481      | 23m 28s      |</pre>"
            ],
            "text/plain": [
              "| 99481        | 9.9e+09 | 99.481      | 23m 28s      |"
            ]
          },
          "metadata": {
            "tags": []
          }
        },
        {
          "output_type": "display_data",
          "data": {
            "text/html": [
              "<pre>| 99693        | 1e+10   | 99.693      | 23m 31s      |</pre>"
            ],
            "text/plain": [
              "| 99693        | 1e+10   | 99.693      | 23m 31s      |"
            ]
          },
          "metadata": {
            "tags": []
          }
        },
        {
          "output_type": "display_data",
          "data": {
            "text/html": [
              "<pre>| 99907        | 1e+10   | 99.907      | 23m 34s      |</pre>"
            ],
            "text/plain": [
              "| 99907        | 1e+10   | 99.907      | 23m 34s      |"
            ]
          },
          "metadata": {
            "tags": []
          }
        },
        {
          "output_type": "display_data",
          "data": {
            "text/html": [
              "<pre>| Done         |         | 100         | 23m 35s      |</pre>"
            ],
            "text/plain": [
              "| Done         |         | 100         | 23m 35s      |"
            ]
          },
          "metadata": {
            "tags": []
          }
        },
        {
          "output_type": "display_data",
          "data": {
            "text/html": [
              "<pre>+--------------+---------+-------------+--------------+</pre>"
            ],
            "text/plain": [
              "+--------------+---------+-------------+--------------+"
            ]
          },
          "metadata": {
            "tags": []
          }
        },
        {
          "output_type": "error",
          "ename": "KeyboardInterrupt",
          "evalue": "ignored",
          "traceback": [
            "\u001b[0;31m---------------------------------------------------------------------------\u001b[0m",
            "\u001b[0;31mKeyboardInterrupt\u001b[0m                         Traceback (most recent call last)",
            "\u001b[0;32m/usr/local/lib/python3.6/dist-packages/turicreate/extensions.py\u001b[0m in \u001b[0;36m_run_toolkit_function\u001b[0;34m(fnname, arguments, args, kwargs)\u001b[0m\n\u001b[1;32m    154\u001b[0m     \u001b[0;32mwith\u001b[0m \u001b[0mcython_context\u001b[0m\u001b[0;34m(\u001b[0m\u001b[0;34m)\u001b[0m\u001b[0;34m:\u001b[0m\u001b[0;34m\u001b[0m\u001b[0;34m\u001b[0m\u001b[0m\n\u001b[0;32m--> 155\u001b[0;31m         \u001b[0mret\u001b[0m \u001b[0;34m=\u001b[0m \u001b[0m_get_unity\u001b[0m\u001b[0;34m(\u001b[0m\u001b[0;34m)\u001b[0m\u001b[0;34m.\u001b[0m\u001b[0mrun_toolkit\u001b[0m\u001b[0;34m(\u001b[0m\u001b[0mfnname\u001b[0m\u001b[0;34m,\u001b[0m \u001b[0margument_dict\u001b[0m\u001b[0;34m)\u001b[0m\u001b[0;34m\u001b[0m\u001b[0;34m\u001b[0m\u001b[0m\n\u001b[0m\u001b[1;32m    156\u001b[0m     \u001b[0;31m# handle errors\u001b[0m\u001b[0;34m\u001b[0m\u001b[0;34m\u001b[0m\u001b[0;34m\u001b[0m\u001b[0m\n",
            "\u001b[0;31mKeyboardInterrupt\u001b[0m: ",
            "\nDuring handling of the above exception, another exception occurred:\n",
            "\u001b[0;31mKeyboardInterrupt\u001b[0m                         Traceback (most recent call last)",
            "\u001b[0;32m<ipython-input-32-6eeaa2817a4a>\u001b[0m in \u001b[0;36m<module>\u001b[0;34m()\u001b[0m\n\u001b[0;32m----> 1\u001b[0;31m \u001b[0mmodel_item_content\u001b[0m \u001b[0;34m=\u001b[0m \u001b[0mtc\u001b[0m\u001b[0;34m.\u001b[0m\u001b[0mrecommender\u001b[0m\u001b[0;34m.\u001b[0m\u001b[0mitem_content_recommender\u001b[0m\u001b[0;34m.\u001b[0m\u001b[0mcreate\u001b[0m\u001b[0;34m(\u001b[0m\u001b[0mtraining_data\u001b[0m\u001b[0;34m,\u001b[0m \u001b[0;34m'userId'\u001b[0m\u001b[0;34m,\u001b[0m \u001b[0;34m'movieId'\u001b[0m\u001b[0;34m,\u001b[0m \u001b[0mtarget\u001b[0m\u001b[0;34m=\u001b[0m\u001b[0;34m'rating'\u001b[0m\u001b[0;34m)\u001b[0m\u001b[0;34m\u001b[0m\u001b[0;34m\u001b[0m\u001b[0m\n\u001b[0m\u001b[1;32m      2\u001b[0m \u001b[0mresults_item_content\u001b[0m \u001b[0;34m=\u001b[0m \u001b[0mmodel_item_content\u001b[0m\u001b[0;34m.\u001b[0m\u001b[0mrecommend\u001b[0m\u001b[0;34m(\u001b[0m\u001b[0;34m)\u001b[0m\u001b[0;34m\u001b[0m\u001b[0;34m\u001b[0m\u001b[0m\n\u001b[1;32m      3\u001b[0m \u001b[0manswer\u001b[0m \u001b[0;34m=\u001b[0m\u001b[0mtc\u001b[0m\u001b[0;34m.\u001b[0m\u001b[0mSFrame\u001b[0m\u001b[0;34m(\u001b[0m \u001b[0mmodel_model_item_content\u001b[0m\u001b[0;34m.\u001b[0m\u001b[0mpredict\u001b[0m\u001b[0;34m(\u001b[0m\u001b[0mvalidation_data\u001b[0m\u001b[0;34m)\u001b[0m\u001b[0;34m)\u001b[0m\u001b[0;34m.\u001b[0m\u001b[0mto_dataframe\u001b[0m\u001b[0;34m(\u001b[0m\u001b[0;34m)\u001b[0m\u001b[0;34m\u001b[0m\u001b[0;34m\u001b[0m\u001b[0m\n\u001b[1;32m      4\u001b[0m \u001b[0;31m#real = validation_data.to_dataframe()\u001b[0m\u001b[0;34m\u001b[0m\u001b[0;34m\u001b[0m\u001b[0;34m\u001b[0m\u001b[0m\n\u001b[1;32m      5\u001b[0m \u001b[0;31m#print (answer)\u001b[0m\u001b[0;34m\u001b[0m\u001b[0;34m\u001b[0m\u001b[0;34m\u001b[0m\u001b[0m\n",
            "\u001b[0;32m/usr/local/lib/python3.6/dist-packages/turicreate/toolkits/recommender/item_content_recommender.py\u001b[0m in \u001b[0;36mcreate\u001b[0;34m(item_data, item_id, observation_data, user_id, target, weights, similarity_metrics, item_data_transform, max_item_neighborhood_size, verbose)\u001b[0m\n\u001b[1;32m    232\u001b[0m     \u001b[0;31m# Now, build the nearest neighbors model:\u001b[0m\u001b[0;34m\u001b[0m\u001b[0;34m\u001b[0m\u001b[0;34m\u001b[0m\u001b[0m\n\u001b[1;32m    233\u001b[0m     \u001b[0mnn\u001b[0m \u001b[0;34m=\u001b[0m \u001b[0m_turicreate\u001b[0m\u001b[0;34m.\u001b[0m\u001b[0mnearest_neighbors\u001b[0m\u001b[0;34m.\u001b[0m\u001b[0mcreate\u001b[0m\u001b[0;34m(\u001b[0m\u001b[0mitem_data\u001b[0m\u001b[0;34m,\u001b[0m \u001b[0mlabel\u001b[0m\u001b[0;34m=\u001b[0m\u001b[0mitem_id\u001b[0m\u001b[0;34m,\u001b[0m \u001b[0mdistance\u001b[0m \u001b[0;34m=\u001b[0m \u001b[0mdistance\u001b[0m\u001b[0;34m,\u001b[0m \u001b[0mverbose\u001b[0m \u001b[0;34m=\u001b[0m \u001b[0mverbose\u001b[0m\u001b[0;34m)\u001b[0m\u001b[0;34m\u001b[0m\u001b[0;34m\u001b[0m\u001b[0m\n\u001b[0;32m--> 234\u001b[0;31m     \u001b[0mgraph\u001b[0m \u001b[0;34m=\u001b[0m \u001b[0mnn\u001b[0m\u001b[0;34m.\u001b[0m\u001b[0mquery\u001b[0m\u001b[0;34m(\u001b[0m\u001b[0mitem_data\u001b[0m\u001b[0;34m,\u001b[0m \u001b[0mlabel\u001b[0m \u001b[0;34m=\u001b[0m \u001b[0mitem_id\u001b[0m\u001b[0;34m,\u001b[0m \u001b[0mk\u001b[0m\u001b[0;34m=\u001b[0m\u001b[0mmax_item_neighborhood_size\u001b[0m\u001b[0;34m,\u001b[0m \u001b[0mverbose\u001b[0m \u001b[0;34m=\u001b[0m \u001b[0mverbose\u001b[0m\u001b[0;34m)\u001b[0m\u001b[0;34m\u001b[0m\u001b[0;34m\u001b[0m\u001b[0m\n\u001b[0m\u001b[1;32m    235\u001b[0m     graph = graph.rename({\"query_label\" : item_id,\n\u001b[1;32m    236\u001b[0m                           \u001b[0;34m\"reference_label\"\u001b[0m \u001b[0;34m:\u001b[0m \u001b[0;34m\"similar\"\u001b[0m\u001b[0;34m,\u001b[0m\u001b[0;34m\u001b[0m\u001b[0;34m\u001b[0m\u001b[0m\n",
            "\u001b[0;32m/usr/local/lib/python3.6/dist-packages/turicreate/toolkits/nearest_neighbors/_nearest_neighbors.py\u001b[0m in \u001b[0;36mquery\u001b[0;34m(self, dataset, label, k, radius, verbose)\u001b[0m\n\u001b[1;32m    931\u001b[0m \u001b[0;34m\u001b[0m\u001b[0m\n\u001b[1;32m    932\u001b[0m         \u001b[0;32mwith\u001b[0m \u001b[0mQuietProgress\u001b[0m\u001b[0;34m(\u001b[0m\u001b[0mverbose\u001b[0m\u001b[0;34m)\u001b[0m\u001b[0;34m:\u001b[0m\u001b[0;34m\u001b[0m\u001b[0;34m\u001b[0m\u001b[0m\n\u001b[0;32m--> 933\u001b[0;31m             \u001b[0mresult\u001b[0m \u001b[0;34m=\u001b[0m \u001b[0m_turicreate\u001b[0m\u001b[0;34m.\u001b[0m\u001b[0mextensions\u001b[0m\u001b[0;34m.\u001b[0m\u001b[0m_nearest_neighbors\u001b[0m\u001b[0;34m.\u001b[0m\u001b[0mquery\u001b[0m\u001b[0;34m(\u001b[0m\u001b[0mopts\u001b[0m\u001b[0;34m)\u001b[0m\u001b[0;34m\u001b[0m\u001b[0;34m\u001b[0m\u001b[0m\n\u001b[0m\u001b[1;32m    934\u001b[0m \u001b[0;34m\u001b[0m\u001b[0m\n\u001b[1;32m    935\u001b[0m         \u001b[0;32mreturn\u001b[0m \u001b[0mresult\u001b[0m\u001b[0;34m[\u001b[0m\u001b[0;34m'neighbors'\u001b[0m\u001b[0;34m]\u001b[0m\u001b[0;34m\u001b[0m\u001b[0;34m\u001b[0m\u001b[0m\n",
            "\u001b[0;32m/usr/local/lib/python3.6/dist-packages/turicreate/extensions.py\u001b[0m in \u001b[0;36m<lambda>\u001b[0;34m(*args, **kwargs)\u001b[0m\n\u001b[1;32m    168\u001b[0m \u001b[0;34m\u001b[0m\u001b[0m\n\u001b[1;32m    169\u001b[0m \u001b[0;32mdef\u001b[0m \u001b[0m_make_injected_function\u001b[0m\u001b[0;34m(\u001b[0m\u001b[0mfn\u001b[0m\u001b[0;34m,\u001b[0m \u001b[0marguments\u001b[0m\u001b[0;34m)\u001b[0m\u001b[0;34m:\u001b[0m\u001b[0;34m\u001b[0m\u001b[0;34m\u001b[0m\u001b[0m\n\u001b[0;32m--> 170\u001b[0;31m     \u001b[0;32mreturn\u001b[0m \u001b[0;32mlambda\u001b[0m \u001b[0;34m*\u001b[0m\u001b[0margs\u001b[0m\u001b[0;34m,\u001b[0m \u001b[0;34m**\u001b[0m\u001b[0mkwargs\u001b[0m\u001b[0;34m:\u001b[0m \u001b[0m_run_toolkit_function\u001b[0m\u001b[0;34m(\u001b[0m\u001b[0mfn\u001b[0m\u001b[0;34m,\u001b[0m \u001b[0marguments\u001b[0m\u001b[0;34m,\u001b[0m \u001b[0margs\u001b[0m\u001b[0;34m,\u001b[0m \u001b[0mkwargs\u001b[0m\u001b[0;34m)\u001b[0m\u001b[0;34m\u001b[0m\u001b[0;34m\u001b[0m\u001b[0m\n\u001b[0m\u001b[1;32m    171\u001b[0m \u001b[0;34m\u001b[0m\u001b[0m\n\u001b[1;32m    172\u001b[0m \u001b[0;32mdef\u001b[0m \u001b[0m_class_instance_from_name\u001b[0m\u001b[0;34m(\u001b[0m\u001b[0mclass_name\u001b[0m\u001b[0;34m,\u001b[0m \u001b[0;34m*\u001b[0m\u001b[0marg\u001b[0m\u001b[0;34m,\u001b[0m \u001b[0;34m**\u001b[0m\u001b[0mkwarg\u001b[0m\u001b[0;34m)\u001b[0m\u001b[0;34m:\u001b[0m\u001b[0;34m\u001b[0m\u001b[0;34m\u001b[0m\u001b[0m\n",
            "\u001b[0;32m/usr/local/lib/python3.6/dist-packages/turicreate/extensions.py\u001b[0m in \u001b[0;36m_run_toolkit_function\u001b[0;34m(fnname, arguments, args, kwargs)\u001b[0m\n\u001b[1;32m    153\u001b[0m     \u001b[0;31m# unwrap it\u001b[0m\u001b[0;34m\u001b[0m\u001b[0;34m\u001b[0m\u001b[0;34m\u001b[0m\u001b[0m\n\u001b[1;32m    154\u001b[0m     \u001b[0;32mwith\u001b[0m \u001b[0mcython_context\u001b[0m\u001b[0;34m(\u001b[0m\u001b[0;34m)\u001b[0m\u001b[0;34m:\u001b[0m\u001b[0;34m\u001b[0m\u001b[0;34m\u001b[0m\u001b[0m\n\u001b[0;32m--> 155\u001b[0;31m         \u001b[0mret\u001b[0m \u001b[0;34m=\u001b[0m \u001b[0m_get_unity\u001b[0m\u001b[0;34m(\u001b[0m\u001b[0;34m)\u001b[0m\u001b[0;34m.\u001b[0m\u001b[0mrun_toolkit\u001b[0m\u001b[0;34m(\u001b[0m\u001b[0mfnname\u001b[0m\u001b[0;34m,\u001b[0m \u001b[0margument_dict\u001b[0m\u001b[0;34m)\u001b[0m\u001b[0;34m\u001b[0m\u001b[0;34m\u001b[0m\u001b[0m\n\u001b[0m\u001b[1;32m    156\u001b[0m     \u001b[0;31m# handle errors\u001b[0m\u001b[0;34m\u001b[0m\u001b[0;34m\u001b[0m\u001b[0;34m\u001b[0m\u001b[0m\n\u001b[1;32m    157\u001b[0m     \u001b[0;32mif\u001b[0m \u001b[0;32mnot\u001b[0m \u001b[0mret\u001b[0m\u001b[0;34m[\u001b[0m\u001b[0;36m0\u001b[0m\u001b[0;34m]\u001b[0m\u001b[0;34m:\u001b[0m\u001b[0;34m\u001b[0m\u001b[0;34m\u001b[0m\u001b[0m\n",
            "\u001b[0;32m/usr/local/lib/python3.6/dist-packages/turicreate/_cython/context.py\u001b[0m in \u001b[0;36m__exit__\u001b[0;34m(self, exc_type, exc_value, traceback)\u001b[0m\n\u001b[1;32m     47\u001b[0m             \u001b[0;32mif\u001b[0m \u001b[0;32mnot\u001b[0m \u001b[0mself\u001b[0m\u001b[0;34m.\u001b[0m\u001b[0mshow_cython_trace\u001b[0m\u001b[0;34m:\u001b[0m\u001b[0;34m\u001b[0m\u001b[0;34m\u001b[0m\u001b[0m\n\u001b[1;32m     48\u001b[0m                 \u001b[0;31m# To hide cython trace, we re-raise from here\u001b[0m\u001b[0;34m\u001b[0m\u001b[0;34m\u001b[0m\u001b[0;34m\u001b[0m\u001b[0m\n\u001b[0;32m---> 49\u001b[0;31m                 \u001b[0;32mraise\u001b[0m \u001b[0mexc_type\u001b[0m\u001b[0;34m(\u001b[0m\u001b[0mexc_value\u001b[0m\u001b[0;34m)\u001b[0m\u001b[0;34m\u001b[0m\u001b[0;34m\u001b[0m\u001b[0m\n\u001b[0m\u001b[1;32m     50\u001b[0m             \u001b[0;32melse\u001b[0m\u001b[0;34m:\u001b[0m\u001b[0;34m\u001b[0m\u001b[0;34m\u001b[0m\u001b[0m\n\u001b[1;32m     51\u001b[0m                 \u001b[0;31m# To show the full trace, we do nothing and let exception propagate\u001b[0m\u001b[0;34m\u001b[0m\u001b[0;34m\u001b[0m\u001b[0;34m\u001b[0m\u001b[0m\n",
            "\u001b[0;31mKeyboardInterrupt\u001b[0m: "
          ]
        }
      ]
    },
    {
      "cell_type": "code",
      "metadata": {
        "id": "qVLnH9mtAwZD",
        "colab_type": "code",
        "colab": {
          "base_uri": "https://localhost:8080/",
          "height": 167
        },
        "outputId": "89337e68-4104-46c6-f3b8-04266e9313b5"
      },
      "source": [
        "print(model_item_content.evaluate(validation_data))"
      ],
      "execution_count": 34,
      "outputs": [
        {
          "output_type": "error",
          "ename": "NameError",
          "evalue": "ignored",
          "traceback": [
            "\u001b[0;31m---------------------------------------------------------------------------\u001b[0m",
            "\u001b[0;31mNameError\u001b[0m                                 Traceback (most recent call last)",
            "\u001b[0;32m<ipython-input-34-05f384bb58c1>\u001b[0m in \u001b[0;36m<module>\u001b[0;34m()\u001b[0m\n\u001b[0;32m----> 1\u001b[0;31m \u001b[0mprint\u001b[0m\u001b[0;34m(\u001b[0m\u001b[0mmodel_item_content\u001b[0m\u001b[0;34m.\u001b[0m\u001b[0mevaluate\u001b[0m\u001b[0;34m(\u001b[0m\u001b[0mvalidation_data\u001b[0m\u001b[0;34m)\u001b[0m\u001b[0;34m)\u001b[0m\u001b[0;34m\u001b[0m\u001b[0;34m\u001b[0m\u001b[0m\n\u001b[0m",
            "\u001b[0;31mNameError\u001b[0m: name 'model_item_content' is not defined"
          ]
        }
      ]
    },
    {
      "cell_type": "code",
      "metadata": {
        "id": "BU60QXqW5swf",
        "colab_type": "code",
        "colab": {
          "base_uri": "https://localhost:8080/",
          "height": 468
        },
        "outputId": "bea3f5b9-fc74-434a-f8a2-224fda6664d9"
      },
      "source": [
        "\n",
        "#item similiarity model\n",
        "model_item_similiarity = tc.recommender.item_similarity_recommender.create(training_data, 'userId', 'movieId', target='rating')\n",
        "results_item_similiarity = model_item_similiarity.recommend()\n",
        "answer =tc.SFrame( model_item_similiarity.predict(validation_data)).to_dataframe()\n",
        "#real = validation_data.to_dataframe()\n",
        "#print (answer)\n",
        "ratingTest_col={'rating':ratings_test_df['rating']}\n",
        "ratingTest_df = pd.DataFrame(ratingTest_col,columns = ['rating'])\n",
        "diff = answer-ratingTest_df.values \n",
        "diff_abs =diff.abs()\n",
        "n = 20000\n",
        "summ = diff_abs.sum()\n",
        "#MAE = diff_abs.sum()\n",
        "print(\"MAE is: \")\n",
        "print(summ/n)\n"
      ],
      "execution_count": 33,
      "outputs": [
        {
          "output_type": "display_data",
          "data": {
            "text/html": [
              "<pre>Warning: Ignoring columns timestamp;</pre>"
            ],
            "text/plain": [
              "Warning: Ignoring columns timestamp;"
            ]
          },
          "metadata": {
            "tags": []
          }
        },
        {
          "output_type": "display_data",
          "data": {
            "text/html": [
              "<pre>    To use these columns in scoring predictions, use a model that allows the use of additional features.</pre>"
            ],
            "text/plain": [
              "    To use these columns in scoring predictions, use a model that allows the use of additional features."
            ]
          },
          "metadata": {
            "tags": []
          }
        },
        {
          "output_type": "display_data",
          "data": {
            "text/html": [
              "<pre>Preparing data set.</pre>"
            ],
            "text/plain": [
              "Preparing data set."
            ]
          },
          "metadata": {
            "tags": []
          }
        },
        {
          "output_type": "display_data",
          "data": {
            "text/html": [
              "<pre>    Data has 100000 observations with 943 users and 1682 items.</pre>"
            ],
            "text/plain": [
              "    Data has 100000 observations with 943 users and 1682 items."
            ]
          },
          "metadata": {
            "tags": []
          }
        },
        {
          "output_type": "display_data",
          "data": {
            "text/html": [
              "<pre>    Data prepared in: 0.129162s</pre>"
            ],
            "text/plain": [
              "    Data prepared in: 0.129162s"
            ]
          },
          "metadata": {
            "tags": []
          }
        },
        {
          "output_type": "display_data",
          "data": {
            "text/html": [
              "<pre>Training model from provided data.</pre>"
            ],
            "text/plain": [
              "Training model from provided data."
            ]
          },
          "metadata": {
            "tags": []
          }
        },
        {
          "output_type": "display_data",
          "data": {
            "text/html": [
              "<pre>Gathering per-item and per-user statistics.</pre>"
            ],
            "text/plain": [
              "Gathering per-item and per-user statistics."
            ]
          },
          "metadata": {
            "tags": []
          }
        },
        {
          "output_type": "display_data",
          "data": {
            "text/html": [
              "<pre>+--------------------------------+------------+</pre>"
            ],
            "text/plain": [
              "+--------------------------------+------------+"
            ]
          },
          "metadata": {
            "tags": []
          }
        },
        {
          "output_type": "display_data",
          "data": {
            "text/html": [
              "<pre>| Elapsed Time (Item Statistics) | % Complete |</pre>"
            ],
            "text/plain": [
              "| Elapsed Time (Item Statistics) | % Complete |"
            ]
          },
          "metadata": {
            "tags": []
          }
        },
        {
          "output_type": "display_data",
          "data": {
            "text/html": [
              "<pre>+--------------------------------+------------+</pre>"
            ],
            "text/plain": [
              "+--------------------------------+------------+"
            ]
          },
          "metadata": {
            "tags": []
          }
        },
        {
          "output_type": "display_data",
          "data": {
            "text/html": [
              "<pre>| 18.01ms                        | 100        |</pre>"
            ],
            "text/plain": [
              "| 18.01ms                        | 100        |"
            ]
          },
          "metadata": {
            "tags": []
          }
        },
        {
          "output_type": "display_data",
          "data": {
            "text/html": [
              "<pre>+--------------------------------+------------+</pre>"
            ],
            "text/plain": [
              "+--------------------------------+------------+"
            ]
          },
          "metadata": {
            "tags": []
          }
        },
        {
          "output_type": "display_data",
          "data": {
            "text/html": [
              "<pre>Setting up lookup tables.</pre>"
            ],
            "text/plain": [
              "Setting up lookup tables."
            ]
          },
          "metadata": {
            "tags": []
          }
        },
        {
          "output_type": "display_data",
          "data": {
            "text/html": [
              "<pre>Processing data in one pass using dense lookup tables.</pre>"
            ],
            "text/plain": [
              "Processing data in one pass using dense lookup tables."
            ]
          },
          "metadata": {
            "tags": []
          }
        },
        {
          "output_type": "display_data",
          "data": {
            "text/html": [
              "<pre>+-------------------------------------+------------------+-----------------+</pre>"
            ],
            "text/plain": [
              "+-------------------------------------+------------------+-----------------+"
            ]
          },
          "metadata": {
            "tags": []
          }
        },
        {
          "output_type": "display_data",
          "data": {
            "text/html": [
              "<pre>| Elapsed Time (Constructing Lookups) | Total % Complete | Items Processed |</pre>"
            ],
            "text/plain": [
              "| Elapsed Time (Constructing Lookups) | Total % Complete | Items Processed |"
            ]
          },
          "metadata": {
            "tags": []
          }
        },
        {
          "output_type": "display_data",
          "data": {
            "text/html": [
              "<pre>+-------------------------------------+------------------+-----------------+</pre>"
            ],
            "text/plain": [
              "+-------------------------------------+------------------+-----------------+"
            ]
          },
          "metadata": {
            "tags": []
          }
        },
        {
          "output_type": "display_data",
          "data": {
            "text/html": [
              "<pre>| 28.125ms                            | 0                | 0               |</pre>"
            ],
            "text/plain": [
              "| 28.125ms                            | 0                | 0               |"
            ]
          },
          "metadata": {
            "tags": []
          }
        },
        {
          "output_type": "display_data",
          "data": {
            "text/html": [
              "<pre>| 257.69ms                            | 100              | 1682            |</pre>"
            ],
            "text/plain": [
              "| 257.69ms                            | 100              | 1682            |"
            ]
          },
          "metadata": {
            "tags": []
          }
        },
        {
          "output_type": "display_data",
          "data": {
            "text/html": [
              "<pre>+-------------------------------------+------------------+-----------------+</pre>"
            ],
            "text/plain": [
              "+-------------------------------------+------------------+-----------------+"
            ]
          },
          "metadata": {
            "tags": []
          }
        },
        {
          "output_type": "display_data",
          "data": {
            "text/html": [
              "<pre>Finalizing lookup tables.</pre>"
            ],
            "text/plain": [
              "Finalizing lookup tables."
            ]
          },
          "metadata": {
            "tags": []
          }
        },
        {
          "output_type": "display_data",
          "data": {
            "text/html": [
              "<pre>Generating candidate set for working with new users.</pre>"
            ],
            "text/plain": [
              "Generating candidate set for working with new users."
            ]
          },
          "metadata": {
            "tags": []
          }
        },
        {
          "output_type": "display_data",
          "data": {
            "text/html": [
              "<pre>Finished training in 0.281549s</pre>"
            ],
            "text/plain": [
              "Finished training in 0.281549s"
            ]
          },
          "metadata": {
            "tags": []
          }
        },
        {
          "output_type": "stream",
          "text": [
            "MAE is: \n",
            "X1    3.477354\n",
            "dtype: float64\n"
          ],
          "name": "stdout"
        }
      ]
    }
  ]
}